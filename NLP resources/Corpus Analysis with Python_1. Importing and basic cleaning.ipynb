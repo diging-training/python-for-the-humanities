{
 "cells": [
  {
   "cell_type": "code",
   "execution_count": 78,
   "metadata": {},
   "outputs": [],
   "source": [
    "import string\n",
    "from nltk.tokenize import word_tokenize\n",
    "from nltk.collocations import BigramCollocationFinder\n",
    "from nltk.collocations import BigramAssocMeasures\n",
    "from nltk.corpus import stopwords\n",
    "from nltk.corpus import PlaintextCorpusReader"
   ]
  },
  {
   "cell_type": "code",
   "execution_count": 2,
   "metadata": {},
   "outputs": [
    {
     "name": "stderr",
     "output_type": "stream",
     "text": [
      "[nltk_data] Downloading package punkt to\n",
      "[nltk_data]     C:\\Users\\kenai\\AppData\\Roaming\\nltk_data...\n",
      "[nltk_data]   Package punkt is already up-to-date!\n"
     ]
    },
    {
     "data": {
      "text/plain": [
       "True"
      ]
     },
     "execution_count": 2,
     "metadata": {},
     "output_type": "execute_result"
    }
   ],
   "source": [
    "nltk.download('punkt')"
   ]
  },
  {
   "cell_type": "code",
   "execution_count": 3,
   "metadata": {},
   "outputs": [],
   "source": [
    "from nltk.corpus import PlaintextCorpusReader"
   ]
  },
  {
   "cell_type": "markdown",
   "metadata": {},
   "source": [
    "# Basics review"
   ]
  },
  {
   "cell_type": "code",
   "execution_count": 4,
   "metadata": {},
   "outputs": [
    {
     "name": "stdout",
     "output_type": "stream",
     "text": [
      "Hello, Ken\n"
     ]
    }
   ],
   "source": [
    "print(\"Hello, Ken\")"
   ]
  },
  {
   "cell_type": "code",
   "execution_count": 5,
   "metadata": {},
   "outputs": [
    {
     "data": {
      "text/plain": [
       "\"What's up,  what's low?\""
      ]
     },
     "execution_count": 5,
     "metadata": {},
     "output_type": "execute_result"
    }
   ],
   "source": [
    "# string type objects are enclosed in quotation marks\n",
    "# + concatenation operatore\n",
    "\n",
    "greet= \"What's up, \"\n",
    "greet + \" what's low?\""
   ]
  },
  {
   "cell_type": "code",
   "execution_count": 6,
   "metadata": {},
   "outputs": [
    {
     "data": {
      "text/plain": [
       "\"WHAT'S UP, \""
      ]
     },
     "execution_count": 6,
     "metadata": {},
     "output_type": "execute_result"
    }
   ],
   "source": [
    "# string methods such as .upper() or .lower() transform a string\n",
    "\n",
    "greet.upper()"
   ]
  },
  {
   "cell_type": "code",
   "execution_count": 7,
   "metadata": {},
   "outputs": [
    {
     "data": {
      "text/plain": [
       "11"
      ]
     },
     "execution_count": 7,
     "metadata": {},
     "output_type": "execute_result"
    }
   ],
   "source": [
    "# len() returns the length of the string\n",
    "\n",
    "len(greet)"
   ]
  },
  {
   "cell_type": "code",
   "execution_count": 8,
   "metadata": {},
   "outputs": [],
   "source": [
    "# lists\n",
    "colors = ['red', 'blue', 'green', 'black', 'white', 'pink']"
   ]
  },
  {
   "cell_type": "code",
   "execution_count": 9,
   "metadata": {},
   "outputs": [
    {
     "data": {
      "text/plain": [
       "6"
      ]
     },
     "execution_count": 9,
     "metadata": {},
     "output_type": "execute_result"
    }
   ],
   "source": [
    "len(colors)"
   ]
  },
  {
   "cell_type": "code",
   "execution_count": 10,
   "metadata": {},
   "outputs": [
    {
     "data": {
      "text/plain": [
       "True"
      ]
     },
     "execution_count": 10,
     "metadata": {},
     "output_type": "execute_result"
    }
   ],
   "source": [
    "# basic search for a word in a list\n",
    "'turqoise' not in colors"
   ]
  },
  {
   "cell_type": "code",
   "execution_count": 11,
   "metadata": {},
   "outputs": [
    {
     "name": "stdout",
     "output_type": "stream",
     "text": [
      "red 3\n",
      "blue 4\n",
      "green 5\n",
      "black 5\n",
      "white 5\n",
      "pink 4\n",
      "Done!\n"
     ]
    }
   ],
   "source": [
    "# for loop to print number of letters for each word\n",
    "for x in colors :\n",
    "    print(x, len(x))\n",
    "print(\"Done!\")"
   ]
  },
  {
   "cell_type": "code",
   "execution_count": 12,
   "metadata": {},
   "outputs": [
    {
     "data": {
      "text/plain": [
       "[3, 4, 5, 5, 5, 4]"
      ]
     },
     "execution_count": 12,
     "metadata": {},
     "output_type": "execute_result"
    }
   ],
   "source": [
    "# or the fast way \n",
    "\n",
    "[len(x) for x in colors]"
   ]
  },
  {
   "cell_type": "code",
   "execution_count": 13,
   "metadata": {},
   "outputs": [
    {
     "data": {
      "text/plain": [
       "['blue', 'white']"
      ]
     },
     "execution_count": 13,
     "metadata": {},
     "output_type": "execute_result"
    }
   ],
   "source": [
    "# list comprehension, building a new list from an existing list\n",
    "\n",
    "[x for x in colors if x.endswith('e')]"
   ]
  },
  {
   "cell_type": "code",
   "execution_count": 14,
   "metadata": {},
   "outputs": [
    {
     "data": {
      "text/plain": [
       "['redish', 'blueish', 'greenish', 'blackish', 'whiteish', 'pinkish']"
      ]
     },
     "execution_count": 14,
     "metadata": {},
     "output_type": "execute_result"
    }
   ],
   "source": [
    "[x+'ish' for x in colors]"
   ]
  },
  {
   "cell_type": "code",
   "execution_count": 15,
   "metadata": {},
   "outputs": [
    {
     "data": {
      "text/plain": [
       "35"
      ]
     },
     "execution_count": 15,
     "metadata": {},
     "output_type": "execute_result"
    }
   ],
   "source": [
    "# Dictionaries\n",
    "\n",
    "Simpsons = {'Homer':35, 'Marge':35, 'Bart':10, 'Lisa':8}\n",
    "Simpsons['Homer']"
   ]
  },
  {
   "cell_type": "markdown",
   "metadata": {},
   "source": [
    "# Using NLTK\n",
    "* NLTK is an external module\n",
    "* Lots of built in functions and created corpora for analysis\n"
   ]
  },
  {
   "cell_type": "markdown",
   "metadata": {},
   "source": [
    "## tokenize function"
   ]
  },
  {
   "cell_type": "code",
   "execution_count": 16,
   "metadata": {},
   "outputs": [
    {
     "data": {
      "text/plain": [
       "['What', \"'s\", 'up', ',']"
      ]
     },
     "execution_count": 16,
     "metadata": {},
     "output_type": "execute_result"
    }
   ],
   "source": [
    "# tokenize is a useful function \n",
    "nltk.word_tokenize(greet)"
   ]
  },
  {
   "cell_type": "code",
   "execution_count": 17,
   "metadata": {},
   "outputs": [
    {
     "name": "stdout",
     "output_type": "stream",
     "text": [
      "Help on function word_tokenize in module nltk.tokenize:\n",
      "\n",
      "word_tokenize(text, language='english', preserve_line=False)\n",
      "    Return a tokenized copy of *text*,\n",
      "    using NLTK's recommended word tokenizer\n",
      "    (currently an improved :class:`.TreebankWordTokenizer`\n",
      "    along with :class:`.PunktSentenceTokenizer`\n",
      "    for the specified language).\n",
      "    \n",
      "    :param text: text to split into words\n",
      "    :type text: str\n",
      "    :param language: the model name in the Punkt corpus\n",
      "    :type language: str\n",
      "    :param preserve_line: An option to keep the preserve the sentence and not sentence tokenize it.\n",
      "    :type preserve_line: bool\n",
      "\n"
     ]
    }
   ],
   "source": [
    "help(nltk.word_tokenize)"
   ]
  },
  {
   "cell_type": "code",
   "execution_count": 18,
   "metadata": {},
   "outputs": [
    {
     "data": {
      "text/plain": [
       "['You', 'have', 'not', 'seen', 'Game', 'of', 'Thrones', '...', '?']"
      ]
     },
     "execution_count": 18,
     "metadata": {},
     "output_type": "execute_result"
    }
   ],
   "source": [
    "gotsent = \"You have not seen Game of Thrones...?\"\n",
    "nltk.word_tokenize(gotsent)"
   ]
  },
  {
   "cell_type": "code",
   "execution_count": 19,
   "metadata": {},
   "outputs": [
    {
     "name": "stdout",
     "output_type": "stream",
     "text": [
      "['Rose', 'is', 'a', 'rose', 'is', 'a', 'rose', 'is', 'a', 'rose', '.']\n"
     ]
    }
   ],
   "source": [
    "sentrose = 'Rose is a rose is a rose is a rose.'\n",
    "toks = nltk.word_tokenize(sentrose)\n",
    "print(toks)"
   ]
  },
  {
   "cell_type": "code",
   "execution_count": 20,
   "metadata": {},
   "outputs": [
    {
     "data": {
      "text/plain": [
       "FreqDist({'is': 3, 'a': 3, 'rose': 3, 'Rose': 1, '.': 1})"
      ]
     },
     "execution_count": 20,
     "metadata": {},
     "output_type": "execute_result"
    }
   ],
   "source": [
    "# dictionary count of each word including punctuation\n",
    "freq = nltk.FreqDist(toks)\n",
    "freq"
   ]
  },
  {
   "cell_type": "code",
   "execution_count": 21,
   "metadata": {},
   "outputs": [
    {
     "data": {
      "text/plain": [
       "[('is', 3), ('a', 3), ('rose', 3)]"
      ]
     },
     "execution_count": 21,
     "metadata": {},
     "output_type": "execute_result"
    }
   ],
   "source": [
    "freq.most_common(3)"
   ]
  },
  {
   "cell_type": "code",
   "execution_count": 22,
   "metadata": {},
   "outputs": [
    {
     "data": {
      "text/plain": [
       "5"
      ]
     },
     "execution_count": 22,
     "metadata": {},
     "output_type": "execute_result"
    }
   ],
   "source": [
    "len(freq)"
   ]
  },
  {
   "cell_type": "markdown",
   "metadata": {},
   "source": [
    "## Removing punctuation"
   ]
  },
  {
   "cell_type": "code",
   "execution_count": 23,
   "metadata": {},
   "outputs": [],
   "source": [
    "gotsent = \"You have not seen Game of Thrones...?\""
   ]
  },
  {
   "cell_type": "code",
   "execution_count": 24,
   "metadata": {},
   "outputs": [],
   "source": [
    "gottokenize = nltk.word_tokenize(gotsent)"
   ]
  },
  {
   "cell_type": "code",
   "execution_count": 25,
   "metadata": {},
   "outputs": [
    {
     "name": "stdout",
     "output_type": "stream",
     "text": [
      "['You', 'have', 'not', 'seen', 'Game', 'of', 'Thrones']\n"
     ]
    }
   ],
   "source": [
    "gotnew = [word for word in gottokenize if word.isalnum()]\n",
    "print(gotnew)"
   ]
  },
  {
   "cell_type": "code",
   "execution_count": 26,
   "metadata": {},
   "outputs": [
    {
     "name": "stdout",
     "output_type": "stream",
     "text": [
      "['You', 'have', 'not', 'seen', 'Game', 'of', 'Thrones']\n"
     ]
    }
   ],
   "source": [
    "# or \n",
    "\n",
    "tokenizer = nltk.RegexpTokenizer(r\"\\w+\")\n",
    "newgot = tokenizer.tokenize(gotsent)\n",
    "print(newgot)"
   ]
  },
  {
   "cell_type": "markdown",
   "metadata": {},
   "source": [
    "# Processing a single text file"
   ]
  },
  {
   "cell_type": "code",
   "execution_count": 27,
   "metadata": {},
   "outputs": [
    {
     "name": "stdout",
     "output_type": "stream",
     "text": [
      "Buford Microbiome (2017) 5:80\n",
      "DOI 10.1186/s40168-017-0296-0\n",
      "\n",
      "\n",
      "\n",
      "\n",
      "\n",
      "(Dis)Trust your gut: the gut microbiome in age-related inflammation, health, and disease\n",
      "Thomas W. Buford\n",
      "\n",
      "\n",
      "\n",
      "\n",
      "\n",
      "\n",
      "\n",
      "\n",
      "\n",
      "\n",
      "\n",
      "\n",
      "\n",
      "\n",
      "\n",
      "\n",
      "Background\n",
      "In humans, aging is a continual and progressive process that results in decreased physiologic function across all organ systems  These physiologic decrements result in an increased vulnerability to infection and disease that dramatically elevates mortality risk   Compared to persons 25-44 years of age, mortality risk among older adults is elevated by 100-fold for stroke and chronic lung disease, roughly 90-fold for heart disease, pneumonia, and influenza, and over 40-fold for cancer Given the rapid increase in life expectancy and increasing propor- tion of older adults within the population [ an in- creased understanding of the biologic mechanisms which underlie age-related increases in disease preva- lence are warranted.\n",
      "\n",
      "Aging and inflammation\n",
      "Though the etiologies of age-related diseases are quite diverse, significant evidence implicates chronic, low- grade inflammation as one of the most consistent bio- logic features of both chronological aging and various\n",
      "\n",
      "Correspondence: \n",
      "Department of Medicine, University of Alabama at Birmingham, 933 19th Street South, Birmingham, AL 35294, USA\n",
      "\n",
      "\n",
      "age-related diseases/disorders - In fact, a recent PubMed search for the terms \"aging and inflammation\" revealed nearly 10000 publications in this area (Fig.  with this pair of risk factors implicated in the pathobiol- ogy of a wide variety of diseases and disorders across nearly every organ system (Fig. \n",
      "Inflammation is commonly recognized as a localized response to tissue injury or infection that aids in the re- pair of damaged tissue and/or destruction of the harmful agent Classically characterized by pain, heat, redness, swelling, and loss of function, acute inflammation is typ- ically resolved (in healthy individuals) in relatively short order to promote the restoration of tissue function. However, during advanced age, the ability to resolve in- flammation becomes impaired leading to sustained  tis- sue infiltration of leukocytes and the chronic release of pro-inflammatory cytokines and chemokines  As a result, the initial local event has long-term systemic consequences.\n",
      "Indeed, elevations in pro-inflammatory mediators such as interleukin-6 (IL-6), C-reactive protein (CRP), and tumor necrosis factor alpha (TNF-a) have been consist- ently reported during late adulthood even in the absence of acute infection -Though it is unknown if these\n",
      "\n",
      "\n",
      "(c) The Author(s). 2017 Open Access This article is distributed under the terms of the Creative Commons Attribution 4.0 International License which permits unrestricted use, distribution, and reproduction in any medium, provided you give appropriate credit to the original author(s) and the source, provide a link to the Creative Commons license, and indicate if changes were made. The Creative Commons Public Domain Dedication waiver applies to the data made available in this article, unless otherwise stated.\n",
      "\n",
      "\n",
      "\n",
      "\n",
      "\n",
      "\n",
      "\n",
      "\n",
      "\n",
      "\n",
      "\n",
      "\n",
      "\n",
      "\n",
      "\n",
      "\n",
      "\n",
      "\n",
      "\n",
      "\n",
      "\n",
      "\n",
      "\n",
      "inflammatory mediators directly cause adverse health out- comes, chronic low-grade inflammation has been associ- ated with the prevalence of a wide-range of age-related co- morbidities--cardiovascular disease -insulin resist- ance and diabetes [-osteoporosis [-cognitive decline and dementia -], frailty and disability - and cancer ---as well as mortality -\n",
      "Though factors such as obesity and insulin resistance, smoking, and changes in circulating sex hormone con- centrations have been associated with age-related in- flammation  the largest contributor to increases in\n",
      "\n",
      "\n",
      "inflammatory mediators has traditionally  been  thought  to decrease in the efficiency of the immune system, i.e., immuno-senescence   Immuno-senescence is char- acterized by thymus atrophy, reductions in neutrophil function, naive T cell number, and the cytotoxic capacity of natural killer cells, and lowered B-cell antibody pro- duction in response to antigen   ].  The  most widely held belief regarding the cause of immune- senescence is that chronic lifetime antigenic burden exhausts a finite capacity of the organism's immune system    Therefore, we exchange protection against infection for long-term risks of chronic in- flammation and disease  \n",
      "Very recently, however, emerging evidence has sug- gested that the gut microbiome may play an integral role in these age-related inflammatory changes. Recent evi- dence indicates that advanced age is associated with changes in microbiota composition characterized by a  loss of diversity in the core taxa  Moreover, these age-related changes in the microbiome have also been recently associated with key geriatric syndromes includ- ing physical frailty  and dementia  ].  Therefore, the objective of this review is to discuss the available evidence related to gut microbiome and aging, with par- ticular emphasis on age-related inflammation and associ- ated diseases/conditions.\n",
      "\n",
      "The gut microbiome and health\n",
      "The human intestinal tract (i.e., \"gut\") is  inhabited  by over 100 trillion microorganisms; including over 1000\n",
      "\n",
      "\n",
      "\n",
      "\n",
      "\n",
      "\n",
      "\n",
      "species of known bacteriThese organisms have co- evolved with humans over millennia to live together for mutual benefit    Though commonly  overlooked in considerations of human health and disease treatment (hence the nickname the \"forgotten organ\" gut mi- croorganisms encode >150 times more genes than the human genome and are highly involved in numerous metabolic reactions which influence normal host physiology and metabolism [ 8]. In fact, an enor- mous portion of the body's constitutive immune  func- tion is dedicated to maintaining homeostasis with the microbiota, as evidenced by the fact that 70% of the body's lymphocytes reside in the gut-associated lymphoid tissue \n",
      "Given the substantial portion of the immune system dedicated to maintaining host relationship with the microbiome, it is perhaps unsurprising that gut micro- biota are heavily involved in local inflammatory re- sponses to acute injury and/or infection. Indeed, commensal bacteria are a critical regulator of regulatory immune responses including tolerance--the active sup- pression of inflammatory responses to food and other orally ingested antigens  In fact, these bacteria are known to play a protective role in acute inflammatory responses to injury at least in part through toll-like re- ceptor (TLR) activation to promote tissue repair and survival  Moreover, immune cells also regulate in- flammation in intestinal injury and allergy via recogni- tion of short-chain fatty acids (SCFA) produced via bacterial breakdown of indigestible dietary components such as fiber \n",
      "Failure to regulate these responses is well- established as a contributor to the development of food allergies and/or various inflammatory bowel dis- eases affecting the gut. More recently, however, it has become apparent that changes to  microbial  compos-  ition and density can  alter  immunity  and  inflamma- tion within organs distal from the intestine  For example, the reduction of beneficial gut bacteria via antibiotic treatment has demonstrated impaired systemic allergic inflammatory responses as well as immune responses to viral (influenza) infections [-]. Though beyond the scope of the current review, I refer readers to an excellent review by Belkaid and Hand [] for in-depth discussion of the potential mechanisms underlying microbiota-based changes to systemic immun- ity and inflammation.\n",
      "In line with known interactions of  the  microbiome with the systemic circulation and distal tissues, gut dysbiosis--commonly defined as a disturbance of or change in the density and/or composition of gut microbiota--has been linked to a wide variety of diseases and health conditions (Fig. ). These conditions include cystic fibrosis [], inflammatory bowel conditions\n",
      "\n",
      "\n",
      "(irritable bowel syndrome, Crohn's disease, and colon can- cer [-], neurological diseases (Parkinson's disease, Alzheimer's disease, and multiple sclerosis)) [-], metabolic diseases (obesity and diabetes) [, ], as well as musculoskeletal conditions (frailty, osteoporosis, rheumatoid arthritis, and gout) , -]. Notably, as evidenced by the remarkable similarity between Fig. b, the majority of these conditions exhibit age-related increases in incidence. Accordingly, it seems relevant to explore the possibility that age-related inflammation may stem at least partially from changes to the gut microbiome.\n",
      "\n",
      "The aging gut microbiome\n",
      "As noted above, the human ageing process  is  associ-  ated with gradual declines in function across virtually every bodily organ. In contrast, however, the bacterial organisms in the  gut  do  not age  per  se  and  thus might be unexpected  to  follow  the  typical  trajectory of physiological decline seen elsewhere  in the  body  And yet, as pointed out by O'Toole  and  Jeffery  older individuals often experience gut-associated comorbidities, changes in diet and physical activity patterns, and other gut-related physiologic changes which may influence gut bacteria. Thus, questions  persist regarding how such changes  may  interact  with gut bacteria to influence microbiome composition and function.\n",
      "Compared to evidence related to aging and inflam- mation, less is known regarding associations between aging and the microbiome. In fact, in contrast to the thousands of peer-reviewed publications on aging and inflammation, a PubMed search for \"aging and micro- biome\" yielded only 466 results and a search for \"aging and dysbiosis\" yielded a  mere  34.  Moreover, only a handful of studies to date have investigated the aging microbiome in humans (Table ).  Still,  at  least two early studies in this area have documented that advanced age is associated with changes to both the composition and stability of gut microbiota  [   Biagi et al. reported that a group of centenarian from Northern Italy displayed low species diversity com- pared to younger adults (~30 years of age). They also noted specific changes within Firmicutes  (one  of  the two dominant phyla commonly found in the gut) sub- groups and enrichment of Proteobacteria--a group containing many opportunistic bacteria which can overtake commensal bacteria and induce pathology   These microbiome changes were also character- ized by a loss of genes for short-chain fatty acid pro- duction and an overall decrease in the saccharolytic potential, while proteolytic functions were more abun- dant than in the intestinal  metagenome  of  younger adults  Interestingly, these changes in bacterial\n",
      "\n",
      "\n",
      "\n",
      "\n",
      "\n",
      "Table 1 Studies investigating aging and the gut microbiome humans\n",
      "Study\tN\tPopulation Age\tAge-affected microbiota\tAge effect Additional details\n",
      "\n",
      "Hopkins et al. (2002) []\n",
      "\n",
      "15\tBritish\t21-34 years 67-88 years\n",
      "67-73 years CDAD\n",
      "\n",
      "Bacteroides species diversity\t|\n",
      "Bifidobacteria species diversity\t|\n",
      "\n",
      "CDAD patients had greater diversity lactobacilli/clostridia but reducted bacteriodes, prevotella, and bifidobacteria\n",
      "\n",
      "Hayashi et al. (2003) []\n",
      "\n",
      "6\tJapanese\t79-84 yearsa\tClostridium rRNA subcluster XIVa\t|\n",
      "Bifidobacteria # Ruminoccoccus obeum\n",
      "\n",
      "Woodmansey et al. (2004) []\n",
      "\n",
      "28\tBritish\t19-35 years 67-75 years 73-101 years HE\n",
      "\n",
      "Bacterioides\n",
      "Bifidobacteria (no. and diversity)\n",
      "\n",
      "|\tHospitalized patients displayed age- related changes along with increased proteolytic bacteria no. and diversity\n",
      "\n",
      "Van Tongeren et al. (2005) []\n",
      "\n",
      "23\tDutch\t70-100 years\tN/A\tN/A\tHigh frailty scores associated with reduced lactobacilli, bacteroides, prevotella no.; increased enterobacteria\n",
      "\n",
      "Biagi et al. (2010) []\n",
      "\n",
      "Claesson et al. (2011) []\n",
      "\n",
      "84  Italian   25-40 years 59-78 years 99-104 years\n",
      "170\tIrish\t28-46 years\n",
      ">65 years\n",
      "\n",
      "Clostridium cluster XIVa Bacilli\n",
      "Proteobacteria\n",
      "Firmicutes Clostridium cluster IV Ruminococcaceae\n",
      "\n",
      "|\tYoung and elderly showed similar\n",
      "|\tmicrobiota, while differences observed\n",
      "|\tin centenarians only.\n",
      "|\n",
      "|\n",
      "|\n",
      "\n",
      "Claesson et al. (2012) []\n",
      "\n",
      "191\tIrish\t28-46 years 64-102 years\n",
      "\n",
      "N/A\tN/A\tMicrobiota composition clustered by diet and residence location + significantly correlated with frailty, co-morbidity, and inflammation\n",
      "\n",
      "Rampelli et al. (2013) []\n",
      "\n",
      "9\tItalian\t38-102 years\tBacterial DNA gene expression for: |\n",
      "short-chain fatty acid production | Proteolytic functions\t| Pathobionts\n",
      "\n",
      "Jeffery et al. (2016) []\n",
      "\n",
      "371\tIrish\t64-102 years\tN/A\tN/A\tLongitudinal samples revealed temporal instability of microbiota\n",
      "Low microbial diversity associated with greater temporal instability\n",
      "Long-term care stays and antibiotic use associated with increased alterations in microbial composition and diversity\n",
      "\n",
      "Jackson et al. (2016) []\n",
      "\n",
      "1008 British\n",
      "Irish\n",
      "\n",
      "42-102 years\tN/A\tN/A\tRobust associations between frailty and gut microbiota\n",
      "F. prausnitzii negatively associated\n",
      "E. dolichum and E. lenta positively associated\n",
      "\n",
      "Odamaki et al. (2016) []\n",
      "\n",
      "367\tJapanese\t0-104 years\tProteobacteria/Bacteroidetes\t|\n",
      "Firmicutes/Actinobacteria\t|\n",
      "\n",
      "Cattaneo et al. (2017) []\n",
      "\n",
      "83\tItalian\tMean ~ 70 yearsb  N/A\tN/A\tGut microbial populations and peripheral inflammatory cytokines associated with cognitive impairment and brain amyloidosis\n",
      "\n",
      "CDAD clostridium difficile-associated diarrhea, aAge-effect compared to prior study of young adults; HE hospitalized elderly patients on antibotics, brange and overall mean for the full study not reported (reported by study group)\n",
      "\n",
      "\n",
      "\n",
      "content were also moderately associated with  circulat- ing plasma concentrations of inflammatory cytokines interleukins six (IL-6) and eight (IL-8). Surprisingly, however, despite these interesting findings among the centenarians, this group did not find significant differ- ences in microbiota composition between the younger adults and a  group  of  older  adults  with  an  average age of 70 years.\n",
      "In contrast, findings from the Irish  ELDERMET cohort ] did indicate alterations in the core\n",
      "\n",
      "microbiota of persons over 65 years of age. These changes were generally characterized by a greater proportion of Bacteroides  spp.  and distinct  abun- dance patterns of Clostridium groups compared to younger individuals.  Older  individuals  also  displayed a loss of diversity-associated taxa,  including  Prevo- tella and associated genera ,  which can con- tribute to instability in the microbiome composition. However, the authors noted that   the   variability   in the microbiota profiles of the older persons was\n",
      "\n",
      "\n",
      "\n",
      "\n",
      "\n",
      "\n",
      "quite large--making phenotype prediction difficult. Several key factors--particularly diet and the use of antibiotics--were key predictors of these changes in  both community-dwelling seniors and residents of long-term care facilities. These factors, diet in par- ticular, could potentially explain differences between findings from the Italian and Irish cohorts. As such, these and other relevant factors necessitate the con- tinued study of the microbiome across populations.\n",
      "Notably, data from the ELDERMET cohort  revealed an interesting potential association with   physical frailty as evidenced by differences among older  per- sons living in long-term care and/or rehabilitation fa- cilities compared to community-dwelling peers [ These differences were also associated with several systemic markers of inflammation  including  IL-6,  IL-  8, CRP, and  TNF-a.  The  association  with  frailty  in the cohort was recently demonstrated more formally along with concordant findings from 728 female  twins enrolled in the Healthy Ageing Twin Study  These findings  were similar  to  those  from  a prior small cohort of older adults  from The Netherlands [ Thus, available data suggest   that the gut microbiome  may  play  at  least  some  role  in the development of physical frailty among   the  elderly.\n",
      "Similarly, early findings now suggest that gut dys- biosis may contribute to age-related declines  in cognitive function. Cattaneo  et  al.  recently  reported that brain amyloidosis and peripheral inflammation  among cognitively impaired elders was associated with the abundance of pro- and   anti-inflammatory  gut microbiota [ Indeed, brain amyloid   content and circulating inflammatory analytes were positively associated with the inflammatory bacteria taxon Escherichia/Shigella  and negatively associated  with the anti-inflammatory E. rectale taxon. To my know- ledge, these are the first data directly linking the gut microbiota to age-related cognitive decline, though numerous studies in other models (e.g., Parkinson's, multiple sclerosis, animal models of Alzheimer's disease) exist to indicate a well-defined gut-brain axis which could contribute to age-related dementias [  6].  Given the dramatic public health implications of un- derstanding and intervening upon age-related demen- tias, continued research in this area seems highly warranted.\n",
      "\n",
      "Etiology of age-related changes in the microbiome\n",
      "The precise etiologic explanation for these age-related changes remains incomplete. Across the  age- spectrum, dramatic increases in the use of antibiotics\n",
      "\n",
      "\n",
      "and increasing pervasiveness of a high-saturated  fat and high-sugar \"western\" diet are proposed to directly contribute to the depletion of important beneficial components of the microbiome [  In  turn, these changes contribute to chronic activation of the immune system and a dramatic rise in  the prevalence of chronic inflammatory disorders. These two factors also represent key modifiable health factors  which may contribute to exacerbated dysbiosis among older adults.\n",
      "In the United States of America, rates of antibiotic prescription actually dropped from 2000-2010 among children and young to middle-aged adults [ In contrast, prescription rates increased among older adults with the most dramatic increases seen among persons >=80 years of age  Additionally, rates of antibiotic prescription have risen  substantially in  re- cent years in residential care facilities  These trends may at least partially explain age-related changes in the microbiome, particularly those ob- served in the ELDERMET cohort among residents of long-term care facilities.\n",
      "Similarly, age-related changes in nutrient intake   may also contribute to late-life dysbiosis. It is well- recognized that diet is  one  of  the  primary  contribu- tors to gut health. Advanced age is associated with deterioration in various aspects of nutrient intake and absorption including dentition, salivary function, di- gestion, and intestinal transit time   Sensory changes, including taste and smell, may also alter the appetite making certain foods unappealing and thus altering eating habits [ It is possible that these changes contribute to dysbiosis though it may be  more likely that altered immune responses to \"inflam- matory\" foods among older adults may exacerbate mi- crobial changes.\n",
      "Another prominent possibility is that chronic activa- tion of the  innate  and  adaptive  immune  systems  due to immunosenescence contributes to an  altered bac-  terial composition in the gut. Such an affect may manifest at least partially due to known increases in hypothalamus-pituitary-adrenal (HPA) axis activity in advanced age [ as HPA-mediated inflammatory stress responses are known to induce to both immune dysregulation [ and dysbiosis  Conversely, however, it remains possible--given the known in- flammatory effects of dysbiosis--that changes to the microbiome due to other factors (e.g., diet) exacerbate inflammation and altered immunity. Thus, it is  pres- ently difficult to decipher the temporal relationship between these changes. Furthermore, this known interplay suggests a tantalizing hypothesis that the processes of immunosenescence and dysbiosis may in  fact be interdependent.\n",
      "\n",
      "\n",
      "\n",
      "\n",
      "\n",
      "\n",
      "Moreover, physical changes to the  intestinal  epithe-  lial barrier may play a role  in  dysbiosis  and  age- related inflammation. Jakobsson et al. previously dem- onstrated  that  the composition  of the  gut  microbiota  is directly related to the leaky gut   Recent  evi- dence suggests now that intestinal permeability may increase with age. Man et al.  recently  demon- strated that, compared to younger adults, ileal tissues  from older adults demonstrated increased IL-6 con- centrations that were accompanied by increased intes- tinal permeability as a result of elevated  claudin-2. These data provide novel evidence from humans indi- cating the likelihood of a \"leaky  gut\" during  advanced age whereby the intestinal barrier preventing harmful substances from reaching the bloodstream is perme- ated. The leaky gut is well-associated with  inflammatory bowel conditions but is now being proposed as a contributor to a wide variety of  health conditions  --with particular interest in a gut-brain axis which regulates the blood brain barrier [, , , ].\n",
      "Though somewhat speculative at present, it is  pos- sible that the leaky gut is a primary source of inflam- mation  long-observed  within  the circulation.  Studies in Drosophila have  reported  that  age-related  changes in the microbiome increase intestinal permeability\n",
      " and drive chronic inflammation []. More re- cently, Thevaranjan et al.  were the first to our knowledge to publish work from mammals directly supporting this hypothesis. Using germ-free and con- ventionally raised mice, this group reported that the germ-free animals did not display an age-related in- crease in systemic pro-inflammatory cytokines. More- over, co-housing germ-free with old--but not young--conventionally raised mice increased circulat-  ing pro-inflammatory cytokines   Anti-TNF  ther- apy also reversed age-related microbial   changes. These data are the strongest to date suggesting  the critical role of gut changes in driving age-related in- flammation and provide a solid  backdrop  for  contin- ued investigation in this area.\n",
      "\n",
      "Potential intervention strategies\n",
      "Though additional research is certainly needed in this area, the aforementioned data do suggest that interven- tions designed to target the gut microbiome may be cap- able of producing beneficial effects on age-related inflammation and overall health. To date, research on such interventions is as limited as that on the aging microbiome in general. Still, within this small evidence base are some intriguing and promising findings that support the concept of intervening upon the microbiome.\n",
      "Interestingly, some of the most  promising  strategies are not truly \"gut-specific\" but rather well-known\n",
      "\n",
      "\n",
      "interventions which are increasingly recognized to have beneficial effects on the gut microbiome. For in- stance, dietary habits appear to be one of the biggest drivers of gut health and microbiota composition - Specifically, adherence to a high-fat diet commonly seen in Western cultures appears to   be one of the driving factors in gut dysbiosis   Accordingly, interventions such as caloric restriction and/or implementing a Mediterranean-style diet  may hold promise for balancing  the  gut  microbiome  [, . Moreover, studies exist to suggest  potential  bene- fits to specific dietary choices and/or nutritional sup- plements including (but not necessarily limited to) coffee [], resveratrol [00], quercetin  and/or other polyphenol compounds  Interestingly,  many of these strategies have previously been  pur- ported to have anti-inflammatory and/or healthy aging properties. These new data suggest that perhaps influ- ences at the level of the gut may be at least partially responsible for these purported benefits. However, studies are needed that specifically evaluate the influ- ence of dietary changes on the  gut  microbiome  and other health parameters among older adults.\n",
      "Similarly, physical exercise is a clinically recom- mended intervention with well-established health ben- efits which is now purported to have important benefits on the gut - Recent studies in la- boratory animals have demonstrated that aerobic ex- ercise provides a  variety of beneficial  effects  on  the gut including enhancing epithelial membrane integrity  increasing microbial diversity [-9], and\n",
      "attenuating intestinal inflammation [1   However, few human studies in this area have been published to date. Recently, Clarke et al. [ recently reported that professional athletes (rugby players) displayed a higher diversity of gut micro- organisms compared  to age-matched  controls. However, extensive additional findings from human- s--particularly in the form of  longitudinal  interven-  tion studies--are needed to confirm these beneficial effects. Moreover, to my knowledge, no studies  (hu- man or animal) have evaluated the influence of  exer- cise on the gut microbiome in late life. Additionally, questions remain regarding the effects of exercise modality and if these observed effects are specific to aerobic exercise compared to resistance training.\n",
      "Perhaps not surprisingly, dietary supplementation  with probiotics also appears to be among the most promising interventions for re-balancing the gut microbiome. Well-known actions of probiotics include antimicrobial activity, enhancement of  intestinal bar- rier  function,  and  immunomodulation  via  actions  on   a wide variety of immune  cells  [  In  line  with these established mechanisms, studies among older\n",
      "\n",
      "\n",
      "\n",
      "\n",
      "\n",
      "\n",
      "adults have demonstrated beneficial effects of pro- biotic preparations on gut microflora composition -6] and systemic immunity [- van Beek et al. also recently reported that 10 weeks of supplementation with the probiotic Lactobacillus plantarum WCFS1 prevented age-related decline   in the colon mucus barrier in a  mouse model of acceler- ated aging [  Probiotics  have  also  been  proposed  to potentially have anti-inflammatory properties ]. Such an effect seems plausible given the effects of probiotics on the immune system. To date, several studies have investigated this potential anti- inflammatory affect with  the  overall  effect  appearing to be modest , ---though more definitive research in this area is certainly warranted.\n",
      "More research is also  needed  regarding  the  ability  to utilize probiotics as a vehicle to deliver other therapeutic compounds. Indeed, genetically modified probiotics have been purported as highly promising treatment strategies [- as they offer a poten- tially efficacious method to deliver drugs or other therapeutic proteins with  precision  and a higher  degree of site specificity than conventional drug regi- mens  For instance, Steidler et al. previously reported on the utility of Lactococcus lactis as  a vehicle for delivering IL-10 for the treatment of in- flammatory bowel disease  Elsewhere this strat- egy has been proposed as a potential method of delivering antihypertensive therapeutics   Given the relative infancy of this field, however, the overall body of literature in this area is sparse.\n",
      "\n",
      "\n",
      "Future studies are certainly  warranted  on  the  poten-  tial utility of genetically modified probiotics in the treatment of age-related inflammation and associated diseases.\n",
      "\n",
      "\n",
      "Conclusions\n",
      "As the population ages across developed nations worldwide, the need for healthcare  solutions  to  ease  the burden of age-related diseases  grows.  Treatments for chronic inflammation represent a particularly promising strategy given the observation of inflam- mation in \"healthy aging\" as well as nearly every age-related disorder or disease. Growing evidence in- dicates that the gut microbiome  may represent  a  novel site of intervention for the prevention and/or treatment of late-life inflammation. A variety of bio- logic, medical, and lifestyle factors appear to contrib-  ute to gut dysbiosis in late-life, and interventions specifically designed to target these factors may be useful in restoring microbial balance and attenuating inflammation (Fig. ). Still, much remains to be un- raveled as it relates to the influence of the gut microbiome on age-related  inflammation--particu- larly as it relates to the potential efficacy of gut-  directed interventions.  Thus,  this field  appears  to offer great opportunities for aging-related research. I look forward  to continued  investigation  in this  area as it has the potential to yield tremendous break-  throughs for improving the  health  and  quality  of  life of older persons.\n",
      "\n",
      "\n",
      "\n",
      "\n",
      "\n",
      "\n",
      "\n",
      "Abbreviations\n",
      "CRP: C-reactive protein; HPA: Hypothalamus-pituitary-adrenal; IL-6: Interleukin 6; IL-8: Interleukin 8; SCFA: Short-chain fatty acids; TLR: Toll-like receptor;\n",
      "TNF-a: Tumor necrosis factor alpha\n",
      "\n",
      "Acknowledgments\n",
      "None\n",
      "\n",
      "Funding\n",
      "No funding was necessary to complete the present review.\n",
      "\n",
      "Availability of data and materials\n",
      "Data sharing not applicable to this article as no datasets were generated or analyzed during the current study.\n",
      "\n",
      "Author contributions\n",
      "Dr. Buford is responsible for all aspects of the article.\n",
      "\n",
      "Ethics approval and consent to participate\n",
      "Not applicable\n",
      "\n",
      "Consent for publication\n",
      "Not applicable\n",
      "\n",
      "Competing Interests\n",
      "The author declares that there are no competing interests associated with this manuscript.\n",
      "\n",
      "Publisher's Note\n",
      "Springer Nature remains neutral with regard to jurisdictional claims in published maps and institutional affiliations.\n",
      "\n",
      "Received: 9 May 2017 Accepted: 4 July 2017\n",
      "\n",
      "\n",
      "References\n",
      "Franceschi C, Motta L, Motta M, Malaguarnera M, Capri M, Vasto S, Candore G, Caruso C, IMUSCE. The extreme longevity: the state of the art in Italy. Exp Gerontol. 2008;43(2):45-52.\n",
      "Troen BR. The biology of aging. Mt Sinai J Med. 2003;70(1):3-22.\n",
      "Candore G, Colonna-Romano G, Balistreri CR, Di Carlo D, Grimaldi MP, Listi F, Nuzzo D, Vasto S, Lio D, Caruso C. Biology of longevity: role of the innate immune system. Rejuvenation Res. 2006;9(1):143-8.\n",
      "Buford TW. Hypertension and aging. Ageing Res Rev. 2016;26:96-111.\n",
      "Cevenini E, Caruso C, Candore G, Capri M, Nuzzo D, Duro G, Rizzo C, Colonna-Romano G, Lio D, Di Carlo D, Palmas MG, Scurti M, Pini E, Franceschi C, Vasto S. Age-related inflammation: the contribution of different organs, tissues and systems. How to face it for therapeutic approaches. Curr Pharm Des. 2010;16(6):609-18.\n",
      "Chung HY, Cesari M, Anton S, Marzetti E, Giovannini S, Seo AY, Carter C, Yu BP, Leeuwenburgh C. Molecular inflammation: underpinnings of aging and age-related diseases. Ageing Res Rev. 2009;8(1):18-30.\n",
      "Singh T, Newman AB. Inflammatory markers in population studies of aging. Ageing Res Rev. 2011;10(3):319-29.\n",
      "Vasto S, Candore G, Balistreri CR, Caruso M, Colonna-Romano G, Grimaldi MP, Listi F, Nuzzo D, Lio D, Caruso C. Inflammatory networks in ageing, age-related diseases and longevity. Mech Ageing Dev. 2007; 128(1):83-91.\n",
      "Sarkar D, Fisher PB. Molecular mechanisms of aging-associated inflammation. Cancer Lett. 2006;236(1):13-23.\n",
      "Wei J, Xu H, Davies JL, Hemmings GP. Increase of plasma IL-6 concentration with age in healthy subjects. Life Sci. 1992;51(25):1953-6.\n",
      "Ershler WB, Sun WH, Binkley N, Gravenstein S, Volk MJ, Kamoske G, Klopp RG, Roecker EB, Daynes RA, Weindruch R. Interleukin-6 and aging: blood levels and mononuclear cell production increase with advancing age and\n",
      "in vitro production is modifiable by dietary restriction. Lymphokine Cytokine Res. 1993;12(4):225-30.\n",
      "Fagiolo U, Cossarizza A, Scala E, Fanales-Belasio E, Ortolani C, Cozzi E, Monti D, Franceschi C, Paganelli R. Increased cytokine production in mononuclear cells of healthy elderly people. Eur J Immunol. 1993;23(9):2375-8.\n",
      "\n",
      "\n",
      "Tracy RP, Lemaitre RN, Psaty BM, Ives DG, Evans RW, Cushman M, Meilahn EN, Kuller LH. Relationship of C-reactive protein to risk of cardiovascular disease in the elderly. Results from the Cardiovascular Health Study and the Rural Health Promotion Project. Arterioscler Thromb Vasc Biol. 1997;17(6): 1121-7.\n",
      "Cesari M, Penninx BW, Newman AB, Kritchevsky SB, Nicklas BJ, Sutton-Tyrrell K, Tracy RP, Rubin SM, Harris TB, Pahor M. Inflammatory markers and cardiovascular disease (The Health, Aging and Body Composition [Health ABC] Study). Am J Cardiol. 2003;92(5):522-8.\n",
      "Cesari M, Penninx BW, Newman AB, Kritchevsky SB, Nicklas BJ, Sutton-Tyrrell K, Rubin SM, Ding J, Simonsick EM, Harris TB, Pahor M. Inflammatory markers and onset of cardiovascular events: results from the Health ABC study. Circulation. 2003;108(19):2317-22.\n",
      "Pickup JC, Chusney GD, Thomas SM, Burt D. Plasma interleukin-6, tumour necrosis factor alpha and blood cytokine production in type 2 diabetes. Life Sci. 2000;67(3):291-300.\n",
      "Pradhan AD, Manson JE, Rifai N, Buring JE, Ridker PM. C-reactive protein, interleukin 6, and risk of developing type 2 diabetes mellitus. JAMA. 2001; 286(3):327-34.\n",
      "Bertoni AG, Burke GL, Owusu JA, Carnethon MR, Vaidya D, Barr RG, Jenny NS, Ouyang P, Rotter JI. Inflammation and the incidence of type 2 diabetes: the Multi-Ethnic Study of Atherosclerosis (MESA). Diabetes Care. 2010;33(4): 804-10.\n",
      "Khosla S, Peterson JM, Egan K, Jones JD, Riggs BL. Circulating cytokine levels in osteoporotic and normal women. J Clin Endocrinol Metab. 1994;79(3): 707-11.\n",
      "Zheng SX, Vrindts Y, Lopez M, De Groote D, Zangerle PF, Collette J, Franchimont N, Geenen V, Albert A, Reginster JY. Increase in cytokine production (IL-1 beta, IL-6, TNF-alpha but not IFN-gamma, GM-CSF or LIF) by stimulated whole blood cells in postmenopausal osteoporosis. Maturitas. 1997;26(1):63-71.\n",
      "Ding C, Parameswaran V, Udayan R, Burgess J, Jones G. Circulating levels of inflammatory markers predict change in bone mineral density and resorption in older adults: a longitudinal study. J Clin Endocrinol Metab. 2008;93(5):1952-8.\n",
      "Yaffe K, Lindquist K, Penninx BW, Simonsick EM, Pahor M, Kritchevsky S, Launer L, Kuller L, Rubin S, Harris T. Inflammatory markers and cognition in well-functioning African-American and white elders. Neurology. 2003;61(1): 76-80.\n",
      "Weaver JD, Huang MH, Albert M, Harris T, Rowe JW, Seeman TE. Interleukin- 6 and risk of cognitive decline: MacArthur studies of successful aging. Neurology. 2002;59(3):371-8.\n",
      "Engelhart MJ, Geerlings MI, Meijer J, Kiliaan A, Ruitenberg A, van Swieten JC, Stijnen T, Hofman A, Witteman JC, Breteler MM. Inflammatory proteins in plasma and the risk of dementia: the rotterdam study. Arch Neurol. 2004; 61(5):668-72.\n",
      "Ershler WB, Keller ET. Age-associated increased interleukin-6 gene expression, late-life diseases, and frailty. Annu Rev Med. 2000;51: 245-70.\n",
      "Walston J, McBurnie MA, Newman A, Tracy RP, Kop WJ, Hirsch CH, Gottdiener J, Fried LP, Cardiovascular Health Study. Frailty and activation of the inflammation and coagulation systems with and without clinical comorbidities: results from the Cardiovascular Health Study. Arch Intern Med. 2002;162(20):2333-41.\n",
      "Ferrucci L, Penninx BW, Volpato S, Harris TB, Bandeen-Roche K,\n",
      "Balfour J, Leveille SG, Fried LP, Md JM. Change in muscle strength explains accelerated decline of physical function in older  women with high interleukin-6 serum levels. J Am Geriatr Soc. 2002;50(12): 1947-54.\n",
      "Aggarwal BB, Shishodia S, Sandur SK, Pandey MK, Sethi G. Inflammation and cancer: how hot is the link? Biochem Pharmacol. 2006;72(11):1605-21.\n",
      "Lu H, Ouyang W, Huang C. Inflammation, a key event in cancer development. Mol Cancer Res. 2006;4(4):221-33.\n",
      "Il'yasova D, Colbert LH, Harris TB, Newman AB, Bauer DC, Satterfield S, Kritchevsky SB. Circulating levels of inflammatory markers and cancer risk in the health aging and body composition cohort. Cancer Epidemiol Biomarkers Prev. 2005;14(10):2413-8.\n",
      "Newman AB, Sachs MC, Arnold AM, Fried LP, Kronmal R, Cushman M, Psaty BM, Harris TB, Robbins JA, Burke GL, Kuller LH, Lumley T. Total and cause- specific mortality in the cardiovascular health study. J Gerontol A Biol Sci Med Sci. 2009;64(12):1251-61.\n",
      "\n",
      "\n",
      "\n",
      "\n",
      "\n",
      "\n",
      "Harris TB, Ferrucci L, Tracy RP, Corti MC, Wacholder S, Ettinger Jr WH, Heimovitz H, Cohen HJ, Wallace R. Associations of elevated interleukin-6 and C-reactive protein levels with mortality in the elderly. Am J Med. 1999; 106(5):506-12.\n",
      "Roubenoff R, Parise H, Payette HA, Abad LW, D'Agostino R, Jacques PF, Wilson PW, Dinarello CA, Harris TB. Cytokines, insulin-like growth factor 1, sarcopenia, and mortality in very old community-dwelling men and women: the Framingham Heart Study. Am J Med. 2003;\n",
      "115(6):429-35.\n",
      "Krabbe KS, Pedersen M, Bruunsgaard H. Inflammatory mediators in the elderly. Exp Gerontol. 2004;39(5):687-99.\n",
      "Phillips AC, Burns VE, Lord JM. Stress and exercise: getting the balance right for aging immunity. Exerc Sport Sci Rev. 2007;35(1):35-9.\n",
      "Hawkley LC, Cacioppo JT. Stress and the aging immune system. Brain Behav Immun. 2004;18(2):114-9.\n",
      "De Martinis M, Franceschi C, Monti D, Ginaldi L. Apoptosis remodeling in immunosenescence: implications for strategies to delay ageing. Curr Med Chem. 2007;14(13):1389-97.\n",
      "Buford TW, Willoughby DS. Impact of DHEA(S) and cortisol on immune function in aging: a brief review. Appl Physiol Nutr Metab. 2008;33(3): 429-33.\n",
      "Wick G, Berger P, Jansen-Durr P, Grubeck-Loebenstein B. A Darwinian-\n",
      "evolutionary concept of age-related diseases. Exp Gerontol. 2003;38(1-2): 13-25.\n",
      "Jeffery IB, Lynch DB, O'Toole PW. Composition and temporal stability of the gut microbiota in older persons. ISME J. 2016;10(1):170-82.\n",
      "Jackson MA, Jeffery IB, Beaumont M, Bell JT, Clark AG, Ley RE, O'Toole PW, Spector TD, Steves CJ. Signatures of early frailty in the gut microbiota. Genome Med. 2016;8(1):8. -016-0262-7.\n",
      "Cattaneo A, Cattane N, Galluzzi S, Provasi S, Lopizzo N, Festari C, Ferrari C, Guerra UP, Paghera B, Muscio C, Bianchetti A, Volta GD, Turla M,\n",
      "Cotelli MS, Gennuso M, Prelle A, Zanetti O, Lussignoli G, Mirabile D,\n",
      "Bellandi D, Gentile S, Belotti G, Villani D, Harach T, Bolmont T, Padovani A, Boccardi M, Frisoni GB, INDIA-FBP Group. Association of brain amyloidosis with pro-inflammatory gut bacterial taxa and peripheral inflammation markers in cognitively impaired elderly. Neurobiol Aging. 2017;49:60-8.\n",
      "Gill SR, Pop M, Deboy RT, Eckburg PB, Turnbaugh PJ, Samuel BS, Gordon JI, Relman DA, Fraser-Liggett CM, Nelson KE. Metagenomic analysis of the human distal gut microbiome. Science. 2006;312(5778):1355-9.\n",
      "Ley RE, Peterson DA, Gordon JI. Ecological and evolutionary forces shaping microbial diversity in the human intestine. Cell. 2006;124(4):837-48.\n",
      "Cox LM, Blaser MJ. Antibiotics in early life and obesity. Nat Rev Endocrinol. 2015;11(3):182-90.\n",
      "O'Hara AM, Shanahan F. The gut flora as a forgotten organ. EMBO Rep. 2006;7(7):688-93.\n",
      "Egert M, de Graaf AA, Smidt H, de Vos WM, Venema K. Beyond diversity: functional microbiomics of the human colon. Trends Microbiol. 2006;14(2): 86-91.\n",
      "Thaiss CA, Zeevi D, Levy M, Zilberman-Schapira G, Suez J, Tengeler AC, Abramson L, Katz MN, Korem T, Zmora N, Kuperman Y, Biton I, Gilad S, Harmelin A, Shapiro H, Halpern Z, Segal E, Elinav E. Transkingdom control of microbiota diurnal oscillations promotes metabolic homeostasis. Cell. 2014; 159(3):514-29.\n",
      "Collins SM, Surette M, Bercik P. The interplay between the intestinal microbiota and the brain. Nat Rev Microbiol. 2012;10(11):735-42.\n",
      "Belkaid Y, Hand TW. Role of the microbiota in immunity and inflammation. Cell. 2014;157(1):121-41.\n",
      "Rakoff-Nahoum S, Paglino J, Eslami-Varzaneh F, Edberg S, Medzhitov R. Recognition of commensal microflora by toll-like receptors is required for intestinal homeostasis. Cell. 2004;118(2):229-41.\n",
      "Maslowski KM, Vieira AT, Ng A, Kranich J, Sierro F, Yu D, Schilter HC, Rolph MS, Mackay F, Artis D, Xavier RJ, Teixeira MM, Mackay CR. Regulation of inflammatory responses by gut microbiota and chemoattractant receptor GPR43. Nature. 2009;461(7268):1282-6.\n",
      "Belkaid Y, Naik S. Compartmentalized and systemic control of tissue immunity by commensals. Nat Immunol. 2013;14(7):646-53.\n",
      "Abt MC, Osborne LC, Monticelli LA, Doering TA, Alenghat T, Sonnenberg GF, Paley MA, Antenus M, Williams KL, Erikson J, Wherry EJ, Artis D. Commensal bacteria calibrate the activation threshold of innate antiviral immunity. Immunity. 2012;37(1):158-70.\n",
      "\n",
      "\n",
      "Hill DA, Siracusa MC, Abt MC, Kim BS, Kobuley D, Kubo M, Kambayashi T, Larosa DF, Renner ED, Orange JS, Bushman FD, Artis D. Commensal bacteria-derived signals regulate basophil hematopoiesis and allergic inflammation. Nat Med. 2012;18(4):538-46.\n",
      "Ichinohe T, Pang IK, Kumamoto Y, Peaper DR, Ho JH, Murray TS, Iwasaki A. Microbiota regulates immune defense against respiratory tract influenza A virus infection. Proc Natl Acad Sci U S A. 2011;108(13):5354-9.\n",
      "Bruzzese E, Callegari ML, Raia V, Viscovo S, Scotto R, Ferrari S, Morelli L, Buccigrossi V, Lo Vecchio A, Ruberto E, Guarino A. Disrupted intestinal microbiota and intestinal inflammation in children with cystic fibrosis and its restoration with Lactobacillus GG: a randomised clinical trial. PLoS One. 2014;9(2):e87796.\n",
      "Frank DN, St Amand AL, Feldman RA, Boedeker EC, Harpaz N, Pace NR. Molecular-phylogenetic characterization of microbial community imbalances in human inflammatory bowel diseases. Proc Natl Acad Sci U S A. 2007;104(34):13780-5.\n",
      "Dubinsky MC, Lin YC, Dutridge D, Picornell Y, Landers CJ, Farrior S, Wrobel I, Quiros A, Vasiliauskas EA, Grill B, Israel D, Bahar R, Christie D, Wahbeh G, Silber G, Dallazadeh S, Shah P, Thomas D, Kelts  D, Hershberg RM, Elson CO, Targan SR, Taylor KD, Rotter JI, Yang H,\n",
      "Western Regional Pediatric IBD Research Alliance. Serum immune responses predict rapid disease progression among children with Crohn's disease: immune responses predict disease progression. Am J Gastroenterol. 2006;101(2):360-7.\n",
      "O'Keefe SJ, Ou J, Aufreiter S, O'Connor D, Sharma S, Sepulveda J,\n",
      "Fukuwatari T, Shibata K, Mawhinney T. Products of the colonic microbiota mediate the effects of diet on colon cancer risk. J Nutr. 2009;139(11):2044-8.\n",
      "Sampson TR, Debelius JW, Thron T, Janssen S, Shastri GG, Ilhan ZE, Challis C, Schretter CE, Rocha S, Gradinaru V, Chesselet MF, Keshavarzian A, Shannon KM, Krajmalnik-Brown R, Wittung-Stafshede P, Knight R, Mazmanian SK. Gut Microbiota Regulate Motor Deficits and Neuroinflammation in a Model of Parkinson's Disease. Cell. 2016;167(6):1469-1480.e12.\n",
      "Hu X, Wang T, Jin F. Alzheimer's disease and gut microbiota. Sci China Life Sci. 2016;59(10):1006-23.\n",
      "Berer K, Mues M, Koutrolos M, Rasbi ZA, Boziki M, Johner C, Wekerle H, Krishnamoorthy G. Commensal microbiota and myelin autoantigen cooperate to trigger autoimmune demyelination. Nature. 2011;479(7374): 538-41.\n",
      "Barlow GM, Yu A, Mathur R. Role of the gut microbiome in obesity and diabetes mellitus. Nutr Clin Pract. 2015;30(6):787-97.\n",
      "Komaroff AL. The Microbiome and Risk for Obesity and Diabetes. JAMA. 2017;317(4):355-6.\n",
      "Britton RA, Irwin R, Quach D, Schaefer L, Zhang J, Lee T, Parameswaran N, McCabe LR. Probiotic L. reuteri treatment prevents bone loss in a menopausal ovariectomized mouse model. J Cell Physiol. 2014;229(11): 1822-30.\n",
      "Scher JU, Sczesnak A, Longman RS, Segata N, Ubeda C, Bielski C, Rostron T, Cerundolo V, Pamer EG, Abramson SB, Huttenhower C, Littman DR. Expansion of intestinal Prevotella copri correlates with enhanced susceptibility to arthritis. Elife. 2013;2:e01202.\n",
      "Vieira AT, Macia L, Galvao I, Martins FS, Canesso MC, Amaral FA, Garcia CC, Maslowski KM, De Leon E, Shim D, Nicoli JR, Harper JL, Teixeira\n",
      "MM, Mackay CR. A role for gut microbiota and the metabolite-sensing receptor GPR43 in a murine model of gout. Arthritis Rheumatol. 2015; 67(6):1646-56.\n",
      "O'Toole PW, Jeffery IB. Gut microbiota and aging. Science. 2015;350(6265): 1214-5.\n",
      "Biagi E, Nylund L, Candela M, Ostan R, Bucci L, Pini E, Nikkila J, Monti D, Satokari R, Franceschi C, Brigidi P, De Vos W. Through ageing, and beyond: gut microbiota and inflammatory status in seniors and centenarians. PLoS One. 2010;5(5):e10667.\n",
      "Rampelli S, Candela M, Turroni S, Biagi E, Collino S, Franceschi C, O'Toole PW, Brigidi P. Functional metagenomic profiling of intestinal microbiome in extreme ageing. Aging (Albany NY). 2013;5(12):902-12.\n",
      "Claesson MJ, Cusack S, O'Sullivan O, Greene-Diniz R, de Weerd H, Flannery E, Marchesi JR, Falush D, Dinan T, Fitzgerald G, Stanton C, van Sinderen D, O'Connor M, Harnedy N, O'Connor K, Henry C, O'Mahony D, Fitzgerald AP, Shanahan F, Twomey C, Hill C, Ross RP, O'Toole PW. Composition, variability, and temporal stability of the intestinal microbiota of the elderly. Proc Natl Acad Sci U S A. 2011;108 Suppl 1:4586-91.\n",
      "\n",
      "\n",
      "\n",
      "\n",
      "\n",
      "\n",
      "Claesson MJ, Jeffery IB, Conde S, Power SE, O'Connor EM, Cusack S, Harris HM, Coakley M, Lakshminarayanan B, O'Sullivan O, Fitzgerald GF, Deane J, O'Connor M, Harnedy N, O'Connor K, O'Mahony D, van Sinderen D, Wallace M, Brennan L, Stanton C, Marchesi JR, Fitzgerald AP, Shanahan F, Hill C, Ross RP, O'Toole PW. Gut microbiota composition correlates with diet and health in the elderly. Nature. 2012;488(7410):178-84.\n",
      "van Tongeren SP, Slaets JP, Harmsen HJ, Welling GW. Fecal microbiota composition and frailty. Appl Environ Microbiol. 2005;71(10):6438-42.\n",
      "Proctor C, Thiennimitr P, Chattipakorn N, Chattipakorn SC: Diet, gut microbiota and cognition. Metab Brain Dis. 2017;32(1):1-17.\n",
      "Alkasir R, Li J, Li X, Jin M, Zhu B. Human gut microbiota: the links with dementia development. Protein Cell. 2017;8(2):90-102.\n",
      "Blaser MJ, Falkow S. What are the consequences of the disappearing human microbiota? Nat Rev Microbiol. 2009;7(12):887-94.\n",
      "Lee GC, Reveles KR, Attridge RT, Lawson KA, Mansi IA, Lewis JS,2nd, Frei CR. Outpatient antibiotic prescribing in the United States: 2000 to 2010. BMC Med. 2014;12:96-7015-12-96.\n",
      "Lim CJ, Kong DC, Stuart RL. Reducing inappropriate antibiotic prescribing in the residential care setting: current perspectives. Clin Interv Aging. 2014;9: 165-77.\n",
      "Lovat LB. Age related changes in gut physiology and nutritional status. Gut. 1996;38(3):306-9.\n",
      "Fukunaga A, Uematsu H, Sugimoto K. Influences of aging on taste perception and oral somatic sensation. J Gerontol A Biol Sci Med Sci. 2005;60(1):109-13.\n",
      "McEwen BS. Protective and damaging effects of stress mediators. N Engl J Med. 1998;338(3):171-9.\n",
      "Bauer ME. Stress, glucocorticoids and ageing of the immune system. Stress. 2005;8(1):69-83.\n",
      "Galley JD, Bailey MT. Impact of stressor exposure on the interplay between commensal microbiota and host inflammation. Gut Microbes. 2014;5(3):390-6.\n",
      "Jakobsson HE, Rodriguez-Pineiro AM, Schutte A, Ermund A, Boysen P, Bemark M, Sommer F, Backhed F, Hansson GC, Johansson ME. The composition of the gut microbiota shapes the colon mucus barrier. EMBO Rep. 2015;16(2):164-77.\n",
      "Man AL, Bertelli E, Rentini S, Regoli M, Briars G, Marini M, Watson AJ, Nicoletti C. Age-associated modifications of intestinal permeability and innate immunity in human small intestine. Clin Sci (Lond). 2015;129(7):515- 27.\n",
      "Nicoletti C. Age-associated changes of the intestinal epithelial barrier: local and systemic implications. Expert Rev Gastroenterol Hepatol. 2015;9(12): 1467-9.\n",
      "Mabbott NA. A breakdown in communication? Understanding the effects of aging on the human small intestine epithelium. Clin Sci (Lond). 2015;129(7): 529-31.\n",
      "Clark RI, Salazar A, Yamada R, Fitz-Gibbon S, Morselli M, Alcaraz J, Rana A, Rera M, Pellegrini M, Ja WW, Walker DW. Distinct shifts in microbiota composition during drosophila aging impair intestinal function and drive mortality. Cell Rep. 2015;12(10):1656-67.\n",
      "Rera M, Clark RI, Walker DW. Intestinal barrier dysfunction links metabolic and inflammatory markers of aging to death in Drosophila. Proc Natl Acad Sci U S A. 2012;109(52):21528-33.\n",
      "Thevaranjan N, Puchta A, Schulz C, Naidoo A, Szamosi JC, Verschoor CP, Loukov D, Schenck LP, Jury J, Foley KP, Schertzer JD, Larche MJ, Davidson DJ, Verdu EF, Surette MG, Bowdish DM. Age-Associated Microbial Dysbiosis Promotes Intestinal Permeability, Systemic Inflammation, and Macrophage Dysfunction. Cell Host Microbe. 2017;21(4):455-466.e4.\n",
      "Pallister T, Spector TD. Food: a new form of personalised (gut microbiome) medicine for chronic diseases? J R Soc Med. 2016;109(9):331-6.\n",
      "Chen J, He X, Huang J. Diet effects in gut microbiome and obesity. J Food Sci. 2014;79(4):R442-51.\n",
      "Keenan MJ, Marco ML, Ingram DK, Martin RJ. Improving healthspan via changes in gut microbiota and fermentation. Age (Dordr). 2015;37(5):98.\n",
      "-015-9817-6 Epub 2015 Sep 14.\n",
      "Backhed F, Manchester JK, Semenkovich CF, Gordon JI. Mechanisms underlying the resistance to diet-induced obesity in germ-free mice. Proc Natl Acad Sci U S A. 2007;104(3):979-84.\n",
      "Murphy EA, Velazquez KT, Herbert KM. Influence of high-fat diet on gut microbiota: a driving force for chronic disease risk. Curr Opin Clin Nutr Metab Care. 2015;18(5):515-20.\n",
      "\n",
      "\n",
      "De Filippis F, Pellegrini N, Vannini L, Jeffery IB, La Storia A, Laghi L, Serrazanetti DI, Di Cagno R, Ferrocino I, Lazzi C, Turroni S, Cocolin L, Brigidi P, Neviani E, Gobbetti M, O'Toole PW, Ercolini D. High-level adherence to a Mediterranean diet beneficially impacts the gut microbiota and associated metabolome. metabolome. Gut. 2016;65(11):1812-21.\n",
      "Oh B, Kim JS, Kweon M, Kim BS, Huh IS. Six-week diet correction for body weight reduction and its subsequent changes of gut microbiota: a case report. Clin Nutr Res. 2016;5(2):137-40.\n",
      "Cowan TE, Palmnas MS, Yang J, Bomhof MR, Ardell KL, Reimer RA, Vogel HJ, Shearer J. Chronic coffee consumption in the diet-induced obese rat: impact on gut microbiota and serum metabolomics. J Nutr Biochem. 2014; 25(4):489-95.\n",
      "Etxeberria U, Arias N, Boque N, Macarulla MT, Portillo MP, Martinez JA, Milagro FI. Reshaping faecal gut microbiota composition by the intake of trans-resveratrol and quercetin in high-fat sucrose diet-fed rats. J Nutr Biochem. 2015;26(6):651-60.\n",
      "Cardona F, Andres-Lacueva C, Tulipani S, Tinahones FJ, Queipo-Ortuno MI. Benefits of polyphenols on gut microbiota and implications in human health. J Nutr Biochem. 2013;24(8):1415-22.\n",
      "Mika A, Fleshner M. Early-life exercise may promote lasting brain and metabolic health through gut bacterial metabolites. Immunol Cell Biol. 2016;94(2):151-7.\n",
      "Cerda B, Perez M, Perez-Santiago JD, Tornero-Aguilera JF, Gonzalez-\n",
      "Soltero R, Larrosa M. Gut microbiota modification: another piece in the puzzle of the benefits of physical exercise in health? Front Physiol.\n",
      "2016;7:51.\n",
      "Campbell SC, Wisniewski 2nd PJ. Exercise is a novel promoter of intestinal health and microbial diversity. Exerc Sport Sci Rev. 2017;45(1):41-7.\n",
      "O'Sullivan O, Cronin O, Clarke SF, Murphy EF, Molloy MG, Shanahan F, Cotter PD. Exercise and the microbiota. Gut Microbes. 2015;6(2):131-6.\n",
      "Campbell SC, Wisniewski PJ, Noji M, McGuinness LR, Haggblom MM, Lightfoot SA, Joseph LB, Kerkhof LJ. The effect of diet and exercise on intestinal integrity and microbial diversity in mice. PLoS One. 2016;11(3): e0150502.\n",
      "Allen JM, Berg Miller ME, Pence BD, Whitlock K, Nehra V, Gaskins HR, White BA, Fryer JD, Woods JA. Voluntary and forced exercise differentially alters the gut microbiome in C57BL/6J mice. J Appl Physiol (1985). 2015;118((8): 1059-66.\n",
      "Evans CC, LePard KJ, Kwak JW, Stancukas MC, Laskowski S, Dougherty J, Moulton L, Glawe A, Wang Y, Leone V, Antonopoulos DA, Smith D, Chang EB, Ciancio MJ. Exercise prevents weight gain and alters the gut microbiota in a mouse model of high fat diet-induced obesity. PLoS One. 2014;9(3): e92193.\n",
      "Mika A, Van Treuren W, Gonzalez A, Herrera JJ, Knight R, Fleshner M. Exercise is more effective at altering gut microbial composition and producing stable changes in lean mass in juvenile versus adult male F344 Rats. PLoS One. 2015;10(5):e0125889.\n",
      "Hoffman-Goetz L, Pervaiz N, Packer N, Guan J. Freewheel training decreases pro- and increases anti-inflammatory cytokine expression in mouse intestinal lymphocytes. Brain Behav Immun. 2010;24(7):1105-15.\n",
      "Hoffman-Goetz L, Pervaiz N, Guan J. Voluntary exercise training in mice increases the expression of antioxidant enzymes and decreases the expression of TNF-alpha in intestinal lymphocytes. Brain Behav Immun. 2009;23(4):498-506.\n",
      "Clarke SF, Murphy EF, O'Sullivan O, Lucey AJ, Humphreys M, Hogan A, Hayes P, O'Reilly M, Jeffery IB, Wood-Martin R, Kerins DM, Quigley E, Ross RP, O'Toole PW, Molloy MG, Falvey E, Shanahan F, Cotter PD. Exercise and associated dietary extremes impact on gut microbial diversity. Gut. 2014; 63(12):1913-20.\n",
      "Ng SC, Hart AL, Kamm MA, Stagg AJ, Knight SC. Mechanisms of action of probiotics: recent advances. Inflamm Bowel Dis. 2009;15(2):300-10.\n",
      "Ahmed M, Prasad J, Gill H, Stevenson L, Gopal P. Impact of\n",
      "consumption of different levels of Bifidobacterium lactis HN019 on the intestinal microflora of elderly human subjects. J Nutr Health Aging.\n",
      "2007;11(1):26-31.\n",
      "Rampelli S, Candela M, Severgnini M, Biagi E, Turroni S, Roselli M, Carnevali P, Donini L, Brigidi P. A probiotics-containing biscuit modulates the intestinal microbiota in the elderly. J Nutr Health Aging. 2013;17(2):166-72.\n",
      "Liu Y, Gibson GR, Walton GE. An in vitro approach to study effects of prebiotics and probiotics on the faecal microbiota and selected immune parameters relevant to the elderly. PLoS One. 2016;11(9):e0162604.\n",
      "\n",
      "\n",
      "\n",
      "\n",
      "\n",
      "Gill HS, Rutherfurd KJ, Cross ML, Gopal PK. Enhancement of immunity in the elderly by dietary supplementation with the probiotic Bifidobacterium lactis HN019. Am J Clin Nutr. 2001;74(6):833-9.\n",
      "Moro-Garcia MA, Alonso-Arias R, Baltadjieva M, Fernandez Benitez C, Fernandez Barrial MA, Diaz Ruisanchez E, Alonso Santos R, Alvarez Sanchez M, Saavedra Mijan J, Lopez-Larrea C. Oral supplementation with Lactobacillus delbrueckii subsp. bulgaricus 8481 enhances systemic immunity in elderly subjects. Age (Dordr). 2013;35(4):1311-26.\n",
      "van Beek AA, Sovran B, Hugenholtz F, Meijer B, Hoogerland JA, Mihailova V, van der Ploeg C, Belzer C, Boekschoten MV, Hoeijmakers JH, Vermeij WP, de Vos P, Wells JM, Leenen PJ, Nicoletti C, Hendriks RW, Savelkoul HF. Supplementation with Lactobacillus plantarum WCFS1 Prevents Decline of Mucus Barrier in Colon of Accelerated Aging Ercc1-/Delta7 Mice. Front Immunol. 2016;7:408.\n",
      "Valentini L, Pinto A, Bourdel-Marchasson I, Ostan R, Brigidi P, Turroni S, Hrelia S, Hrelia P, Bereswill S, Fischer A, Leoncini E, Malaguti M, Blanc-Bisson C, Durrieu J, Spazzafumo L, Buccolini F, Pryen F, Donini LM, Franceschi C, Lochs H. Impact of personalized diet and probiotic supplementation on inflammation, nutritional parameters and intestinal microbiota-The \"RISTOMED project\": randomized controlled trial in healthy older people. Clin Nutr. 2015;34(4):593-602.\n",
      "Ostan R, Bene MC, Spazzafumo L, Pinto A, Donini LM, Pryen F, Charrouf Z, Valentini L, Lochs H, Bourdel-Marchasson I, Blanc-Bisson C, Buccolini F, Brigidi P, Franceschi C, d'Alessio PA. Impact of diet and nutraceutical supplementation on inflammation in elderly people. Results from the RISTOMED study, an open-label randomized control trial. Clin Nutr. 2016; 35(4):812-8.\n",
      "Akbari E, Asemi Z, Daneshvar Kakhaki R, Bahmani F, Kouchaki E, Tamtaji OR, Hamidi GA, Salami M. Effect of probiotic supplementation on cognitive function and metabolic status in Alzheimer's disease: a randomized, double- blind and controlled trial. Front Aging Neurosci. 2016;8:256.\n",
      "Steidler L. Genetically engineered probiotics. Best Pract Res Clin Gastroenterol. 2003;17(5):861-76.\n",
      "Syvanen M. Churning out safer microbes for drug delivery. Nat Biotechnol. 2003;21(7):758-9.\n",
      "Paton AW, Morona R, Paton JC. Bioengineered microbes in disease therapy. Trends Mol Med. 2012;18(7):417-25.\n",
      "Kumar M, Yadav AK, Verma V, Singh B, Mal G, Nagpal R, Hemalatha R. Bioengineered probiotics as a new hope for health and diseases: an overview of potential and prospects. Future Microbiol. 2016;11(4):585-600.\n",
      "Steidler L, Neirynck S, Huyghebaert N, Snoeck V, Vermeire A, Goddeeris B, Cox E, Remon JP, Remaut E. Biological containment of genetically modified Lactococcus lactis for intestinal delivery of human interleukin 10. Nat Biotechnol. 2003;21(7):785-9.\n",
      "Daliri EB, Lee BH, Oh DH. Current Perspectives on Antihypertensive Probiotics. Probiotics Antimicrob Proteins. 2016.\n",
      "Yang G, Jiang Y, Yang W, Du F, Yao Y, Shi C, Wang C. Effective treatment of hypertension by recombinant Lactobacillus plantarum expressing angiotensin converting enzyme inhibitory peptide. Microb Cell Fact. 2015; 14:202-015-0394-2.\n",
      "Hopkins MJ, Macfarlane GT. Changes in predominant bacterial populations in human faeces with age and with Clostridium difficile infection. J Med Microbiol. 2002;51(5):448-54.\n",
      "Hayashi H, Sakamoto M, Kitahara M, Benno Y. Molecular analysis of fecal microbiota in elderly individuals using 16S rDNA library and T-RFLP. Microbiol Immunol. 2003;47(8):557-70.\n",
      "Woodmansey EJ, McMurdo ME, Macfarlane GT, Macfarlane S. Comparison of compositions and metabolic activities of fecal microbiotas in young adults\n",
      "and in antibiotic-treated and non-antibiotic-treated elderly subjects. Appl Environ Microbiol. 2004;70(10):6113-22.\n",
      "Odamaki T, Kato K, Sugahara H, Hashikura N, Takahashi S, Xiao JZ, Abe F,\n",
      "Osawa R. Age-related changes in gut microbiota composition from\n",
      "newborn to centenarian: a cross-sectional study. BMC Microbiol. 2016; 16:90-016-0708-5.\n"
     ]
    }
   ],
   "source": [
    "myfile = 'C:/Users/kenai/Desktop/Text_Mining_Test2/Text1.txt'  # Mac users should leave out C:\n",
    "wtxt = open(myfile).read()\n",
    "print(wtxt)"
   ]
  },
  {
   "cell_type": "code",
   "execution_count": 28,
   "metadata": {},
   "outputs": [],
   "source": [
    "# reads as a string\n",
    "wtxt?"
   ]
  },
  {
   "cell_type": "code",
   "execution_count": 29,
   "metadata": {},
   "outputs": [
    {
     "name": "stdout",
     "output_type": "stream",
     "text": [
      "Pretty printing has been turned OFF\n"
     ]
    }
   ],
   "source": [
    "# if printing to many lines\n",
    "%pprint"
   ]
  },
  {
   "cell_type": "code",
   "execution_count": 30,
   "metadata": {},
   "outputs": [
    {
     "data": {
      "text/plain": [
       "56511"
      ]
     },
     "execution_count": 30,
     "metadata": {},
     "output_type": "execute_result"
    }
   ],
   "source": [
    "# number of characters in a text\n",
    "len(wtxt)"
   ]
  },
  {
   "cell_type": "code",
   "execution_count": 31,
   "metadata": {},
   "outputs": [
    {
     "data": {
      "text/plain": [
       "10829"
      ]
     },
     "execution_count": 31,
     "metadata": {},
     "output_type": "execute_result"
    }
   ],
   "source": [
    "# tokenize the text\n",
    "\n",
    "wtokens = nltk.word_tokenize(wtxt)\n",
    "len(wtokens)"
   ]
  },
  {
   "cell_type": "code",
   "execution_count": 32,
   "metadata": {},
   "outputs": [],
   "source": [
    "wfreq = nltk.FreqDist(wtokens)"
   ]
  },
  {
   "cell_type": "code",
   "execution_count": 33,
   "metadata": {},
   "outputs": [
    {
     "data": {
      "text/plain": [
       "250"
      ]
     },
     "execution_count": 33,
     "metadata": {},
     "output_type": "execute_result"
    }
   ],
   "source": [
    "wfreq['the']"
   ]
  },
  {
   "cell_type": "code",
   "execution_count": 34,
   "metadata": {},
   "outputs": [
    {
     "data": {
      "text/plain": [
       "1028"
      ]
     },
     "execution_count": 34,
     "metadata": {},
     "output_type": "execute_result"
    }
   ],
   "source": [
    "wfreq[',']"
   ]
  },
  {
   "cell_type": "code",
   "execution_count": 35,
   "metadata": {},
   "outputs": [
    {
     "data": {
      "text/plain": [
       "3155"
      ]
     },
     "execution_count": 35,
     "metadata": {},
     "output_type": "execute_result"
    }
   ],
   "source": [
    "# number of unique words in the text\n",
    "len(wfreq) "
   ]
  },
  {
   "cell_type": "code",
   "execution_count": 36,
   "metadata": {},
   "outputs": [],
   "source": [
    "# most common after removing the punctuation\n",
    "\n",
    "wtxtoken = nltk.word_tokenize(wtxt) "
   ]
  },
  {
   "cell_type": "code",
   "execution_count": 37,
   "metadata": {},
   "outputs": [
    {
     "name": "stdout",
     "output_type": "stream",
     "text": [
      "['Buford', 'Microbiome', '2017', 'DOI', 'Dis', 'Trust', 'your', 'gut', 'the', 'gut', 'microbiome', 'in', 'inflammation', 'health', 'and', 'disease', 'Thomas', 'Buford', 'Background', 'In', 'humans', 'aging', 'is', 'a', 'continual', 'and', 'progressive', 'process', 'that', 'results', 'in', 'decreased', 'physiologic', 'function', 'across', 'all', 'organ', 'systems', 'These', 'physiologic', 'decrements', 'result', 'in', 'an', 'increased', 'vulnerability', 'to', 'infection', 'and', 'disease', 'that', 'dramatically', 'elevates', 'mortality', 'risk', 'Compared', 'to', 'persons', 'years', 'of', 'age', 'mortality', 'risk', 'among', 'older', 'adults', 'is', 'elevated', 'by', 'for', 'stroke', 'and', 'chronic', 'lung', 'disease', 'roughly', 'for', 'heart', 'disease', 'pneumonia', 'and', 'influenza', 'and', 'over', 'for', 'cancer', 'Given', 'the', 'rapid', 'increase', 'in', 'life', 'expectancy', 'and', 'increasing', 'tion', 'of', 'older', 'adults', 'within', 'the', 'population', 'an', 'creased', 'understanding', 'of', 'the', 'biologic', 'mechanisms', 'which', 'underlie', 'increases', 'in', 'disease', 'lence', 'are', 'warranted', 'Aging', 'and', 'inflammation', 'Though', 'the', 'etiologies', 'of', 'diseases', 'are', 'quite', 'diverse', 'significant', 'evidence', 'implicates', 'chronic', 'grade', 'inflammation', 'as', 'one', 'of', 'the', 'most', 'consistent', 'logic', 'features', 'of', 'both', 'chronological', 'aging', 'and', 'various', 'Correspondence', 'Department', 'of', 'Medicine', 'University', 'of', 'Alabama', 'at', 'Birmingham', '933', '19th', 'Street', 'South', 'Birmingham', 'AL', '35294', 'USA', 'In', 'fact', 'a', 'recent', 'PubMed', 'search', 'for', 'the', 'terms', 'aging', 'and', 'inflammation', 'revealed', 'nearly', '10000', 'publications', 'in', 'this', 'area', 'Fig', 'with', 'this', 'pair', 'of', 'risk', 'factors', 'implicated', 'in', 'the', 'ogy', 'of', 'a', 'wide', 'variety', 'of', 'diseases', 'and', 'disorders', 'across', 'nearly', 'every', 'organ', 'system', 'Fig', 'Inflammation', 'is', 'commonly', 'recognized', 'as', 'a', 'localized', 'response', 'to', 'tissue', 'injury', 'or', 'infection', 'that', 'aids', 'in', 'the', 'pair', 'of', 'damaged', 'tissue', 'destruction', 'of', 'the', 'harmful', 'agent', 'Classically', 'characterized', 'by', 'pain', 'heat', 'redness', 'swelling', 'and', 'loss', 'of', 'function', 'acute', 'inflammation', 'is', 'ically', 'resolved', 'in', 'healthy', 'individuals', 'in', 'relatively', 'short', 'order', 'to', 'promote', 'the', 'restoration', 'of', 'tissue', 'function', 'However', 'during', 'advanced', 'age', 'the', 'ability', 'to', 'resolve', 'flammation', 'becomes', 'impaired', 'leading', 'to', 'sustained', 'sue', 'infiltration', 'of', 'leukocytes', 'and', 'the', 'chronic', 'release', 'of', 'cytokines', 'and', 'chemokines', 'As', 'a', 'result', 'the', 'initial', 'local', 'event', 'has', 'systemic', 'consequences', 'Indeed', 'elevations', 'in', 'mediators', 'such', 'as', 'protein', 'CRP', 'and', 'tumor', 'necrosis', 'factor', 'alpha', 'have', 'been', 'ently', 'reported', 'during', 'late', 'adulthood', 'even', 'in', 'the', 'absence', 'of', 'acute', 'infection', 'it', 'is', 'unknown', 'if', 'these', 'c', 'The', 'Author', 's', '2017', 'Open', 'Access', 'This', 'article', 'is', 'distributed', 'under', 'the', 'terms', 'of', 'the', 'Creative', 'Commons', 'Attribution', 'International', 'License', 'which', 'permits', 'unrestricted', 'use', 'distribution', 'and', 'reproduction', 'in', 'any', 'medium', 'provided', 'you', 'give', 'appropriate', 'credit', 'to', 'the', 'original', 'author', 's', 'and', 'the', 'source', 'provide', 'a', 'link', 'to', 'the', 'Creative', 'Commons', 'license', 'and', 'indicate', 'if', 'changes', 'were', 'made', 'The', 'Creative', 'Commons', 'Public', 'Domain', 'Dedication', 'waiver', 'applies', 'to', 'the', 'data', 'made', 'available', 'in', 'this', 'article', 'unless', 'otherwise', 'stated', 'inflammatory', 'mediators', 'directly', 'cause', 'adverse', 'health', 'comes', 'chronic', 'inflammation', 'has', 'been', 'ated', 'with', 'the', 'prevalence', 'of', 'a', 'of', 'morbidities', 'cardiovascular', 'disease', 'ance', 'and', 'diabetes', 'decline', 'and', 'dementia', 'frailty', 'and', 'disability', 'and', 'cancer', 'well', 'as', 'mortality', 'Though', 'factors', 'such', 'as', 'obesity', 'and', 'insulin', 'resistance', 'smoking', 'and', 'changes', 'in', 'circulating', 'sex', 'hormone', 'centrations', 'have', 'been', 'associated', 'with', 'flammation', 'the', 'largest', 'contributor', 'to', 'increases', 'in', 'inflammatory', 'mediators', 'has', 'traditionally', 'been', 'thought', 'to', 'decrease', 'in', 'the', 'efficiency', 'of', 'the', 'immune', 'system', 'is', 'acterized', 'by', 'thymus', 'atrophy', 'reductions', 'in', 'neutrophil', 'function', 'naive', 'T', 'cell', 'number', 'and', 'the', 'cytotoxic', 'capacity', 'of', 'natural', 'killer', 'cells', 'and', 'lowered', 'antibody', 'duction', 'in', 'response', 'to', 'antigen', 'The', 'most', 'widely', 'held', 'belief', 'regarding', 'the', 'cause', 'of', 'senescence', 'is', 'that', 'chronic', 'lifetime', 'antigenic', 'burden', 'exhausts', 'a', 'finite', 'capacity', 'of', 'the', 'organism', 'immune', 'system', 'Therefore', 'we', 'exchange', 'protection', 'against', 'infection', 'for', 'risks', 'of', 'chronic', 'flammation', 'and', 'disease', 'Very', 'recently', 'however', 'emerging', 'evidence', 'has', 'gested', 'that', 'the', 'gut', 'microbiome', 'may', 'play', 'an', 'integral', 'role', 'in', 'these', 'inflammatory', 'changes', 'Recent', 'dence', 'indicates', 'that', 'advanced', 'age', 'is', 'associated', 'with', 'changes', 'in', 'microbiota', 'composition', 'characterized', 'by', 'a', 'loss', 'of', 'diversity', 'in', 'the', 'core', 'taxa', 'Moreover', 'these', 'changes', 'in', 'the', 'microbiome', 'have', 'also', 'been', 'recently', 'associated', 'with', 'key', 'geriatric', 'syndromes', 'ing', 'physical', 'frailty', 'and', 'dementia', 'Therefore', 'the', 'objective', 'of', 'this', 'review', 'is', 'to', 'discuss', 'the', 'available', 'evidence', 'related', 'to', 'gut', 'microbiome', 'and', 'aging', 'with', 'ticular', 'emphasis', 'on', 'inflammation', 'and', 'ated', 'The', 'gut', 'microbiome', 'and', 'health', 'The', 'human', 'intestinal', 'tract', 'gut', 'is', 'inhabited', 'by', 'over', '100', 'trillion', 'microorganisms', 'including', 'over', '1000', 'species', 'of', 'known', 'bacteriThese', 'organisms', 'have', 'evolved', 'with', 'humans', 'over', 'millennia', 'to', 'live', 'together', 'for', 'mutual', 'benefit', 'Though', 'commonly', 'overlooked', 'in', 'considerations', 'of', 'human', 'health', 'and', 'disease', 'treatment', 'hence', 'the', 'nickname', 'the', 'forgotten', 'organ', 'gut', 'croorganisms', 'encode', '150', 'times', 'more', 'genes', 'than', 'the', 'human', 'genome', 'and', 'are', 'highly', 'involved', 'in', 'numerous', 'metabolic', 'reactions', 'which', 'influence', 'normal', 'host', 'physiology', 'and', 'metabolism', '8', 'In', 'fact', 'an', 'mous', 'portion', 'of', 'the', 'body', 'constitutive', 'immune', 'tion', 'is', 'dedicated', 'to', 'maintaining', 'homeostasis', 'with', 'the', 'microbiota', 'as', 'evidenced', 'by', 'the', 'fact', 'that', '70', 'of', 'the', 'body', 'lymphocytes', 'reside', 'in', 'the', 'lymphoid', 'tissue', 'Given', 'the', 'substantial', 'portion', 'of', 'the', 'immune', 'system', 'dedicated', 'to', 'maintaining', 'host', 'relationship', 'with', 'the', 'microbiome', 'it', 'is', 'perhaps', 'unsurprising', 'that', 'gut', 'biota', 'are', 'heavily', 'involved', 'in', 'local', 'inflammatory', 'sponses', 'to', 'acute', 'injury', 'infection', 'Indeed', 'commensal', 'bacteria', 'are', 'a', 'critical', 'regulator', 'of', 'regulatory', 'immune', 'responses', 'including', 'tolerance', 'the', 'active', 'pression', 'of', 'inflammatory', 'responses', 'to', 'food', 'and', 'other', 'orally', 'ingested', 'antigens', 'In', 'fact', 'these', 'bacteria', 'are', 'known', 'to', 'play', 'a', 'protective', 'role', 'in', 'acute', 'inflammatory', 'responses', 'to', 'injury', 'at', 'least', 'in', 'part', 'through', 'ceptor', 'TLR', 'activation', 'to', 'promote', 'tissue', 'repair', 'and', 'survival', 'Moreover', 'immune', 'cells', 'also', 'regulate', 'flammation', 'in', 'intestinal', 'injury', 'and', 'allergy', 'via', 'tion', 'of', 'fatty', 'acids', 'SCFA', 'produced', 'via', 'bacterial', 'breakdown', 'of', 'indigestible', 'dietary', 'components', 'such', 'as', 'fiber', 'Failure', 'to', 'regulate', 'these', 'responses', 'is', 'established', 'as', 'a', 'contributor', 'to', 'the', 'development', 'of', 'food', 'allergies', 'various', 'inflammatory', 'bowel', 'eases', 'affecting', 'the', 'gut', 'More', 'recently', 'however', 'it', 'has', 'become', 'apparent', 'that', 'changes', 'to', 'microbial', 'ition', 'and', 'density', 'can', 'alter', 'immunity', 'and', 'tion', 'within', 'organs', 'distal', 'from', 'the', 'intestine', 'For', 'example', 'the', 'reduction', 'of', 'beneficial', 'gut', 'bacteria', 'via', 'antibiotic', 'treatment', 'has', 'demonstrated', 'impaired', 'systemic', 'allergic', 'inflammatory', 'responses', 'as', 'well', 'as', 'immune', 'responses', 'to', 'viral', 'influenza', 'infections', 'Though', 'beyond', 'the', 'scope', 'of', 'the', 'current', 'review', 'I', 'refer', 'readers', 'to', 'an', 'excellent', 'review', 'by', 'Belkaid', 'and', 'Hand', 'for', 'discussion', 'of', 'the', 'potential', 'mechanisms', 'underlying', 'changes', 'to', 'systemic', 'ity', 'and', 'inflammation', 'In', 'line', 'with', 'known', 'interactions', 'of', 'the', 'microbiome', 'with', 'the', 'systemic', 'circulation', 'and', 'distal', 'tissues', 'gut', 'dysbiosis', 'commonly', 'defined', 'as', 'a', 'disturbance', 'of', 'or', 'change', 'in', 'the', 'density', 'composition', 'of', 'gut', 'microbiota', 'has', 'been', 'linked', 'to', 'a', 'wide', 'variety', 'of', 'diseases', 'and', 'health', 'conditions', 'Fig', 'These', 'conditions', 'include', 'cystic', 'fibrosis', 'inflammatory', 'bowel', 'conditions', 'irritable', 'bowel', 'syndrome', 'Crohn', 'disease', 'and', 'colon', 'cer', 'neurological', 'diseases', 'Parkinson', 'disease', 'Alzheimer', 'disease', 'and', 'multiple', 'sclerosis', 'metabolic', 'diseases', 'obesity', 'and', 'diabetes', 'as', 'well', 'as', 'musculoskeletal', 'conditions', 'frailty', 'osteoporosis', 'rheumatoid', 'arthritis', 'and', 'gout', 'Notably', 'as', 'evidenced', 'by', 'the', 'remarkable', 'similarity', 'between', 'Fig', 'b', 'the', 'majority', 'of', 'these', 'conditions', 'exhibit', 'increases', 'in', 'incidence', 'Accordingly', 'it', 'seems', 'relevant', 'to', 'explore', 'the', 'possibility', 'that', 'inflammation', 'may', 'stem', 'at', 'least', 'partially', 'from', 'changes', 'to', 'the', 'gut', 'microbiome', 'The', 'aging', 'gut', 'microbiome', 'As', 'noted', 'above', 'the', 'human', 'ageing', 'process', 'is', 'ated', 'with', 'gradual', 'declines', 'in', 'function', 'across', 'virtually', 'every', 'bodily', 'organ', 'In', 'contrast', 'however', 'the', 'bacterial', 'organisms', 'in', 'the', 'gut', 'do', 'not', 'age', 'per', 'se', 'and', 'thus', 'might', 'be', 'unexpected', 'to', 'follow', 'the', 'typical', 'trajectory', 'of', 'physiological', 'decline', 'seen', 'elsewhere', 'in', 'the', 'body', 'And', 'yet', 'as', 'pointed', 'out', 'by', 'and', 'Jeffery', 'older', 'individuals', 'often', 'experience', 'comorbidities', 'changes', 'in', 'diet', 'and', 'physical', 'activity', 'patterns', 'and', 'other', 'physiologic', 'changes', 'which', 'may', 'influence', 'gut', 'bacteria', 'Thus', 'questions', 'persist', 'regarding', 'how', 'such', 'changes', 'may', 'interact', 'with', 'gut', 'bacteria', 'to', 'influence', 'microbiome', 'composition', 'and', 'function', 'Compared', 'to', 'evidence', 'related', 'to', 'aging', 'and', 'mation', 'less', 'is', 'known', 'regarding', 'associations', 'between', 'aging', 'and', 'the', 'microbiome', 'In', 'fact', 'in', 'contrast', 'to', 'the', 'thousands', 'of', 'publications', 'on', 'aging', 'and', 'inflammation', 'a', 'PubMed', 'search', 'for', 'aging', 'and', 'biome', 'yielded', 'only', '466', 'results', 'and', 'a', 'search', 'for', 'aging', 'and', 'dysbiosis', 'yielded', 'a', 'mere', '34', 'Moreover', 'only', 'a', 'handful', 'of', 'studies', 'to', 'date', 'have', 'investigated', 'the', 'aging', 'microbiome', 'in', 'humans', 'Table', 'Still', 'at', 'least', 'two', 'early', 'studies', 'in', 'this', 'area', 'have', 'documented', 'that', 'advanced', 'age', 'is', 'associated', 'with', 'changes', 'to', 'both', 'the', 'composition', 'and', 'stability', 'of', 'gut', 'microbiota', 'Biagi', 'et', 'al', 'reported', 'that', 'a', 'group', 'of', 'centenarian', 'from', 'Northern', 'Italy', 'displayed', 'low', 'species', 'diversity', 'pared', 'to', 'younger', 'adults', 'years', 'of', 'age', 'They', 'also', 'noted', 'specific', 'changes', 'within', 'Firmicutes', 'one', 'of', 'the', 'two', 'dominant', 'phyla', 'commonly', 'found', 'in', 'the', 'gut', 'groups', 'and', 'enrichment', 'of', 'Proteobacteria', 'a', 'group', 'containing', 'many', 'opportunistic', 'bacteria', 'which', 'can', 'overtake', 'commensal', 'bacteria', 'and', 'induce', 'pathology', 'These', 'microbiome', 'changes', 'were', 'also', 'ized', 'by', 'a', 'loss', 'of', 'genes', 'for', 'fatty', 'acid', 'duction', 'and', 'an', 'overall', 'decrease', 'in', 'the', 'saccharolytic', 'potential', 'while', 'proteolytic', 'functions', 'were', 'more', 'dant', 'than', 'in', 'the', 'intestinal', 'metagenome', 'of', 'younger', 'adults', 'Interestingly', 'these', 'changes', 'in', 'bacterial', 'Table', '1', 'Studies', 'investigating', 'aging', 'and', 'the', 'gut', 'microbiome', 'humans', 'Study', 'N', 'Population', 'Age', 'microbiota', 'Age', 'effect', 'Additional', 'details', 'Hopkins', 'et', 'al', '2002', '15', 'British', 'years', 'years', 'years', 'CDAD', 'Bacteroides', 'species', 'diversity', 'Bifidobacteria', 'species', 'diversity', 'CDAD', 'patients', 'had', 'greater', 'diversity', 'but', 'reducted', 'bacteriodes', 'prevotella', 'and', 'bifidobacteria', 'Hayashi', 'et', 'al', '2003', '6', 'Japanese', 'yearsa', 'Clostridium', 'rRNA', 'subcluster', 'XIVa', 'Bifidobacteria', 'Ruminoccoccus', 'obeum', 'Woodmansey', 'et', 'al', '2004', '28', 'British', 'years', 'years', 'years', 'HE', 'Bacterioides', 'Bifidobacteria', 'no', 'and', 'diversity', 'Hospitalized', 'patients', 'displayed', 'related', 'changes', 'along', 'with', 'increased', 'proteolytic', 'bacteria', 'no', 'and', 'diversity', 'Van', 'Tongeren', 'et', 'al', '2005', '23', 'Dutch', 'years', 'High', 'frailty', 'scores', 'associated', 'with', 'reduced', 'lactobacilli', 'bacteroides', 'prevotella', 'no', 'increased', 'enterobacteria', 'Biagi', 'et', 'al', '2010', 'Claesson', 'et', 'al', '2011', '84', 'Italian', 'years', 'years', 'years', '170', 'Irish', 'years', '65', 'years', 'Clostridium', 'cluster', 'XIVa', 'Bacilli', 'Proteobacteria', 'Firmicutes', 'Clostridium', 'cluster', 'IV', 'Ruminococcaceae', 'Young', 'and', 'elderly', 'showed', 'similar', 'microbiota', 'while', 'differences', 'observed', 'in', 'centenarians', 'only', 'Claesson', 'et', 'al', '2012', '191', 'Irish', 'years', 'years', 'Microbiota', 'composition', 'clustered', 'by', 'diet', 'and', 'residence', 'location', 'significantly', 'correlated', 'with', 'frailty', 'and', 'inflammation', 'Rampelli', 'et', 'al', '2013', '9', 'Italian', 'years', 'Bacterial', 'DNA', 'gene', 'expression', 'for', 'fatty', 'acid', 'production', 'Proteolytic', 'functions', 'Pathobionts', 'Jeffery', 'et', 'al', '2016', '371', 'Irish', 'years', 'Longitudinal', 'samples', 'revealed', 'temporal', 'instability', 'of', 'microbiota', 'Low', 'microbial', 'diversity', 'associated', 'with', 'greater', 'temporal', 'instability', 'care', 'stays', 'and', 'antibiotic', 'use', 'associated', 'with', 'increased', 'alterations', 'in', 'microbial', 'composition', 'and', 'diversity', 'Jackson', 'et', 'al', '2016', '1008', 'British', 'Irish', 'years', 'Robust', 'associations', 'between', 'frailty', 'and', 'gut', 'microbiota', 'prausnitzii', 'negatively', 'associated', 'dolichum', 'and', 'lenta', 'positively', 'associated', 'Odamaki', 'et', 'al', '2016', '367', 'Japanese', 'years', 'Cattaneo', 'et', 'al', '2017', '83', 'Italian', 'Mean', '70', 'yearsb', 'Gut', 'microbial', 'populations', 'and', 'peripheral', 'inflammatory', 'cytokines', 'associated', 'with', 'cognitive', 'impairment', 'and', 'brain', 'amyloidosis', 'CDAD', 'clostridium', 'diarrhea', 'compared', 'to', 'prior', 'study', 'of', 'young', 'adults', 'HE', 'hospitalized', 'elderly', 'patients', 'on', 'antibotics', 'brange', 'and', 'overall', 'mean', 'for', 'the', 'full', 'study', 'not', 'reported', 'reported', 'by', 'study', 'group', 'content', 'were', 'also', 'moderately', 'associated', 'with', 'ing', 'plasma', 'concentrations', 'of', 'inflammatory', 'cytokines', 'interleukins', 'six', 'and', 'eight', 'Surprisingly', 'however', 'despite', 'these', 'interesting', 'findings', 'among', 'the', 'centenarians', 'this', 'group', 'did', 'not', 'find', 'significant', 'ences', 'in', 'microbiota', 'composition', 'between', 'the', 'younger', 'adults', 'and', 'a', 'group', 'of', 'older', 'adults', 'with', 'an', 'average', 'age', 'of', '70', 'years', 'In', 'contrast', 'findings', 'from', 'the', 'Irish', 'ELDERMET', 'cohort', 'did', 'indicate', 'alterations', 'in', 'the', 'core', 'microbiota', 'of', 'persons', 'over', '65', 'years', 'of', 'age', 'These', 'changes', 'were', 'generally', 'characterized', 'by', 'a', 'greater', 'proportion', 'of', 'Bacteroides', 'spp', 'and', 'distinct', 'dance', 'patterns', 'of', 'Clostridium', 'groups', 'compared', 'to', 'younger', 'individuals', 'Older', 'individuals', 'also', 'displayed', 'a', 'loss', 'of', 'taxa', 'including', 'tella', 'and', 'associated', 'genera', 'which', 'can', 'tribute', 'to', 'instability', 'in', 'the', 'microbiome', 'composition', 'However', 'the', 'authors', 'noted', 'that', 'the', 'variability', 'in', 'the', 'microbiota', 'profiles', 'of', 'the', 'older', 'persons', 'was', 'quite', 'large', 'making', 'phenotype', 'prediction', 'difficult', 'Several', 'key', 'factors', 'particularly', 'diet', 'and', 'the', 'use', 'of', 'antibiotics', 'were', 'key', 'predictors', 'of', 'these', 'changes', 'in', 'both', 'seniors', 'and', 'residents', 'of', 'care', 'facilities', 'These', 'factors', 'diet', 'in', 'ticular', 'could', 'potentially', 'explain', 'differences', 'between', 'findings', 'from', 'the', 'Italian', 'and', 'Irish', 'cohorts', 'As', 'such', 'these', 'and', 'other', 'relevant', 'factors', 'necessitate', 'the', 'tinued', 'study', 'of', 'the', 'microbiome', 'across', 'populations', 'Notably', 'data', 'from', 'the', 'ELDERMET', 'cohort', 'revealed', 'an', 'interesting', 'potential', 'association', 'with', 'physical', 'frailty', 'as', 'evidenced', 'by', 'differences', 'among', 'older', 'sons', 'living', 'in', 'care', 'rehabilitation', 'cilities', 'compared', 'to', 'peers', 'These', 'differences', 'were', 'also', 'associated', 'with', 'several', 'systemic', 'markers', 'of', 'inflammation', 'including', '8', 'CRP', 'and', 'The', 'association', 'with', 'frailty', 'in', 'the', 'cohort', 'was', 'recently', 'demonstrated', 'more', 'formally', 'along', 'with', 'concordant', 'findings', 'from', '728', 'female', 'twins', 'enrolled', 'in', 'the', 'Healthy', 'Ageing', 'Twin', 'Study', 'These', 'findings', 'were', 'similar', 'to', 'those', 'from', 'a', 'prior', 'small', 'cohort', 'of', 'older', 'adults', 'from', 'The', 'Netherlands', 'Thus', 'available', 'data', 'suggest', 'that', 'the', 'gut', 'microbiome', 'may', 'play', 'at', 'least', 'some', 'role', 'in', 'the', 'development', 'of', 'physical', 'frailty', 'among', 'the', 'elderly', 'Similarly', 'early', 'findings', 'now', 'suggest', 'that', 'gut', 'biosis', 'may', 'contribute', 'to', 'declines', 'in', 'cognitive', 'function', 'Cattaneo', 'et', 'al', 'recently', 'reported', 'that', 'brain', 'amyloidosis', 'and', 'peripheral', 'inflammation', 'among', 'cognitively', 'impaired', 'elders', 'was', 'associated', 'with', 'the', 'abundance', 'of', 'and', 'gut', 'microbiota', 'Indeed', 'brain', 'amyloid', 'content', 'and', 'circulating', 'inflammatory', 'analytes', 'were', 'positively', 'associated', 'with', 'the', 'inflammatory', 'bacteria', 'taxon', 'and', 'negatively', 'associated', 'with', 'the', 'rectale', 'taxon', 'To', 'my', 'ledge', 'these', 'are', 'the', 'first', 'data', 'directly', 'linking', 'the', 'gut', 'microbiota', 'to', 'cognitive', 'decline', 'though', 'numerous', 'studies', 'in', 'other', 'models', 'Parkinson', 'multiple', 'sclerosis', 'animal', 'models', 'of', 'Alzheimer', 'disease', 'exist', 'to', 'indicate', 'a', 'axis', 'which', 'could', 'contribute', 'to', 'dementias', '6', 'Given', 'the', 'dramatic', 'public', 'health', 'implications', 'of', 'derstanding', 'and', 'intervening', 'upon', 'tias', 'continued', 'research', 'in', 'this', 'area', 'seems', 'highly', 'warranted', 'Etiology', 'of', 'changes', 'in', 'the', 'microbiome', 'The', 'precise', 'etiologic', 'explanation', 'for', 'these', 'changes', 'remains', 'incomplete', 'Across', 'the', 'spectrum', 'dramatic', 'increases', 'in', 'the', 'use', 'of', 'antibiotics', 'and', 'increasing', 'pervasiveness', 'of', 'a', 'fat', 'and', 'western', 'diet', 'are', 'proposed', 'to', 'directly', 'contribute', 'to', 'the', 'depletion', 'of', 'important', 'beneficial', 'components', 'of', 'the', 'microbiome', 'In', 'turn', 'these', 'changes', 'contribute', 'to', 'chronic', 'activation', 'of', 'the', 'immune', 'system', 'and', 'a', 'dramatic', 'rise', 'in', 'the', 'prevalence', 'of', 'chronic', 'inflammatory', 'disorders', 'These', 'two', 'factors', 'also', 'represent', 'key', 'modifiable', 'health', 'factors', 'which', 'may', 'contribute', 'to', 'exacerbated', 'dysbiosis', 'among', 'older', 'adults', 'In', 'the', 'United', 'States', 'of', 'America', 'rates', 'of', 'antibiotic', 'prescription', 'actually', 'dropped', 'from', 'among', 'children', 'and', 'young', 'to', 'adults', 'In', 'contrast', 'prescription', 'rates', 'increased', 'among', 'older', 'adults', 'with', 'the', 'most', 'dramatic', 'increases', 'seen', 'among', 'persons', 'years', 'of', 'age', 'Additionally', 'rates', 'of', 'antibiotic', 'prescription', 'have', 'risen', 'substantially', 'in', 'cent', 'years', 'in', 'residential', 'care', 'facilities', 'These', 'trends', 'may', 'at', 'least', 'partially', 'explain', 'changes', 'in', 'the', 'microbiome', 'particularly', 'those', 'served', 'in', 'the', 'ELDERMET', 'cohort', 'among', 'residents', 'of', 'care', 'facilities', 'Similarly', 'changes', 'in', 'nutrient', 'intake', 'may', 'also', 'contribute', 'to', 'dysbiosis', 'It', 'is', 'recognized', 'that', 'diet', 'is', 'one', 'of', 'the', 'primary', 'tors', 'to', 'gut', 'health', 'Advanced', 'age', 'is', 'associated', 'with', 'deterioration', 'in', 'various', 'aspects', 'of', 'nutrient', 'intake', 'and', 'absorption', 'including', 'dentition', 'salivary', 'function', 'gestion', 'and', 'intestinal', 'transit', 'time', 'Sensory', 'changes', 'including', 'taste', 'and', 'smell', 'may', 'also', 'alter', 'the', 'appetite', 'making', 'certain', 'foods', 'unappealing', 'and', 'thus', 'altering', 'eating', 'habits', 'It', 'is', 'possible', 'that', 'these', 'changes', 'contribute', 'to', 'dysbiosis', 'though', 'it', 'may', 'be', 'more', 'likely', 'that', 'altered', 'immune', 'responses', 'to', 'matory', 'foods', 'among', 'older', 'adults', 'may', 'exacerbate', 'crobial', 'changes', 'Another', 'prominent', 'possibility', 'is', 'that', 'chronic', 'tion', 'of', 'the', 'innate', 'and', 'adaptive', 'immune', 'systems', 'due', 'to', 'immunosenescence', 'contributes', 'to', 'an', 'altered', 'terial', 'composition', 'in', 'the', 'gut', 'Such', 'an', 'affect', 'may', 'manifest', 'at', 'least', 'partially', 'due', 'to', 'known', 'increases', 'in', 'HPA', 'axis', 'activity', 'in', 'advanced', 'age', 'as', 'inflammatory', 'stress', 'responses', 'are', 'known', 'to', 'induce', 'to', 'both', 'immune', 'dysregulation', 'and', 'dysbiosis', 'Conversely', 'however', 'it', 'remains', 'possible', 'given', 'the', 'known', 'flammatory', 'effects', 'of', 'dysbiosis', 'that', 'changes', 'to', 'the', 'microbiome', 'due', 'to', 'other', 'factors', 'diet', 'exacerbate', 'inflammation', 'and', 'altered', 'immunity', 'Thus', 'it', 'is', 'ently', 'difficult', 'to', 'decipher', 'the', 'temporal', 'relationship', 'between', 'these', 'changes', 'Furthermore', 'this', 'known', 'interplay', 'suggests', 'a', 'tantalizing', 'hypothesis', 'that', 'the', 'processes', 'of', 'immunosenescence', 'and', 'dysbiosis', 'may', 'in', 'fact', 'be', 'interdependent', 'Moreover', 'physical', 'changes', 'to', 'the', 'intestinal', 'lial', 'barrier', 'may', 'play', 'a', 'role', 'in', 'dysbiosis', 'and', 'related', 'inflammation', 'Jakobsson', 'et', 'al', 'previously', 'onstrated', 'that', 'the', 'composition', 'of', 'the', 'gut', 'microbiota', 'is', 'directly', 'related', 'to', 'the', 'leaky', 'gut', 'Recent', 'dence', 'suggests', 'now', 'that', 'intestinal', 'permeability', 'may', 'increase', 'with', 'age', 'Man', 'et', 'al', 'recently', 'strated', 'that', 'compared', 'to', 'younger', 'adults', 'ileal', 'tissues', 'from', 'older', 'adults', 'demonstrated', 'increased', 'centrations', 'that', 'were', 'accompanied', 'by', 'increased', 'tinal', 'permeability', 'as', 'a', 'result', 'of', 'elevated', 'These', 'data', 'provide', 'novel', 'evidence', 'from', 'humans', 'cating', 'the', 'likelihood', 'of', 'a', 'leaky', 'gut', 'during', 'advanced', 'age', 'whereby', 'the', 'intestinal', 'barrier', 'preventing', 'harmful', 'substances', 'from', 'reaching', 'the', 'bloodstream', 'is', 'ated', 'The', 'leaky', 'gut', 'is', 'with', 'inflammatory', 'bowel', 'conditions', 'but', 'is', 'now', 'being', 'proposed', 'as', 'a', 'contributor', 'to', 'a', 'wide', 'variety', 'of', 'health', 'conditions', 'with', 'particular', 'interest', 'in', 'a', 'axis', 'which', 'regulates', 'the', 'blood', 'brain', 'barrier', 'Though', 'somewhat', 'speculative', 'at', 'present', 'it', 'is', 'sible', 'that', 'the', 'leaky', 'gut', 'is', 'a', 'primary', 'source', 'of', 'mation', 'within', 'the', 'circulation', 'Studies', 'in', 'Drosophila', 'have', 'reported', 'that', 'changes', 'in', 'the', 'microbiome', 'increase', 'intestinal', 'permeability', 'and', 'drive', 'chronic', 'inflammation', 'More', 'cently', 'Thevaranjan', 'et', 'al', 'were', 'the', 'first', 'to', 'our', 'knowledge', 'to', 'publish', 'work', 'from', 'mammals', 'directly', 'supporting', 'this', 'hypothesis', 'Using', 'and', 'ventionally', 'raised', 'mice', 'this', 'group', 'reported', 'that', 'the', 'animals', 'did', 'not', 'display', 'an', 'crease', 'in', 'systemic', 'cytokines', 'over', 'with', 'old', 'but', 'not', 'young', 'conventionally', 'raised', 'mice', 'increased', 'ing', 'cytokines', 'apy', 'also', 'reversed', 'microbial', 'changes', 'These', 'data', 'are', 'the', 'strongest', 'to', 'date', 'suggesting', 'the', 'critical', 'role', 'of', 'gut', 'changes', 'in', 'driving', 'flammation', 'and', 'provide', 'a', 'solid', 'backdrop', 'for', 'ued', 'investigation', 'in', 'this', 'area', 'Potential', 'intervention', 'strategies', 'Though', 'additional', 'research', 'is', 'certainly', 'needed', 'in', 'this', 'area', 'the', 'aforementioned', 'data', 'do', 'suggest', 'that', 'tions', 'designed', 'to', 'target', 'the', 'gut', 'microbiome', 'may', 'be', 'able', 'of', 'producing', 'beneficial', 'effects', 'on', 'inflammation', 'and', 'overall', 'health', 'To', 'date', 'research', 'on', 'such', 'interventions', 'is', 'as', 'limited', 'as', 'that', 'on', 'the', 'aging', 'microbiome', 'in', 'general', 'Still', 'within', 'this', 'small', 'evidence', 'base', 'are', 'some', 'intriguing', 'and', 'promising', 'findings', 'that', 'support', 'the', 'concept', 'of', 'intervening', 'upon', 'the', 'microbiome', 'Interestingly', 'some', 'of', 'the', 'most', 'promising', 'strategies', 'are', 'not', 'truly', 'but', 'rather', 'interventions', 'which', 'are', 'increasingly', 'recognized', 'to', 'have', 'beneficial', 'effects', 'on', 'the', 'gut', 'microbiome', 'For', 'stance', 'dietary', 'habits', 'appear', 'to', 'be', 'one', 'of', 'the', 'biggest', 'drivers', 'of', 'gut', 'health', 'and', 'microbiota', 'composition', 'Specifically', 'adherence', 'to', 'a', 'diet', 'commonly', 'seen', 'in', 'Western', 'cultures', 'appears', 'to', 'be', 'one', 'of', 'the', 'driving', 'factors', 'in', 'gut', 'dysbiosis', 'Accordingly', 'interventions', 'such', 'as', 'caloric', 'restriction', 'implementing', 'a', 'diet', 'may', 'hold', 'promise', 'for', 'balancing', 'the', 'gut', 'microbiome', 'Moreover', 'studies', 'exist', 'to', 'suggest', 'potential', 'fits', 'to', 'specific', 'dietary', 'choices', 'nutritional', 'plements', 'including', 'but', 'not', 'necessarily', 'limited', 'to', 'coffee', 'resveratrol', '00', 'quercetin', 'other', 'polyphenol', 'compounds', 'Interestingly', 'many', 'of', 'these', 'strategies', 'have', 'previously', 'been', 'ported', 'to', 'have', 'healthy', 'aging', 'properties', 'These', 'new', 'data', 'suggest', 'that', 'perhaps', 'ences', 'at', 'the', 'level', 'of', 'the', 'gut', 'may', 'be', 'at', 'least', 'partially', 'responsible', 'for', 'these', 'purported', 'benefits', 'However', 'studies', 'are', 'needed', 'that', 'specifically', 'evaluate', 'the', 'ence', 'of', 'dietary', 'changes', 'on', 'the', 'gut', 'microbiome', 'and', 'other', 'health', 'parameters', 'among', 'older', 'adults', 'Similarly', 'physical', 'exercise', 'is', 'a', 'clinically', 'mended', 'intervention', 'with', 'health', 'efits', 'which', 'is', 'now', 'purported', 'to', 'have', 'important', 'benefits', 'on', 'the', 'gut', 'Recent', 'studies', 'in', 'boratory', 'animals', 'have', 'demonstrated', 'that', 'aerobic', 'ercise', 'provides', 'a', 'variety', 'of', 'beneficial', 'effects', 'on', 'the', 'gut', 'including', 'enhancing', 'epithelial', 'membrane', 'integrity', 'increasing', 'microbial', 'diversity', 'and', 'attenuating', 'intestinal', 'inflammation', '1', 'However', 'few', 'human', 'studies', 'in', 'this', 'area', 'have', 'been', 'published', 'to', 'date', 'Recently', 'Clarke', 'et', 'al', 'recently', 'reported', 'that', 'professional', 'athletes', 'rugby', 'players', 'displayed', 'a', 'higher', 'diversity', 'of', 'gut', 'organisms', 'compared', 'to', 'controls', 'However', 'extensive', 'additional', 'findings', 'from', 's', 'particularly', 'in', 'the', 'form', 'of', 'longitudinal', 'tion', 'studies', 'are', 'needed', 'to', 'confirm', 'these', 'beneficial', 'effects', 'Moreover', 'to', 'my', 'knowledge', 'no', 'studies', 'man', 'or', 'animal', 'have', 'evaluated', 'the', 'influence', 'of', 'cise', 'on', 'the', 'gut', 'microbiome', 'in', 'late', 'life', 'Additionally', 'questions', 'remain', 'regarding', 'the', 'effects', 'of', 'exercise', 'modality', 'and', 'if', 'these', 'observed', 'effects', 'are', 'specific', 'to', 'aerobic', 'exercise', 'compared', 'to', 'resistance', 'training', 'Perhaps', 'not', 'surprisingly', 'dietary', 'supplementation', 'with', 'probiotics', 'also', 'appears', 'to', 'be', 'among', 'the', 'most', 'promising', 'interventions', 'for', 'the', 'gut', 'microbiome', 'actions', 'of', 'probiotics', 'include', 'antimicrobial', 'activity', 'enhancement', 'of', 'intestinal', 'rier', 'function', 'and', 'immunomodulation', 'via', 'actions', 'on', 'a', 'wide', 'variety', 'of', 'immune', 'cells', 'In', 'line', 'with', 'these', 'established', 'mechanisms', 'studies', 'among', 'older', 'adults', 'have', 'demonstrated', 'beneficial', 'effects', 'of', 'biotic', 'preparations', 'on', 'gut', 'microflora', 'composition', 'and', 'systemic', 'immunity', 'van', 'Beek', 'et', 'al', 'also', 'recently', 'reported', 'that', '10', 'weeks', 'of', 'supplementation', 'with', 'the', 'probiotic', 'Lactobacillus', 'plantarum', 'WCFS1', 'prevented', 'decline', 'in', 'the', 'colon', 'mucus', 'barrier', 'in', 'a', 'mouse', 'model', 'of', 'ated', 'aging', 'Probiotics', 'have', 'also', 'been', 'proposed', 'to', 'potentially', 'have', 'properties', 'Such', 'an', 'effect', 'seems', 'plausible', 'given', 'the', 'effects', 'of', 'probiotics', 'on', 'the', 'immune', 'system', 'To', 'date', 'several', 'studies', 'have', 'investigated', 'this', 'potential', 'inflammatory', 'affect', 'with', 'the', 'overall', 'effect', 'appearing', 'to', 'be', 'modest', 'more', 'definitive', 'research', 'in', 'this', 'area', 'is', 'certainly', 'warranted', 'More', 'research', 'is', 'also', 'needed', 'regarding', 'the', 'ability', 'to', 'utilize', 'probiotics', 'as', 'a', 'vehicle', 'to', 'deliver', 'other', 'therapeutic', 'compounds', 'Indeed', 'genetically', 'modified', 'probiotics', 'have', 'been', 'purported', 'as', 'highly', 'promising', 'treatment', 'strategies', 'as', 'they', 'offer', 'a', 'tially', 'efficacious', 'method', 'to', 'deliver', 'drugs', 'or', 'other', 'therapeutic', 'proteins', 'with', 'precision', 'and', 'a', 'higher', 'degree', 'of', 'site', 'specificity', 'than', 'conventional', 'drug', 'mens', 'For', 'instance', 'Steidler', 'et', 'al', 'previously', 'reported', 'on', 'the', 'utility', 'of', 'Lactococcus', 'lactis', 'as', 'a', 'vehicle', 'for', 'delivering', 'for', 'the', 'treatment', 'of', 'flammatory', 'bowel', 'disease', 'Elsewhere', 'this', 'egy', 'has', 'been', 'proposed', 'as', 'a', 'potential', 'method', 'of', 'delivering', 'antihypertensive', 'therapeutics', 'Given', 'the', 'relative', 'infancy', 'of', 'this', 'field', 'however', 'the', 'overall', 'body', 'of', 'literature', 'in', 'this', 'area', 'is', 'sparse', 'Future', 'studies', 'are', 'certainly', 'warranted', 'on', 'the', 'tial', 'utility', 'of', 'genetically', 'modified', 'probiotics', 'in', 'the', 'treatment', 'of', 'inflammation', 'and', 'associated', 'diseases', 'Conclusions', 'As', 'the', 'population', 'ages', 'across', 'developed', 'nations', 'worldwide', 'the', 'need', 'for', 'healthcare', 'solutions', 'to', 'ease', 'the', 'burden', 'of', 'diseases', 'grows', 'Treatments', 'for', 'chronic', 'inflammation', 'represent', 'a', 'particularly', 'promising', 'strategy', 'given', 'the', 'observation', 'of', 'mation', 'in', 'healthy', 'aging', 'as', 'well', 'as', 'nearly', 'every', 'disorder', 'or', 'disease', 'Growing', 'evidence', 'dicates', 'that', 'the', 'gut', 'microbiome', 'may', 'represent', 'a', 'novel', 'site', 'of', 'intervention', 'for', 'the', 'prevention', 'treatment', 'of', 'inflammation', 'A', 'variety', 'of', 'logic', 'medical', 'and', 'lifestyle', 'factors', 'appear', 'to', 'ute', 'to', 'gut', 'dysbiosis', 'in', 'and', 'interventions', 'specifically', 'designed', 'to', 'target', 'these', 'factors', 'may', 'be', 'useful', 'in', 'restoring', 'microbial', 'balance', 'and', 'attenuating', 'inflammation', 'Fig', 'Still', 'much', 'remains', 'to', 'be', 'raveled', 'as', 'it', 'relates', 'to', 'the', 'influence', 'of', 'the', 'gut', 'microbiome', 'on', 'inflammation', 'larly', 'as', 'it', 'relates', 'to', 'the', 'potential', 'efficacy', 'of', 'directed', 'interventions', 'Thus', 'this', 'field', 'appears', 'to', 'offer', 'great', 'opportunities', 'for', 'research', 'I', 'look', 'forward', 'to', 'continued', 'investigation', 'in', 'this', 'area', 'as', 'it', 'has', 'the', 'potential', 'to', 'yield', 'tremendous', 'throughs', 'for', 'improving', 'the', 'health', 'and', 'quality', 'of', 'life', 'of', 'older', 'persons', 'Abbreviations', 'CRP', 'protein', 'HPA', 'Interleukin', '6', 'Interleukin', '8', 'SCFA', 'fatty', 'acids', 'TLR', 'receptor', 'Tumor', 'necrosis', 'factor', 'alpha', 'Acknowledgments', 'None', 'Funding', 'No', 'funding', 'was', 'necessary', 'to', 'complete', 'the', 'present', 'review', 'Availability', 'of', 'data', 'and', 'materials', 'Data', 'sharing', 'not', 'applicable', 'to', 'this', 'article', 'as', 'no', 'datasets', 'were', 'generated', 'or', 'analyzed', 'during', 'the', 'current', 'study', 'Author', 'contributions', 'Buford', 'is', 'responsible', 'for', 'all', 'aspects', 'of', 'the', 'article', 'Ethics', 'approval', 'and', 'consent', 'to', 'participate', 'Not', 'applicable', 'Consent', 'for', 'publication', 'Not', 'applicable', 'Competing', 'Interests', 'The', 'author', 'declares', 'that', 'there', 'are', 'no', 'competing', 'interests', 'associated', 'with', 'this', 'manuscript', 'Publisher', 'Note', 'Springer', 'Nature', 'remains', 'neutral', 'with', 'regard', 'to', 'jurisdictional', 'claims', 'in', 'published', 'maps', 'and', 'institutional', 'affiliations', 'Received', '9', 'May', '2017', 'Accepted', '4', 'July', '2017', 'References', 'Franceschi', 'C', 'Motta', 'L', 'Motta', 'M', 'Malaguarnera', 'M', 'Capri', 'M', 'Vasto', 'S', 'Candore', 'G', 'Caruso', 'C', 'IMUSCE', 'The', 'extreme', 'longevity', 'the', 'state', 'of', 'the', 'art', 'in', 'Italy', 'Exp', 'Gerontol', '2008', '43', '2', 'Troen', 'BR', 'The', 'biology', 'of', 'aging', 'Mt', 'Sinai', 'J', 'Med', '2003', '70', '1', 'Candore', 'G', 'G', 'Balistreri', 'CR', 'Di', 'Carlo', 'D', 'Grimaldi', 'MP', 'Listi', 'F', 'Nuzzo', 'D', 'Vasto', 'S', 'Lio', 'D', 'Caruso', 'Biology', 'of', 'longevity', 'role', 'of', 'the', 'innate', 'immune', 'system', 'Rejuvenation', 'Res', '2006', '9', '1', 'Buford', 'TW', 'Hypertension', 'and', 'aging', 'Ageing', 'Res', 'Rev', '2016', 'Cevenini', 'E', 'Caruso', 'C', 'Candore', 'G', 'Capri', 'M', 'Nuzzo', 'D', 'Duro', 'G', 'Rizzo', 'C', 'G', 'Lio', 'D', 'Di', 'Carlo', 'D', 'Palmas', 'MG', 'Scurti', 'M', 'Pini', 'E', 'Franceschi', 'C', 'Vasto', 'inflammation', 'the', 'contribution', 'of', 'different', 'organs', 'tissues', 'and', 'systems', 'How', 'to', 'face', 'it', 'for', 'therapeutic', 'approaches', 'Curr', 'Pharm', 'Des', '2010', '16', '6', 'Chung', 'HY', 'Cesari', 'M', 'Anton', 'S', 'Marzetti', 'E', 'Giovannini', 'S', 'Seo', 'AY', 'Carter', 'C', 'Yu', 'BP', 'Leeuwenburgh', 'Molecular', 'inflammation', 'underpinnings', 'of', 'aging', 'and', 'diseases', 'Ageing', 'Res', 'Rev', '2009', '8', '1', 'Singh', 'T', 'Newman', 'AB', 'Inflammatory', 'markers', 'in', 'population', 'studies', 'of', 'aging', 'Ageing', 'Res', 'Rev', '2011', '10', '3', 'Vasto', 'S', 'Candore', 'G', 'Balistreri', 'CR', 'Caruso', 'M', 'G', 'Grimaldi', 'MP', 'Listi', 'F', 'Nuzzo', 'D', 'Lio', 'D', 'Caruso', 'Inflammatory', 'networks', 'in', 'ageing', 'diseases', 'and', 'longevity', 'Mech', 'Ageing', 'Dev', '2007', '128', '1', 'Sarkar', 'D', 'Fisher', 'PB', 'Molecular', 'mechanisms', 'of', 'inflammation', 'Cancer', 'Lett', '2006', '236', '1', 'Wei', 'J', 'Xu', 'H', 'Davies', 'JL', 'Hemmings', 'GP', 'Increase', 'of', 'plasma', 'concentration', 'with', 'age', 'in', 'healthy', 'subjects', 'Life', 'Sci', '1992', '51', '25', 'Ershler', 'WB', 'Sun', 'WH', 'Binkley', 'N', 'Gravenstein', 'S', 'Volk', 'MJ', 'Kamoske', 'G', 'Klopp', 'RG', 'Roecker', 'EB', 'Daynes', 'RA', 'Weindruch', 'and', 'aging', 'blood', 'levels', 'and', 'mononuclear', 'cell', 'production', 'increase', 'with', 'advancing', 'age', 'and', 'in', 'vitro', 'production', 'is', 'modifiable', 'by', 'dietary', 'restriction', 'Lymphokine', 'Cytokine', 'Res', '1993', '12', '4', 'Fagiolo', 'U', 'Cossarizza', 'A', 'Scala', 'E', 'E', 'Ortolani', 'C', 'Cozzi', 'E', 'Monti', 'D', 'Franceschi', 'C', 'Paganelli', 'Increased', 'cytokine', 'production', 'in', 'mononuclear', 'cells', 'of', 'healthy', 'elderly', 'people', 'Eur', 'J', 'Immunol', '1993', '23', '9', 'Tracy', 'RP', 'Lemaitre', 'RN', 'Psaty', 'BM', 'Ives', 'DG', 'Evans', 'RW', 'Cushman', 'M', 'Meilahn', 'EN', 'Kuller', 'LH', 'Relationship', 'of', 'protein', 'to', 'risk', 'of', 'cardiovascular', 'disease', 'in', 'the', 'elderly', 'Results', 'from', 'the', 'Cardiovascular', 'Health', 'Study', 'and', 'the', 'Rural', 'Health', 'Promotion', 'Project', 'Arterioscler', 'Thromb', 'Vasc', 'Biol', '1997', '17', '6', 'Cesari', 'M', 'Penninx', 'BW', 'Newman', 'AB', 'Kritchevsky', 'SB', 'Nicklas', 'BJ', 'K', 'Tracy', 'RP', 'Rubin', 'SM', 'Harris', 'TB', 'Pahor', 'Inflammatory', 'markers', 'and', 'cardiovascular', 'disease', 'The', 'Health', 'Aging', 'and', 'Body', 'Composition', 'Health', 'ABC', 'Study', 'Am', 'J', 'Cardiol', '2003', '92', '5', 'Cesari', 'M', 'Penninx', 'BW', 'Newman', 'AB', 'Kritchevsky', 'SB', 'Nicklas', 'BJ', 'K', 'Rubin', 'SM', 'Ding', 'J', 'Simonsick', 'EM', 'Harris', 'TB', 'Pahor', 'Inflammatory', 'markers', 'and', 'onset', 'of', 'cardiovascular', 'events', 'results', 'from', 'the', 'Health', 'ABC', 'study', 'Circulation', '2003', '108', '19', 'Pickup', 'JC', 'Chusney', 'GD', 'Thomas', 'SM', 'Burt', 'Plasma', 'tumour', 'necrosis', 'factor', 'alpha', 'and', 'blood', 'cytokine', 'production', 'in', 'type', '2', 'diabetes', 'Life', 'Sci', '2000', '67', '3', 'Pradhan', 'AD', 'Manson', 'JE', 'Rifai', 'N', 'Buring', 'JE', 'Ridker', 'PM', 'protein', 'interleukin', '6', 'and', 'risk', 'of', 'developing', 'type', '2', 'diabetes', 'mellitus', 'JAMA', '2001', '286', '3', 'Bertoni', 'AG', 'Burke', 'GL', 'Owusu', 'JA', 'Carnethon', 'MR', 'Vaidya', 'D', 'Barr', 'RG', 'Jenny', 'NS', 'Ouyang', 'P', 'Rotter', 'JI', 'Inflammation', 'and', 'the', 'incidence', 'of', 'type', '2', 'diabetes', 'the', 'Study', 'of', 'Atherosclerosis', 'MESA', 'Diabetes', 'Care', '2010', '33', '4', 'Khosla', 'S', 'Peterson', 'JM', 'Egan', 'K', 'Jones', 'JD', 'Riggs', 'BL', 'Circulating', 'cytokine', 'levels', 'in', 'osteoporotic', 'and', 'normal', 'women', 'J', 'Clin', 'Endocrinol', 'Metab', '1994', '79', '3', 'Zheng', 'SX', 'Vrindts', 'Y', 'Lopez', 'M', 'De', 'Groote', 'D', 'Zangerle', 'PF', 'Collette', 'J', 'Franchimont', 'N', 'Geenen', 'V', 'Albert', 'A', 'Reginster', 'JY', 'Increase', 'in', 'cytokine', 'production', 'beta', 'but', 'not', 'or', 'LIF', 'by', 'stimulated', 'whole', 'blood', 'cells', 'in', 'postmenopausal', 'osteoporosis', 'Maturitas', '1997', '26', '1', 'Ding', 'C', 'Parameswaran', 'V', 'Udayan', 'R', 'Burgess', 'J', 'Jones', 'Circulating', 'levels', 'of', 'inflammatory', 'markers', 'predict', 'change', 'in', 'bone', 'mineral', 'density', 'and', 'resorption', 'in', 'older', 'adults', 'a', 'longitudinal', 'study', 'J', 'Clin', 'Endocrinol', 'Metab', '2008', '93', '5', 'Yaffe', 'K', 'Lindquist', 'K', 'Penninx', 'BW', 'Simonsick', 'EM', 'Pahor', 'M', 'Kritchevsky', 'S', 'Launer', 'L', 'Kuller', 'L', 'Rubin', 'S', 'Harris', 'Inflammatory', 'markers', 'and', 'cognition', 'in', 'and', 'white', 'elders', 'Neurology', '2003', '61', '1', 'Weaver', 'JD', 'Huang', 'MH', 'Albert', 'M', 'Harris', 'T', 'Rowe', 'JW', 'Seeman', 'TE', '6', 'and', 'risk', 'of', 'cognitive', 'decline', 'MacArthur', 'studies', 'of', 'successful', 'aging', 'Neurology', '2002', '59', '3', 'Engelhart', 'MJ', 'Geerlings', 'MI', 'Meijer', 'J', 'Kiliaan', 'A', 'Ruitenberg', 'A', 'van', 'Swieten', 'JC', 'Stijnen', 'T', 'Hofman', 'A', 'Witteman', 'JC', 'Breteler', 'MM', 'Inflammatory', 'proteins', 'in', 'plasma', 'and', 'the', 'risk', 'of', 'dementia', 'the', 'rotterdam', 'study', 'Arch', 'Neurol', '2004', '61', '5', 'Ershler', 'WB', 'Keller', 'ET', 'increased', 'gene', 'expression', 'diseases', 'and', 'frailty', 'Annu', 'Rev', 'Med', '2000', '51', 'Walston', 'J', 'McBurnie', 'MA', 'Newman', 'A', 'Tracy', 'RP', 'Kop', 'WJ', 'Hirsch', 'CH', 'Gottdiener', 'J', 'Fried', 'LP', 'Cardiovascular', 'Health', 'Study', 'Frailty', 'and', 'activation', 'of', 'the', 'inflammation', 'and', 'coagulation', 'systems', 'with', 'and', 'without', 'clinical', 'comorbidities', 'results', 'from', 'the', 'Cardiovascular', 'Health', 'Study', 'Arch', 'Intern', 'Med', '2002', '162', '20', 'Ferrucci', 'L', 'Penninx', 'BW', 'Volpato', 'S', 'Harris', 'TB', 'K', 'Balfour', 'J', 'Leveille', 'SG', 'Fried', 'LP', 'Md', 'JM', 'Change', 'in', 'muscle', 'strength', 'explains', 'accelerated', 'decline', 'of', 'physical', 'function', 'in', 'older', 'women', 'with', 'high', 'serum', 'levels', 'J', 'Am', 'Geriatr', 'Soc', '2002', '50', '12', 'Aggarwal', 'BB', 'Shishodia', 'S', 'Sandur', 'SK', 'Pandey', 'MK', 'Sethi', 'Inflammation', 'and', 'cancer', 'how', 'hot', 'is', 'the', 'link', 'Biochem', 'Pharmacol', '2006', '72', '11', 'Lu', 'H', 'Ouyang', 'W', 'Huang', 'Inflammation', 'a', 'key', 'event', 'in', 'cancer', 'development', 'Mol', 'Cancer', 'Res', '2006', '4', '4', 'D', 'Colbert', 'LH', 'Harris', 'TB', 'Newman', 'AB', 'Bauer', 'DC', 'Satterfield', 'S', 'Kritchevsky', 'SB', 'Circulating', 'levels', 'of', 'inflammatory', 'markers', 'and', 'cancer', 'risk', 'in', 'the', 'health', 'aging', 'and', 'body', 'composition', 'cohort', 'Cancer', 'Epidemiol', 'Biomarkers', 'Prev', '2005', '14', '10', 'Newman', 'AB', 'Sachs', 'MC', 'Arnold', 'AM', 'Fried', 'LP', 'Kronmal', 'R', 'Cushman', 'M', 'Psaty', 'BM', 'Harris', 'TB', 'Robbins', 'JA', 'Burke', 'GL', 'Kuller', 'LH', 'Lumley', 'Total', 'and', 'specific', 'mortality', 'in', 'the', 'cardiovascular', 'health', 'study', 'J', 'Gerontol', 'A', 'Biol', 'Sci', 'Med', 'Sci', '2009', '64', '12', 'Harris', 'TB', 'Ferrucci', 'L', 'Tracy', 'RP', 'Corti', 'MC', 'Wacholder', 'S', 'Ettinger', 'Jr', 'WH', 'Heimovitz', 'H', 'Cohen', 'HJ', 'Wallace', 'Associations', 'of', 'elevated', 'and', 'protein', 'levels', 'with', 'mortality', 'in', 'the', 'elderly', 'Am', 'J', 'Med', '1999', '106', '5', 'Roubenoff', 'R', 'Parise', 'H', 'Payette', 'HA', 'Abad', 'LW', 'R', 'Jacques', 'PF', 'Wilson', 'PW', 'Dinarello', 'CA', 'Harris', 'TB', 'Cytokines', 'growth', 'factor', '1', 'sarcopenia', 'and', 'mortality', 'in', 'very', 'old', 'men', 'and', 'women', 'the', 'Framingham', 'Heart', 'Study', 'Am', 'J', 'Med', '2003', '115', '6', 'Krabbe', 'KS', 'Pedersen', 'M', 'Bruunsgaard', 'Inflammatory', 'mediators', 'in', 'the', 'elderly', 'Exp', 'Gerontol', '2004', '39', '5', 'Phillips', 'AC', 'Burns', 'VE', 'Lord', 'JM', 'Stress', 'and', 'exercise', 'getting', 'the', 'balance', 'right', 'for', 'aging', 'immunity', 'Exerc', 'Sport', 'Sci', 'Rev', '2007', '35', '1', 'Hawkley', 'LC', 'Cacioppo', 'JT', 'Stress', 'and', 'the', 'aging', 'immune', 'system', 'Brain', 'Behav', 'Immun', '2004', '18', '2', 'De', 'Martinis', 'M', 'Franceschi', 'C', 'Monti', 'D', 'Ginaldi', 'Apoptosis', 'remodeling', 'in', 'immunosenescence', 'implications', 'for', 'strategies', 'to', 'delay', 'ageing', 'Curr', 'Med', 'Chem', '2007', '14', '13', 'Buford', 'TW', 'Willoughby', 'DS', 'Impact', 'of', 'DHEA', 'S', 'and', 'cortisol', 'on', 'immune', 'function', 'in', 'aging', 'a', 'brief', 'review', 'Appl', 'Physiol', 'Nutr', 'Metab', '2008', '33', '3', 'Wick', 'G', 'Berger', 'P', 'P', 'B', 'A', 'evolutionary', 'concept', 'of', 'diseases', 'Exp', 'Gerontol', '2003', '38', 'Jeffery', 'IB', 'Lynch', 'DB', 'PW', 'Composition', 'and', 'temporal', 'stability', 'of', 'the', 'gut', 'microbiota', 'in', 'older', 'persons', 'ISME', 'J', '2016', '10', '1', 'Jackson', 'MA', 'Jeffery', 'IB', 'Beaumont', 'M', 'Bell', 'JT', 'Clark', 'AG', 'Ley', 'RE', 'PW', 'Spector', 'TD', 'Steves', 'CJ', 'Signatures', 'of', 'early', 'frailty', 'in', 'the', 'gut', 'microbiota', 'Genome', 'Med', '2016', '8', '1', 'Cattaneo', 'A', 'Cattane', 'N', 'Galluzzi', 'S', 'Provasi', 'S', 'Lopizzo', 'N', 'Festari', 'C', 'Ferrari', 'C', 'Guerra', 'UP', 'Paghera', 'B', 'Muscio', 'C', 'Bianchetti', 'A', 'Volta', 'GD', 'Turla', 'M', 'Cotelli', 'MS', 'Gennuso', 'M', 'Prelle', 'A', 'Zanetti', 'O', 'Lussignoli', 'G', 'Mirabile', 'D', 'Bellandi', 'D', 'Gentile', 'S', 'Belotti', 'G', 'Villani', 'D', 'Harach', 'T', 'Bolmont', 'T', 'Padovani', 'A', 'Boccardi', 'M', 'Frisoni', 'GB', 'Group', 'Association', 'of', 'brain', 'amyloidosis', 'with', 'gut', 'bacterial', 'taxa', 'and', 'peripheral', 'inflammation', 'markers', 'in', 'cognitively', 'impaired', 'elderly', 'Neurobiol', 'Aging', '2017', 'Gill', 'SR', 'Pop', 'M', 'Deboy', 'RT', 'Eckburg', 'PB', 'Turnbaugh', 'PJ', 'Samuel', 'BS', 'Gordon', 'JI', 'Relman', 'DA', 'CM', 'Nelson', 'KE', 'Metagenomic', 'analysis', 'of', 'the', 'human', 'distal', 'gut', 'microbiome', 'Science', '2006', '312', '5778', 'Ley', 'RE', 'Peterson', 'DA', 'Gordon', 'JI', 'Ecological', 'and', 'evolutionary', 'forces', 'shaping', 'microbial', 'diversity', 'in', 'the', 'human', 'intestine', 'Cell', '2006', '124', '4', 'Cox', 'LM', 'Blaser', 'MJ', 'Antibiotics', 'in', 'early', 'life', 'and', 'obesity', 'Nat', 'Rev', 'Endocrinol', '2015', '11', '3', 'AM', 'Shanahan', 'The', 'gut', 'flora', 'as', 'a', 'forgotten', 'organ', 'EMBO', '2006', '7', '7', 'Egert', 'M', 'de', 'Graaf', 'AA', 'Smidt', 'H', 'de', 'Vos', 'WM', 'Venema', 'Beyond', 'diversity', 'functional', 'microbiomics', 'of', 'the', 'human', 'colon', 'Trends', 'Microbiol', '2006', '14', '2', 'Thaiss', 'CA', 'Zeevi', 'D', 'Levy', 'M', 'G', 'Suez', 'J', 'Tengeler', 'AC', 'Abramson', 'L', 'Katz', 'MN', 'Korem', 'T', 'Zmora', 'N', 'Kuperman', 'Y', 'Biton', 'I', 'Gilad', 'S', 'Harmelin', 'A', 'Shapiro', 'H', 'Halpern', 'Z', 'Segal', 'E', 'Elinav', 'Transkingdom', 'control', 'of', 'microbiota', 'diurnal', 'oscillations', 'promotes', 'metabolic', 'homeostasis', 'Cell', '2014', '159', '3', 'Collins', 'SM', 'Surette', 'M', 'Bercik', 'The', 'interplay', 'between', 'the', 'intestinal', 'microbiota', 'and', 'the', 'brain', 'Nat', 'Rev', 'Microbiol', '2012', '10', '11', 'Belkaid', 'Y', 'Hand', 'TW', 'Role', 'of', 'the', 'microbiota', 'in', 'immunity', 'and', 'inflammation', 'Cell', '2014', '157', '1', 'S', 'Paglino', 'J', 'F', 'Edberg', 'S', 'Medzhitov', 'Recognition', 'of', 'commensal', 'microflora', 'by', 'receptors', 'is', 'required', 'for', 'intestinal', 'homeostasis', 'Cell', '2004', '118', '2', 'Maslowski', 'KM', 'Vieira', 'AT', 'Ng', 'A', 'Kranich', 'J', 'Sierro', 'F', 'Yu', 'D', 'Schilter', 'HC', 'Rolph', 'MS', 'Mackay', 'F', 'Artis', 'D', 'Xavier', 'RJ', 'Teixeira', 'MM', 'Mackay', 'CR', 'Regulation', 'of', 'inflammatory', 'responses', 'by', 'gut', 'microbiota', 'and', 'chemoattractant', 'receptor', 'GPR43', 'Nature', '2009', '461', '7268', 'Belkaid', 'Y', 'Naik', 'Compartmentalized', 'and', 'systemic', 'control', 'of', 'tissue', 'immunity', 'by', 'commensals', 'Nat', 'Immunol', '2013', '14', '7', 'Abt', 'MC', 'Osborne', 'LC', 'Monticelli', 'LA', 'Doering', 'TA', 'Alenghat', 'T', 'Sonnenberg', 'GF', 'Paley', 'MA', 'Antenus', 'M', 'Williams', 'KL', 'Erikson', 'J', 'Wherry', 'EJ', 'Artis', 'Commensal', 'bacteria', 'calibrate', 'the', 'activation', 'threshold', 'of', 'innate', 'antiviral', 'immunity', 'Immunity', '2012', '37', '1', 'Hill', 'DA', 'Siracusa', 'MC', 'Abt', 'MC', 'Kim', 'BS', 'Kobuley', 'D', 'Kubo', 'M', 'Kambayashi', 'T', 'Larosa', 'DF', 'Renner', 'ED', 'Orange', 'JS', 'Bushman', 'FD', 'Artis', 'Commensal', 'signals', 'regulate', 'basophil', 'hematopoiesis', 'and', 'allergic', 'inflammation', 'Nat', 'Med', '2012', '18', '4', 'Ichinohe', 'T', 'Pang', 'IK', 'Kumamoto', 'Y', 'Peaper', 'DR', 'Ho', 'JH', 'Murray', 'TS', 'Iwasaki', 'Microbiota', 'regulates', 'immune', 'defense', 'against', 'respiratory', 'tract', 'influenza', 'A', 'virus', 'infection', 'Proc', 'Natl', 'Acad', 'Sci', 'U', 'S', 'A', '2011', '108', '13', 'Bruzzese', 'E', 'Callegari', 'ML', 'Raia', 'V', 'Viscovo', 'S', 'Scotto', 'R', 'Ferrari', 'S', 'Morelli', 'L', 'Buccigrossi', 'V', 'Lo', 'Vecchio', 'A', 'Ruberto', 'E', 'Guarino', 'A', 'Disrupted', 'intestinal', 'microbiota', 'and', 'intestinal', 'inflammation', 'in', 'children', 'with', 'cystic', 'fibrosis', 'and', 'its', 'restoration', 'with', 'Lactobacillus', 'GG', 'a', 'randomised', 'clinical', 'trial', 'PLoS', 'One', '2014', '9', '2', 'e87796', 'Frank', 'DN', 'St', 'Amand', 'AL', 'Feldman', 'RA', 'Boedeker', 'EC', 'Harpaz', 'N', 'Pace', 'NR', 'characterization', 'of', 'microbial', 'community', 'imbalances', 'in', 'human', 'inflammatory', 'bowel', 'diseases', 'Proc', 'Natl', 'Acad', 'Sci', 'U', 'S', 'A', '2007', '104', '34', 'Dubinsky', 'MC', 'Lin', 'YC', 'Dutridge', 'D', 'Picornell', 'Y', 'Landers', 'CJ', 'Farrior', 'S', 'Wrobel', 'I', 'Quiros', 'A', 'Vasiliauskas', 'EA', 'Grill', 'B', 'Israel', 'D', 'Bahar', 'R', 'Christie', 'D', 'Wahbeh', 'G', 'Silber', 'G', 'Dallazadeh', 'S', 'Shah', 'P', 'Thomas', 'D', 'Kelts', 'D', 'Hershberg', 'RM', 'Elson', 'CO', 'Targan', 'SR', 'Taylor', 'KD', 'Rotter', 'JI', 'Yang', 'H', 'Western', 'Regional', 'Pediatric', 'IBD', 'Research', 'Alliance', 'Serum', 'immune', 'responses', 'predict', 'rapid', 'disease', 'progression', 'among', 'children', 'with', 'Crohn', 'disease', 'immune', 'responses', 'predict', 'disease', 'progression', 'Am', 'J', 'Gastroenterol', '2006', '101', '2', 'SJ', 'Ou', 'J', 'Aufreiter', 'S', 'D', 'Sharma', 'S', 'Sepulveda', 'J', 'Fukuwatari', 'T', 'Shibata', 'K', 'Mawhinney', 'Products', 'of', 'the', 'colonic', 'microbiota', 'mediate', 'the', 'effects', 'of', 'diet', 'on', 'colon', 'cancer', 'risk', 'J', 'Nutr', '2009', '139', '11', 'Sampson', 'TR', 'Debelius', 'JW', 'Thron', 'T', 'Janssen', 'S', 'Shastri', 'GG', 'Ilhan', 'ZE', 'Challis', 'C', 'Schretter', 'CE', 'Rocha', 'S', 'Gradinaru', 'V', 'Chesselet', 'MF', 'Keshavarzian', 'A', 'Shannon', 'KM', 'R', 'P', 'Knight', 'R', 'Mazmanian', 'SK', 'Gut', 'Microbiota', 'Regulate', 'Motor', 'Deficits', 'and', 'Neuroinflammation', 'in', 'a', 'Model', 'of', 'Parkinson', 'Disease', 'Cell', '2016', '167', '6', 'Hu', 'X', 'Wang', 'T', 'Jin', 'Alzheimer', 'disease', 'and', 'gut', 'microbiota', 'Sci', 'China', 'Life', 'Sci', '2016', '59', '10', 'Berer', 'K', 'Mues', 'M', 'Koutrolos', 'M', 'Rasbi', 'ZA', 'Boziki', 'M', 'Johner', 'C', 'Wekerle', 'H', 'Krishnamoorthy', 'Commensal', 'microbiota', 'and', 'myelin', 'autoantigen', 'cooperate', 'to', 'trigger', 'autoimmune', 'demyelination', 'Nature', '2011', '479', '7374', 'Barlow', 'GM', 'Yu', 'A', 'Mathur', 'Role', 'of', 'the', 'gut', 'microbiome', 'in', 'obesity', 'and', 'diabetes', 'mellitus', 'Nutr', 'Clin', 'Pract', '2015', '30', '6', 'Komaroff', 'AL', 'The', 'Microbiome', 'and', 'Risk', 'for', 'Obesity', 'and', 'Diabetes', 'JAMA', '2017', '317', '4', 'Britton', 'RA', 'Irwin', 'R', 'Quach', 'D', 'Schaefer', 'L', 'Zhang', 'J', 'Lee', 'T', 'Parameswaran', 'N', 'McCabe', 'LR', 'Probiotic', 'reuteri', 'treatment', 'prevents', 'bone', 'loss', 'in', 'a', 'menopausal', 'ovariectomized', 'mouse', 'model', 'J', 'Cell', 'Physiol', '2014', '229', '11', 'Scher', 'JU', 'Sczesnak', 'A', 'Longman', 'RS', 'Segata', 'N', 'Ubeda', 'C', 'Bielski', 'C', 'Rostron', 'T', 'Cerundolo', 'V', 'Pamer', 'EG', 'Abramson', 'SB', 'Huttenhower', 'C', 'Littman', 'DR', 'Expansion', 'of', 'intestinal', 'Prevotella', 'copri', 'correlates', 'with', 'enhanced', 'susceptibility', 'to', 'arthritis', 'Elife', '2013', '2', 'e01202', 'Vieira', 'AT', 'Macia', 'L', 'Galvao', 'I', 'Martins', 'FS', 'Canesso', 'MC', 'Amaral', 'FA', 'Garcia', 'CC', 'Maslowski', 'KM', 'De', 'Leon', 'E', 'Shim', 'D', 'Nicoli', 'JR', 'Harper', 'JL', 'Teixeira', 'MM', 'Mackay', 'CR', 'A', 'role', 'for', 'gut', 'microbiota', 'and', 'the', 'receptor', 'GPR43', 'in', 'a', 'murine', 'model', 'of', 'gout', 'Arthritis', 'Rheumatol', '2015', '67', '6', 'PW', 'Jeffery', 'IB', 'Gut', 'microbiota', 'and', 'aging', 'Science', '2015', '350', '6265', 'Biagi', 'E', 'Nylund', 'L', 'Candela', 'M', 'Ostan', 'R', 'Bucci', 'L', 'Pini', 'E', 'Nikkila', 'J', 'Monti', 'D', 'Satokari', 'R', 'Franceschi', 'C', 'Brigidi', 'P', 'De', 'Vos', 'Through', 'ageing', 'and', 'beyond', 'gut', 'microbiota', 'and', 'inflammatory', 'status', 'in', 'seniors', 'and', 'centenarians', 'PLoS', 'One', '2010', '5', '5', 'e10667', 'Rampelli', 'S', 'Candela', 'M', 'Turroni', 'S', 'Biagi', 'E', 'Collino', 'S', 'Franceschi', 'C', 'PW', 'Brigidi', 'Functional', 'metagenomic', 'profiling', 'of', 'intestinal', 'microbiome', 'in', 'extreme', 'ageing', 'Aging', 'Albany', 'NY', '2013', '5', '12', 'Claesson', 'MJ', 'Cusack', 'S', 'O', 'R', 'de', 'Weerd', 'H', 'Flannery', 'E', 'Marchesi', 'JR', 'Falush', 'D', 'Dinan', 'T', 'Fitzgerald', 'G', 'Stanton', 'C', 'van', 'Sinderen', 'D', 'M', 'Harnedy', 'N', 'K', 'Henry', 'C', 'D', 'Fitzgerald', 'AP', 'Shanahan', 'F', 'Twomey', 'C', 'Hill', 'C', 'Ross', 'RP', 'PW', 'Composition', 'variability', 'and', 'temporal', 'stability', 'of', 'the', 'intestinal', 'microbiota', 'of', 'the', 'elderly', 'Proc', 'Natl', 'Acad', 'Sci', 'U', 'S', 'A', '2011', '108', 'Suppl', 'Claesson', 'MJ', 'Jeffery', 'IB', 'Conde', 'S', 'Power', 'SE', 'EM', 'Cusack', 'S', 'Harris', 'HM', 'Coakley', 'M', 'Lakshminarayanan', 'B', 'O', 'Fitzgerald', 'GF', 'Deane', 'J', 'M', 'Harnedy', 'N', 'K', 'D', 'van', 'Sinderen', 'D', 'Wallace', 'M', 'Brennan', 'L', 'Stanton', 'C', 'Marchesi', 'JR', 'Fitzgerald', 'AP', 'Shanahan', 'F', 'Hill', 'C', 'Ross', 'RP', 'PW', 'Gut', 'microbiota', 'composition', 'correlates', 'with', 'diet', 'and', 'health', 'in', 'the', 'elderly', 'Nature', '2012', '488', '7410', 'van', 'Tongeren', 'SP', 'Slaets', 'JP', 'Harmsen', 'HJ', 'Welling', 'GW', 'Fecal', 'microbiota', 'composition', 'and', 'frailty', 'Appl', 'Environ', 'Microbiol', '2005', '71', '10', 'Proctor', 'C', 'Thiennimitr', 'P', 'Chattipakorn', 'N', 'Chattipakorn', 'SC', 'Diet', 'gut', 'microbiota', 'and', 'cognition', 'Metab', 'Brain', 'Dis', '2017', '32', '1', 'Alkasir', 'R', 'Li', 'J', 'Li', 'X', 'Jin', 'M', 'Zhu', 'B', 'Human', 'gut', 'microbiota', 'the', 'links', 'with', 'dementia', 'development', 'Protein', 'Cell', '2017', '8', '2', 'Blaser', 'MJ', 'Falkow', 'What', 'are', 'the', 'consequences', 'of', 'the', 'disappearing', 'human', 'microbiota', 'Nat', 'Rev', 'Microbiol', '2009', '7', '12', 'Lee', 'GC', 'Reveles', 'KR', 'Attridge', 'RT', 'Lawson', 'KA', 'Mansi', 'IA', 'Lewis', 'Frei', 'CR', 'Outpatient', 'antibiotic', 'prescribing', 'in', 'the', 'United', 'States', '2000', 'to', '2010', 'BMC', 'Med', '2014', 'Lim', 'CJ', 'Kong', 'DC', 'Stuart', 'RL', 'Reducing', 'inappropriate', 'antibiotic', 'prescribing', 'in', 'the', 'residential', 'care', 'setting', 'current', 'perspectives', 'Clin', 'Interv', 'Aging', '2014', '9', 'Lovat', 'LB', 'Age', 'related', 'changes', 'in', 'gut', 'physiology', 'and', 'nutritional', 'status', 'Gut', '1996', '38', '3', 'Fukunaga', 'A', 'Uematsu', 'H', 'Sugimoto', 'Influences', 'of', 'aging', 'on', 'taste', 'perception', 'and', 'oral', 'somatic', 'sensation', 'J', 'Gerontol', 'A', 'Biol', 'Sci', 'Med', 'Sci', '2005', '60', '1', 'McEwen', 'BS', 'Protective', 'and', 'damaging', 'effects', 'of', 'stress', 'mediators', 'N', 'Engl', 'J', 'Med', '1998', '338', '3', 'Bauer', 'ME', 'Stress', 'glucocorticoids', 'and', 'ageing', 'of', 'the', 'immune', 'system', 'Stress', '2005', '8', '1', 'Galley', 'JD', 'Bailey', 'MT', 'Impact', 'of', 'stressor', 'exposure', 'on', 'the', 'interplay', 'between', 'commensal', 'microbiota', 'and', 'host', 'inflammation', 'Gut', 'Microbes', '2014', '5', '3', 'Jakobsson', 'HE', 'AM', 'Schutte', 'A', 'Ermund', 'A', 'Boysen', 'P', 'Bemark', 'M', 'Sommer', 'F', 'Backhed', 'F', 'Hansson', 'GC', 'Johansson', 'ME', 'The', 'composition', 'of', 'the', 'gut', 'microbiota', 'shapes', 'the', 'colon', 'mucus', 'barrier', 'EMBO', '2015', '16', '2', 'Man', 'AL', 'Bertelli', 'E', 'Rentini', 'S', 'Regoli', 'M', 'Briars', 'G', 'Marini', 'M', 'Watson', 'AJ', 'Nicoletti', 'modifications', 'of', 'intestinal', 'permeability', 'and', 'innate', 'immunity', 'in', 'human', 'small', 'intestine', 'Clin', 'Sci', 'Lond', '2015', '129', '7', '27', 'Nicoletti', 'changes', 'of', 'the', 'intestinal', 'epithelial', 'barrier', 'local', 'and', 'systemic', 'implications', 'Expert', 'Rev', 'Gastroenterol', 'Hepatol', '2015', '9', '12', 'Mabbott', 'NA', 'A', 'breakdown', 'in', 'communication', 'Understanding', 'the', 'effects', 'of', 'aging', 'on', 'the', 'human', 'small', 'intestine', 'epithelium', 'Clin', 'Sci', 'Lond', '2015', '129', '7', 'Clark', 'RI', 'Salazar', 'A', 'Yamada', 'R', 'S', 'Morselli', 'M', 'Alcaraz', 'J', 'Rana', 'A', 'Rera', 'M', 'Pellegrini', 'M', 'Ja', 'WW', 'Walker', 'DW', 'Distinct', 'shifts', 'in', 'microbiota', 'composition', 'during', 'drosophila', 'aging', 'impair', 'intestinal', 'function', 'and', 'drive', 'mortality', 'Cell', '2015', '12', '10', 'Rera', 'M', 'Clark', 'RI', 'Walker', 'DW', 'Intestinal', 'barrier', 'dysfunction', 'links', 'metabolic', 'and', 'inflammatory', 'markers', 'of', 'aging', 'to', 'death', 'in', 'Drosophila', 'Proc', 'Natl', 'Acad', 'Sci', 'U', 'S', 'A', '2012', '109', '52', 'Thevaranjan', 'N', 'Puchta', 'A', 'Schulz', 'C', 'Naidoo', 'A', 'Szamosi', 'JC', 'Verschoor', 'CP', 'Loukov', 'D', 'Schenck', 'LP', 'Jury', 'J', 'Foley', 'KP', 'Schertzer', 'JD', 'Larche', 'MJ', 'Davidson', 'DJ', 'Verdu', 'EF', 'Surette', 'MG', 'Bowdish', 'DM', 'Microbial', 'Dysbiosis', 'Promotes', 'Intestinal', 'Permeability', 'Systemic', 'Inflammation', 'and', 'Macrophage', 'Dysfunction', 'Cell', 'Host', 'Microbe', '2017', '21', '4', 'Pallister', 'T', 'Spector', 'TD', 'Food', 'a', 'new', 'form', 'of', 'personalised', 'gut', 'microbiome', 'medicine', 'for', 'chronic', 'diseases', 'J', 'R', 'Soc', 'Med', '2016', '109', '9', 'Chen', 'J', 'He', 'X', 'Huang', 'J', 'Diet', 'effects', 'in', 'gut', 'microbiome', 'and', 'obesity', 'J', 'Food', 'Sci', '2014', '79', '4', 'Keenan', 'MJ', 'Marco', 'ML', 'Ingram', 'DK', 'Martin', 'RJ', 'Improving', 'healthspan', 'via', 'changes', 'in', 'gut', 'microbiota', 'and', 'fermentation', 'Age', 'Dordr', '2015', '37', '5', 'Epub', '2015', 'Sep', '14', 'Backhed', 'F', 'Manchester', 'JK', 'Semenkovich', 'CF', 'Gordon', 'JI', 'Mechanisms', 'underlying', 'the', 'resistance', 'to', 'obesity', 'in', 'mice', 'Proc', 'Natl', 'Acad', 'Sci', 'U', 'S', 'A', '2007', '104', '3', 'Murphy', 'EA', 'Velazquez', 'KT', 'Herbert', 'KM', 'Influence', 'of', 'diet', 'on', 'gut', 'microbiota', 'a', 'driving', 'force', 'for', 'chronic', 'disease', 'risk', 'Curr', 'Opin', 'Clin', 'Nutr', 'Metab', 'Care', '2015', '18', '5', 'De', 'Filippis', 'F', 'Pellegrini', 'N', 'Vannini', 'L', 'Jeffery', 'IB', 'La', 'Storia', 'A', 'Laghi', 'L', 'Serrazanetti', 'DI', 'Di', 'Cagno', 'R', 'Ferrocino', 'I', 'Lazzi', 'C', 'Turroni', 'S', 'Cocolin', 'L', 'Brigidi', 'P', 'Neviani', 'E', 'Gobbetti', 'M', 'PW', 'Ercolini', 'adherence', 'to', 'a', 'Mediterranean', 'diet', 'beneficially', 'impacts', 'the', 'gut', 'microbiota', 'and', 'associated', 'metabolome', 'metabolome', 'Gut', '2016', '65', '11', 'Oh', 'B', 'Kim', 'JS', 'Kweon', 'M', 'Kim', 'BS', 'Huh', 'IS', 'diet', 'correction', 'for', 'body', 'weight', 'reduction', 'and', 'its', 'subsequent', 'changes', 'of', 'gut', 'microbiota', 'a', 'case', 'report', 'Clin', 'Nutr', 'Res', '2016', '5', '2', 'Cowan', 'TE', 'Palmnas', 'MS', 'Yang', 'J', 'Bomhof', 'MR', 'Ardell', 'KL', 'Reimer', 'RA', 'Vogel', 'HJ', 'Shearer', 'J', 'Chronic', 'coffee', 'consumption', 'in', 'the', 'obese', 'rat', 'impact', 'on', 'gut', 'microbiota', 'and', 'serum', 'metabolomics', 'J', 'Nutr', 'Biochem', '2014', '25', '4', 'Etxeberria', 'U', 'Arias', 'N', 'Boque', 'N', 'Macarulla', 'MT', 'Portillo', 'MP', 'Martinez', 'JA', 'Milagro', 'FI', 'Reshaping', 'faecal', 'gut', 'microbiota', 'composition', 'by', 'the', 'intake', 'of', 'and', 'quercetin', 'in', 'sucrose', 'rats', 'J', 'Nutr', 'Biochem', '2015', '26', '6', 'Cardona', 'F', 'C', 'Tulipani', 'S', 'Tinahones', 'FJ', 'MI', 'Benefits', 'of', 'polyphenols', 'on', 'gut', 'microbiota', 'and', 'implications', 'in', 'human', 'health', 'J', 'Nutr', 'Biochem', '2013', '24', '8', 'Mika', 'A', 'Fleshner', 'exercise', 'may', 'promote', 'lasting', 'brain', 'and', 'metabolic', 'health', 'through', 'gut', 'bacterial', 'metabolites', 'Immunol', 'Cell', 'Biol', '2016', '94', '2', 'Cerda', 'B', 'Perez', 'M', 'JD', 'JF', 'Soltero', 'R', 'Larrosa', 'Gut', 'microbiota', 'modification', 'another', 'piece', 'in', 'the', 'puzzle', 'of', 'the', 'benefits', 'of', 'physical', 'exercise', 'in', 'health', 'Front', 'Physiol', '2016', 'Campbell', 'SC', 'Wisniewski', '2nd', 'PJ', 'Exercise', 'is', 'a', 'novel', 'promoter', 'of', 'intestinal', 'health', 'and', 'microbial', 'diversity', 'Exerc', 'Sport', 'Sci', 'Rev', '2017', '45', '1', 'O', 'Cronin', 'O', 'Clarke', 'SF', 'Murphy', 'EF', 'Molloy', 'MG', 'Shanahan', 'F', 'Cotter', 'PD', 'Exercise', 'and', 'the', 'microbiota', 'Gut', 'Microbes', '2015', '6', '2', 'Campbell', 'SC', 'Wisniewski', 'PJ', 'Noji', 'M', 'McGuinness', 'LR', 'Haggblom', 'MM', 'Lightfoot', 'SA', 'Joseph', 'LB', 'Kerkhof', 'LJ', 'The', 'effect', 'of', 'diet', 'and', 'exercise', 'on', 'intestinal', 'integrity', 'and', 'microbial', 'diversity', 'in', 'mice', 'PLoS', 'One', '2016', '11', '3', 'e0150502', 'Allen', 'JM', 'Berg', 'Miller', 'ME', 'Pence', 'BD', 'Whitlock', 'K', 'Nehra', 'V', 'Gaskins', 'HR', 'White', 'BA', 'Fryer', 'JD', 'Woods', 'JA', 'Voluntary', 'and', 'forced', 'exercise', 'differentially', 'alters', 'the', 'gut', 'microbiome', 'in', 'mice', 'J', 'Appl', 'Physiol', '1985', '2015', '118', '8', 'Evans', 'CC', 'LePard', 'KJ', 'Kwak', 'JW', 'Stancukas', 'MC', 'Laskowski', 'S', 'Dougherty', 'J', 'Moulton', 'L', 'Glawe', 'A', 'Wang', 'Y', 'Leone', 'V', 'Antonopoulos', 'DA', 'Smith', 'D', 'Chang', 'EB', 'Ciancio', 'MJ', 'Exercise', 'prevents', 'weight', 'gain', 'and', 'alters', 'the', 'gut', 'microbiota', 'in', 'a', 'mouse', 'model', 'of', 'high', 'fat', 'obesity', 'PLoS', 'One', '2014', '9', '3', 'e92193', 'Mika', 'A', 'Van', 'Treuren', 'W', 'Gonzalez', 'A', 'Herrera', 'JJ', 'Knight', 'R', 'Fleshner', 'Exercise', 'is', 'more', 'effective', 'at', 'altering', 'gut', 'microbial', 'composition', 'and', 'producing', 'stable', 'changes', 'in', 'lean', 'mass', 'in', 'juvenile', 'versus', 'adult', 'male', 'F344', 'Rats', 'PLoS', 'One', '2015', '10', '5', 'e0125889', 'L', 'Pervaiz', 'N', 'Packer', 'N', 'Guan', 'Freewheel', 'training', 'decreases', 'and', 'increases', 'cytokine', 'expression', 'in', 'mouse', 'intestinal', 'lymphocytes', 'Brain', 'Behav', 'Immun', '2010', '24', '7', 'L', 'Pervaiz', 'N', 'Guan', 'J', 'Voluntary', 'exercise', 'training', 'in', 'mice', 'increases', 'the', 'expression', 'of', 'antioxidant', 'enzymes', 'and', 'decreases', 'the', 'expression', 'of', 'in', 'intestinal', 'lymphocytes', 'Brain', 'Behav', 'Immun', '2009', '23', '4', 'Clarke', 'SF', 'Murphy', 'EF', 'O', 'Lucey', 'AJ', 'Humphreys', 'M', 'Hogan', 'A', 'Hayes', 'P', 'M', 'Jeffery', 'IB', 'R', 'Kerins', 'DM', 'Quigley', 'E', 'Ross', 'RP', 'PW', 'Molloy', 'MG', 'Falvey', 'E', 'Shanahan', 'F', 'Cotter', 'PD', 'Exercise', 'and', 'associated', 'dietary', 'extremes', 'impact', 'on', 'gut', 'microbial', 'diversity', 'Gut', '2014', '63', '12', 'Ng', 'SC', 'Hart', 'AL', 'Kamm', 'MA', 'Stagg', 'AJ', 'Knight', 'SC', 'Mechanisms', 'of', 'action', 'of', 'probiotics', 'recent', 'advances', 'Inflamm', 'Bowel', 'Dis', '2009', '15', '2', 'Ahmed', 'M', 'Prasad', 'J', 'Gill', 'H', 'Stevenson', 'L', 'Gopal', 'Impact', 'of', 'consumption', 'of', 'different', 'levels', 'of', 'Bifidobacterium', 'lactis', 'HN019', 'on', 'the', 'intestinal', 'microflora', 'of', 'elderly', 'human', 'subjects', 'J', 'Nutr', 'Health', 'Aging', '2007', '11', '1', 'Rampelli', 'S', 'Candela', 'M', 'Severgnini', 'M', 'Biagi', 'E', 'Turroni', 'S', 'Roselli', 'M', 'Carnevali', 'P', 'Donini', 'L', 'Brigidi', 'A', 'biscuit', 'modulates', 'the', 'intestinal', 'microbiota', 'in', 'the', 'elderly', 'J', 'Nutr', 'Health', 'Aging', '2013', '17', '2', 'Liu', 'Y', 'Gibson', 'GR', 'Walton', 'GE', 'An', 'in', 'vitro', 'approach', 'to', 'study', 'effects', 'of', 'prebiotics', 'and', 'probiotics', 'on', 'the', 'faecal', 'microbiota', 'and', 'selected', 'immune', 'parameters', 'relevant', 'to', 'the', 'elderly', 'PLoS', 'One', '2016', '11', '9', 'e0162604', 'Gill', 'HS', 'Rutherfurd', 'KJ', 'Cross', 'ML', 'Gopal', 'PK', 'Enhancement', 'of', 'immunity', 'in', 'the', 'elderly', 'by', 'dietary', 'supplementation', 'with', 'the', 'probiotic', 'Bifidobacterium', 'lactis', 'HN019', 'Am', 'J', 'Clin', 'Nutr', '2001', '74', '6', 'MA', 'R', 'Baltadjieva', 'M', 'Fernandez', 'Benitez', 'C', 'Fernandez', 'Barrial', 'MA', 'Diaz', 'Ruisanchez', 'E', 'Alonso', 'Santos', 'R', 'Alvarez', 'Sanchez', 'M', 'Saavedra', 'Mijan', 'J', 'Oral', 'supplementation', 'with', 'Lactobacillus', 'delbrueckii', 'subsp', 'bulgaricus', '8481', 'enhances', 'systemic', 'immunity', 'in', 'elderly', 'subjects', 'Age', 'Dordr', '2013', '35', '4', 'van', 'Beek', 'AA', 'Sovran', 'B', 'Hugenholtz', 'F', 'Meijer', 'B', 'Hoogerland', 'JA', 'Mihailova', 'V', 'van', 'der', 'Ploeg', 'C', 'Belzer', 'C', 'Boekschoten', 'MV', 'Hoeijmakers', 'JH', 'Vermeij', 'WP', 'de', 'Vos', 'P', 'Wells', 'JM', 'Leenen', 'PJ', 'Nicoletti', 'C', 'Hendriks', 'RW', 'Savelkoul', 'HF', 'Supplementation', 'with', 'Lactobacillus', 'plantarum', 'WCFS1', 'Prevents', 'Decline', 'of', 'Mucus', 'Barrier', 'in', 'Colon', 'of', 'Accelerated', 'Aging', 'Mice', 'Front', 'Immunol', '2016', 'Valentini', 'L', 'Pinto', 'A', 'I', 'Ostan', 'R', 'Brigidi', 'P', 'Turroni', 'S', 'Hrelia', 'S', 'Hrelia', 'P', 'Bereswill', 'S', 'Fischer', 'A', 'Leoncini', 'E', 'Malaguti', 'M', 'C', 'Durrieu', 'J', 'Spazzafumo', 'L', 'Buccolini', 'F', 'Pryen', 'F', 'Donini', 'LM', 'Franceschi', 'C', 'Lochs', 'Impact', 'of', 'personalized', 'diet', 'and', 'probiotic', 'supplementation', 'on', 'inflammation', 'nutritional', 'parameters', 'and', 'intestinal', 'RISTOMED', 'project', 'randomized', 'controlled', 'trial', 'in', 'healthy', 'older', 'people', 'Clin', 'Nutr', '2015', '34', '4', 'Ostan', 'R', 'Bene', 'MC', 'Spazzafumo', 'L', 'Pinto', 'A', 'Donini', 'LM', 'Pryen', 'F', 'Charrouf', 'Z', 'Valentini', 'L', 'Lochs', 'H', 'I', 'C', 'Buccolini', 'F', 'Brigidi', 'P', 'Franceschi', 'C', 'Impact', 'of', 'diet', 'and', 'nutraceutical', 'supplementation', 'on', 'inflammation', 'in', 'elderly', 'people', 'Results', 'from', 'the', 'RISTOMED', 'study', 'an', 'randomized', 'control', 'trial', 'Clin', 'Nutr', '2016', '35', '4', 'Akbari', 'E', 'Asemi', 'Z', 'Daneshvar', 'Kakhaki', 'R', 'Bahmani', 'F', 'Kouchaki', 'E', 'Tamtaji', 'OR', 'Hamidi', 'GA', 'Salami', 'Effect', 'of', 'probiotic', 'supplementation', 'on', 'cognitive', 'function', 'and', 'metabolic', 'status', 'in', 'Alzheimer', 'disease', 'a', 'randomized', 'blind', 'and', 'controlled', 'trial', 'Front', 'Aging', 'Neurosci', '2016', 'Steidler', 'Genetically', 'engineered', 'probiotics', 'Best', 'Pract', 'Res', 'Clin', 'Gastroenterol', '2003', '17', '5', 'Syvanen', 'Churning', 'out', 'safer', 'microbes', 'for', 'drug', 'delivery', 'Nat', 'Biotechnol', '2003', '21', '7', 'Paton', 'AW', 'Morona', 'R', 'Paton', 'JC', 'Bioengineered', 'microbes', 'in', 'disease', 'therapy', 'Trends', 'Mol', 'Med', '2012', '18', '7', 'Kumar', 'M', 'Yadav', 'AK', 'Verma', 'V', 'Singh', 'B', 'Mal', 'G', 'Nagpal', 'R', 'Hemalatha', 'Bioengineered', 'probiotics', 'as', 'a', 'new', 'hope', 'for', 'health', 'and', 'diseases', 'an', 'overview', 'of', 'potential', 'and', 'prospects', 'Future', 'Microbiol', '2016', '11', '4', 'Steidler', 'L', 'Neirynck', 'S', 'Huyghebaert', 'N', 'Snoeck', 'V', 'Vermeire', 'A', 'Goddeeris', 'B', 'Cox', 'E', 'Remon', 'JP', 'Remaut', 'Biological', 'containment', 'of', 'genetically', 'modified', 'Lactococcus', 'lactis', 'for', 'intestinal', 'delivery', 'of', 'human', 'interleukin', '10', 'Nat', 'Biotechnol', '2003', '21', '7', 'Daliri', 'EB', 'Lee', 'BH', 'Oh', 'DH', 'Current', 'Perspectives', 'on', 'Antihypertensive', 'Probiotics', 'Probiotics', 'Antimicrob', 'Proteins', '2016', 'Yang', 'G', 'Jiang', 'Y', 'Yang', 'W', 'Du', 'F', 'Yao', 'Y', 'Shi', 'C', 'Wang', 'Effective', 'treatment', 'of', 'hypertension', 'by', 'recombinant', 'Lactobacillus', 'plantarum', 'expressing', 'angiotensin', 'converting', 'enzyme', 'inhibitory', 'peptide', 'Microb', 'Cell', 'Fact', '2015', 'Hopkins', 'MJ', 'Macfarlane', 'GT', 'Changes', 'in', 'predominant', 'bacterial', 'populations', 'in', 'human', 'faeces', 'with', 'age', 'and', 'with', 'Clostridium', 'difficile', 'infection', 'J', 'Med', 'Microbiol', '2002', '51', '5', 'Hayashi', 'H', 'Sakamoto', 'M', 'Kitahara', 'M', 'Benno', 'Molecular', 'analysis', 'of', 'fecal', 'microbiota', 'in', 'elderly', 'individuals', 'using', '16S', 'rDNA', 'library', 'and', 'Microbiol', 'Immunol', '2003', '47', '8', 'Woodmansey', 'EJ', 'McMurdo', 'ME', 'Macfarlane', 'GT', 'Macfarlane', 'Comparison', 'of', 'compositions', 'and', 'metabolic', 'activities', 'of', 'fecal', 'microbiotas', 'in', 'young', 'adults', 'and', 'in', 'and', 'elderly', 'subjects', 'Appl', 'Environ', 'Microbiol', '2004', '70', '10', 'Odamaki', 'T', 'Kato', 'K', 'Sugahara', 'H', 'Hashikura', 'N', 'Takahashi', 'S', 'Xiao', 'JZ', 'Abe', 'F', 'Osawa', 'changes', 'in', 'gut', 'microbiota', 'composition', 'from', 'newborn', 'to', 'centenarian', 'a', 'study', 'BMC', 'Microbiol', '2016']\n"
     ]
    }
   ],
   "source": [
    "wtxtnew = [word for word in wtxtoken if word.isalnum()]\n",
    "print(wtxtnew)"
   ]
  },
  {
   "cell_type": "code",
   "execution_count": 38,
   "metadata": {},
   "outputs": [
    {
     "data": {
      "text/plain": [
       "7842"
      ]
     },
     "execution_count": 38,
     "metadata": {},
     "output_type": "execute_result"
    }
   ],
   "source": [
    "# number of unique words in the text\n",
    "# compared to 56511 with punctuation\n",
    "len(wtxtnew) "
   ]
  },
  {
   "cell_type": "code",
   "execution_count": 39,
   "metadata": {},
   "outputs": [],
   "source": [
    "wfreqnew = nltk.FreqDist(wtxtnew)"
   ]
  },
  {
   "cell_type": "code",
   "execution_count": 40,
   "metadata": {},
   "outputs": [
    {
     "data": {
      "text/plain": [
       "250"
      ]
     },
     "execution_count": 40,
     "metadata": {},
     "output_type": "execute_result"
    }
   ],
   "source": [
    "wfreqnew['the']"
   ]
  },
  {
   "cell_type": "code",
   "execution_count": 41,
   "metadata": {},
   "outputs": [
    {
     "data": {
      "text/plain": [
       "0"
      ]
     },
     "execution_count": 41,
     "metadata": {},
     "output_type": "execute_result"
    }
   ],
   "source": [
    "wfreqnew[',']"
   ]
  },
  {
   "cell_type": "code",
   "execution_count": 42,
   "metadata": {},
   "outputs": [
    {
     "data": {
      "text/plain": [
       "[('the', 250), ('of', 229), ('and', 225), ('in', 174), ('to', 120), ('gut', 78), ('a', 68), ('with', 60), ('M', 59), ('J', 54)]"
      ]
     },
     "execution_count": 42,
     "metadata": {},
     "output_type": "execute_result"
    }
   ],
   "source": [
    "wfreqnew.most_common(10)"
   ]
  },
  {
   "cell_type": "markdown",
   "metadata": {},
   "source": [
    "# Processing a corpus\n",
    "\n",
    "* NLTK can read an entire corpus from a directory\n",
    "* Apply NLTK tools to corpus"
   ]
  },
  {
   "cell_type": "code",
   "execution_count": 45,
   "metadata": {},
   "outputs": [],
   "source": [
    "corpus_root = 'C:/Users/kenai/Desktop/Text_Mining_Test'  # Mac users should leave out C:\n",
    "test = PlaintextCorpusReader(corpus_root, '.*txt')  # all files ending in 'txt' "
   ]
  },
  {
   "cell_type": "code",
   "execution_count": 46,
   "metadata": {},
   "outputs": [
    {
     "data": {
      "text/plain": [
       "['Text_test.txt', '[Advances in the pathogenesis of non alcoholic fatty liver disease].txt']"
      ]
     },
     "execution_count": 46,
     "metadata": {},
     "output_type": "execute_result"
    }
   ],
   "source": [
    "test.fileids()"
   ]
  },
  {
   "cell_type": "code",
   "execution_count": 47,
   "metadata": {},
   "outputs": [
    {
     "name": "stdout",
     "output_type": "stream",
     "text": [
      "['Buford', 'Microbiome', '(', '2017', ')', '5', ':', '80', 'DOI', '10', '.', '1186', '/', 's40168', '-', '017', '-', '0296', '-', '0', '(', 'Dis', ')', 'Trust', 'your', 'gut', ':', 'the', 'gut', 'microbiome', 'in', 'age', '-', 'related', 'inflammation', ',', 'health', ',', 'and', 'disease', 'Thomas', 'W', '.', 'Buford', 'Background', 'In', 'humans', ',', 'aging', 'is']\n"
     ]
    }
   ],
   "source": [
    "# NLTK automatically tokenizes the corpus\n",
    "print(test.words()[:50])"
   ]
  },
  {
   "cell_type": "code",
   "execution_count": 48,
   "metadata": {},
   "outputs": [
    {
     "name": "stdout",
     "output_type": "stream",
     "text": [
      "['Buford', 'Microbiome', '(', '2017', ')', '5', ':', '80', 'DOI', '10', '.', '1186', '/', 's40168', '-', '017', '-', '0296', '-', '0']\n",
      "['(', 'Dis', ')', 'Trust', 'your', 'gut', ':', 'the', 'gut', 'microbiome', 'in', 'age', '-', 'related', 'inflammation', ',', 'health', ',', 'and', 'disease', 'Thomas', 'W', '.', 'Buford']\n"
     ]
    }
   ],
   "source": [
    "# NLTK automatically segments sentences too, which are accessed through .sents()\n",
    "\n",
    "print(test.sents('Text_test.txt')[0])   # first sentence\n",
    "print(test.sents('Text_test.txt')[1])   # 2nd sentence"
   ]
  },
  {
   "cell_type": "code",
   "execution_count": 49,
   "metadata": {},
   "outputs": [
    {
     "name": "stdout",
     "output_type": "stream",
     "text": [
      "11828 Text_test.txt\n",
      "10306 [Advances in the pathogenesis of non alcoholic fatty liver disease].txt\n"
     ]
    }
   ],
   "source": [
    "# for-loop through the file IDS and print out word count\n",
    "for f in test.fileids():\n",
    "    print(len(test.words(f)), f)"
   ]
  },
  {
   "cell_type": "code",
   "execution_count": 50,
   "metadata": {},
   "outputs": [
    {
     "name": "stdout",
     "output_type": "stream",
     "text": [
      "22134\n"
     ]
    }
   ],
   "source": [
    "# Corpora size in number of words\n",
    "\n",
    "print(len(test.words()))"
   ]
  },
  {
   "cell_type": "code",
   "execution_count": 51,
   "metadata": {},
   "outputs": [
    {
     "data": {
      "text/plain": [
       "[(',', 1646), ('-', 1416), ('.', 1108), ('a', 520), ('(', 316), ('of', 291), ('and', 286), ('the', 276), (';', 263), ('in', 238), ('A', 196), ('es', 179), (':', 169), (')', 142), ('to', 129), ('az', 129), ('):', 124), ('[', 109), ('gut', 89), ('J', 87), ('].', 85), ('with', 78), ('is', 77), ('disease', 75), ('M', 74)]"
      ]
     },
     "execution_count": 51,
     "metadata": {},
     "output_type": "execute_result"
    }
   ],
   "source": [
    "# Word frequency distribution for entire corpus\n",
    "test_freq = nltk.FreqDist(test.words())\n",
    "test_freq.most_common(25)"
   ]
  },
  {
   "cell_type": "markdown",
   "metadata": {},
   "source": [
    "## Turning a text file/corpus into a NLTK text file"
   ]
  },
  {
   "cell_type": "code",
   "execution_count": 43,
   "metadata": {},
   "outputs": [
    {
     "name": "stdout",
     "output_type": "stream",
     "text": [
      "Displaying 24 of 24 matches:\n",
      "crobiome in inflammation health and disease Thomas Buford Background In humans \n",
      "ased vulnerability to infection and disease that dramatically elevates mortalit\n",
      "ated by for stroke and chronic lung disease roughly for heart disease pneumonia\n",
      "onic lung disease roughly for heart disease pneumonia and influenza and over fo\n",
      "hanisms which underlie increases in disease lence are warranted Aging and infla\n",
      " of a of morbidities cardiovascular disease ance and diabetes decline and demen\n",
      "for risks of chronic flammation and disease Very recently however emerging evid\n",
      " considerations of human health and disease treatment hence the nickname the fo\n",
      "ions irritable bowel syndrome Crohn disease and colon cer neurological diseases\n",
      "cer neurological diseases Parkinson disease Alzheimer disease and multiple scle\n",
      "iseases Parkinson disease Alzheimer disease and multiple sclerosis metabolic di\n",
      "clerosis animal models of Alzheimer disease exist to indicate a axis which coul\n",
      "r the treatment of flammatory bowel disease Elsewhere this egy has been propose\n",
      "as well as nearly every disorder or disease Growing evidence dicates that the g\n",
      "f protein to risk of cardiovascular disease in the elderly Results from the Car\n",
      "ammatory markers and cardiovascular disease The Health Aging and Body Compositi\n",
      "erum immune responses predict rapid disease progression among children with Cro\n",
      "ogression among children with Crohn disease immune responses predict disease pr\n",
      "hn disease immune responses predict disease progression Am J Gastroenterol 2006\n",
      "nflammation in a Model of Parkinson Disease Cell 2016 167 6 Hu X Wang T Jin Alz\n",
      "016 167 6 Hu X Wang T Jin Alzheimer disease and gut microbiota Sci China Life S\n",
      "robiota a driving force for chronic disease risk Curr Opin Clin Nutr Metab Care\n",
      "n and metabolic status in Alzheimer disease a randomized blind and controlled t\n",
      " Paton JC Bioengineered microbes in disease therapy Trends Mol Med 2012 18 7 Ku\n"
     ]
    }
   ],
   "source": [
    "text_test = nltk.Text(wtxtnew)\n",
    "text_test.concordance('disease')"
   ]
  },
  {
   "cell_type": "code",
   "execution_count": 44,
   "metadata": {},
   "outputs": [
    {
     "data": {
      "text/plain": [
       "True"
      ]
     },
     "execution_count": 44,
     "metadata": {},
     "output_type": "execute_result"
    }
   ],
   "source": [
    "# old way\n",
    "'disease' in text_test"
   ]
  },
  {
   "cell_type": "markdown",
   "metadata": {},
   "source": [
    "## Turning a folder of txt files into a corpus"
   ]
  },
  {
   "cell_type": "code",
   "execution_count": 70,
   "metadata": {},
   "outputs": [],
   "source": [
    "# the location of your files\n",
    "corpus_root = 'C:/Users/kenai/text_files'"
   ]
  },
  {
   "cell_type": "code",
   "execution_count": 71,
   "metadata": {},
   "outputs": [],
   "source": [
    "\n",
    "wordlists = PlaintextCorpusReader(corpus_root, '.*')"
   ]
  },
  {
   "cell_type": "code",
   "execution_count": 81,
   "metadata": {},
   "outputs": [
    {
     "data": {
      "text/plain": [
       "['2001/Hooper_and_Gordon_-_2001_-_Commensal_host-bacterial_relationship.txt', '2001/Huovinen_-_2001_-_Bacteriotherapy_The_Time_Has_Come_Bacterial_In.txt', '2001/Levin_and_Antia_-_2001_-_Why_We_Dont_Get_Sick_The_Within-Host_Po.txt', '2002/Relman_-_2002_-_New_technologies_human-microbe_interactions_and_.txt', '2002/Swerdlow_and_Johnson_-_2002_-_Living_with_Microbes.txt', '2003/Xu_and_Gordon_-_2003_-_Honor_thy_symbionts.txt', '2004/Dillon_and_Dillon_-_2004_-_The_gut_bacteria_of_insects_Nonpathog.txt', '2005/2006/Blaser_-_2006_-_Who_are_we_Indigenous_microbes_and_the_ecology_o.txt', '2005/2006/Dumas_et_al._-_2006_-_Metabolic_profiling_reveals_a_contribution.txt', '2005/2006/Iweala_and_Nagler_-_2006_-_Immune_privilege_in_the_gut_the_estab.txt', '2005/2006/Ley_et_al._-_2006_-_Ecological_and_evolutionary_forces_shaping_m.txt', '2005/2006/Macia_et_al._-_2006_-_Genes_involved_in_obesity_Adipocytes_brain.txt', '2005/2006/Manichanh_et_al._-_2006_-_Reduced_diversity_of_faecal_microbiota.txt', '2005/2006/Motlekar_and_Youan_-_2006_-_The_quest_for_non-invasive_delivery_.txt', '2005/2006/OHara_and_Shanahan_-_2006_-_The_gut_flora_as_a_forgotten_organ.txt', '2005/2006/Oh_et_al._-_2006_-_The_complete_genome_sequence_of_a_chronic_atr.txt', '2005/2006/Robinson_-_2006_-_In_the_Guts_Microbial_Community_One_Plus_One_E.txt', '2005/2006/Samuel_and_Gordon_-_2006_-_A_humanized_gnotobiotic_mouse_model_o.txt', '2005/2006/Sonnenburg_et_al._-_2006_-_A_hybrid_two-component_system_protein.txt', '2005/2006/desktop.ini', '2005/Backhed_et_al._-_2005_-_Host-bacterial_mutualism_in_the_human_in.txt', '2005/Crawford_and_Gordon_-_2005_-_Microbial_regulation_of_intestinal_.txt', '2005/Kaper_and_Sperandio_-_2005_-_Bacterial_Cell-to-Cell_Signaling_in.txt', '2005/Larue_et_al._-_2005_-_Novel_microbial_diversity_adherent_to_plan.txt', '2005/Salminen_et_al._-_2005_-_The_genomics_of_probiotic_intestinal_mi.txt', '2005/Yu_et_al._-_2005_-_Development_and_Application_of_Real-Time_PCR_.txt', '2005/desktop.ini', '2007/Chen_et_al._-_2007_-_Development_and_Application_of_Real-Time_PC.txt', '2007/Clatworthy_et_al._-_2007_-_Targeting_virulence_a_new_paradigm_fo.txt', '2007/Dumas_et_al._-_2007_-_Direct_quantitative_trait_locus_mapping_of.txt', '2007/Faber_et_al._-_2007_-_Metabonomics_in_Diabetes_Research.txt', '2007/Field_and_Kyrpides_-_2007_-_The_Positive_Role_of_the_Ecological_.txt', '2007/Fox_and_Wang_-_2007_-_Inflammation_atrophy_and_gastric_cancer.txt', '2007/Frank_et_al._-_2007_-_Molecular-phylogenetic_characterization_of.txt', '2007/Fukata_and_Abreu_-_2007_-_TLR4_signalling_in_the_intestine_in_he.txt', '2007/Gloux_et_al._-_2007_-_Development_of_High-Throughput_Phenotyping.txt', '2007/Goodacre_-_2007_-_Metabolomics_of_a_superorganism.txt', '2007/Gross_-_2007_-_Human_Gut_Hosts_a_Dynamically_Evolving_Microbial_.txt', '2007/Huber_et_al._-_2007_-_Microbial_Population_Structures_in_the_Dee.txt', '2007/Idle_and_Gonzalez_-_2007_-_Metabolomics.txt', '2007/Jurkowski_et_al._-_2007_-_Metagenomics_A_Call_for_Bringing_a_New.txt', '2007/Klaassens_et_al._-_2007_-_Metaproteomics_Approach_To_Study_the_F.txt', '2007/Kochhar_et_al._-_2007_-_SP1_Mapping_of_Gut_Microbiome-Mammalian_.txt', '2007/Kurokawa_et_al._-_2007_-_Comparative_Metagenomics_Revealed_Commo.txt', '2007/Lemberger_-_2007_-_Systems_biology_in_human_health_and_disease.txt', '2007/Locascio_et_al._-_2007_-_Glycoprofiling_of_bifidobacterial_consu.txt', '2007/Loscalzo_et_al._-_2007_-_Human_disease_classification_in_the_pos.txt', '2007/Martin_et_al._-_2007_-_A_top-down_systems_biology_view_of_microb.txt', '2007/McHardy_and_Rigoutsos_-_2007_-_Whats_in_the_mix_phylogenetic_cla.txt', '2007/Minieri_and_Di_Nardo_-_2007_-_Nutrients_the_environmental_regula.txt', '2007/Neill_-_2007_-_At_the_helm_of_the_NIDDK.txt', '2007/Neu_-_2007_-_Perinatal_and_neonatal_manipulation_of_the_intestin.txt', '2007/Peregrn-lvarez_and_Parkinson_-_2007_-_The_global_landscape_of_se.txt', '2007/Raes_et_al._-_2007_-_Get_the_most_out_of_your_metagenome_computa.txt', '2007/Raes_et_al._-_2007_-_Protein_function_space_viewing_the_limits_o.txt', '2007/Ramette_-_2007_-_Multivariate_analyses_in_microbial_ecology.txt', '2007/Rawls_et_al._-_2007_-_In_vivo_imaging_and_genetic_analysis_link_.txt', '2007/Rezzi_et_al._-_2007_-_Human_metabolic_phenotypes_link_directly_t.txt', '2007/Ruas-Madiedo_et_al._-_2007_-_Screening_of_Exopolysaccharide-Prod.txt', '2007/Rusch_et_al._-_2007_-_The_Sorcerer_II_Global_Ocean_Sampling_Expe.txt', '2007/Samuel_et_al._-_2007_-_Genomic_and_metabolic_adaptations_of_Meth.txt', '2007/Schaible_and_Kaufmann_-_2007_-_Malnutrition_and_Infection_Comple.txt', '2007/Schilder_and_Marden_-_2007_-_Metabolic_Syndrome_in_Insects_Trigg.txt', '2007/Stecher_et_al._-_2007_-_Salmonella_enterica_Serovar_Typhimurium_.txt', '2007/Turnbaugh_et_al._-_2007_-_The_Human_Microbiome_Project.txt', '2007/Ventura_et_al._-_2007_-_Genomics_of_Actinobacteria_Tracing_the_E.txt', '2007/Vihavainen_et_al._-_2007_-_Role_of_Broiler_Carcasses_and_Process.txt', '2007/Warnecke_and_Hugenholtz_-_2007_-_Building_on_basic_metagenomics_.txt', '2007/Wei_et_al._-_2007_-_The_Microbial_Community_in_the_Feces_of_the_.txt', '2007/Wendl_-_2007_-_Random_Covering_of_Multiple_One-Dimensional_Domai.txt', '2007/Wexler_-_2007_-_Bacteroides_the_Good_the_Bad_and_the_Nitty-Gritt.txt', '2007/Wilson_-_2007_-_Top-down_versus_bottom-uprediscovering_physiolog.txt', '2007/Xu_et_al._-_2007_-_Evolution_of_symbiotic_bacteria_in_the_distal.txt', '2007/Zhang_and_Gladyshev_-_2007_-_High_content_of_proteins_containing.txt', '2008/2008_-_In_This_Issue.txt', '2008/2008_-_The_Runners-Up.txt', '2008/Allen_and_Stabler_-_2008_-_Identification_and_quantitation_of_co.txt', '2008/Alverdy_and_Chang_-_2008_-_The_re-emerging_role_of_the_intestina.txt', '2008/Andersson_et_al._-_2008_-_Comparative_Analysis_of_Human_Gut_Micr.txt', '2008/Are_et_al._-_2008_-_Enterococcus_faecalis_from_newborn_babies_re.txt', '2008/Armougom_and_Raoult_-_2008_-_Use_of_pyrosequencing_and_DNA_barco.txt', '2008/Azcarate-Peril_et_al._-_2008_-_Analysis_of_the_Genome_Sequence_o.txt', '2008/Bacic_and_Smith_-_2008_-_Laboratory_Maintenance_and_Cultivation_.txt', '2008/Banik_and_Brady_-_2008_-_Cloning_and_Characterization_of_New_Gly.txt', '2008/Beasley_-_2008_-_MICROBE_MANAGEMENT.txt', '2008/Begley_et_al._-_2008_-_Analysis_of_the_Isoprenoid_Biosynthesis_P.txt', '2008/Bjerketorp_et_al._-_2008_-_Rapid_lab-on-a-chip_profiling_of_huma.txt', '2008/Blaser_and_Valentine_-_2008_-_Viral_Commensalism_in_Humans.txt', '2008/Bougnres_and_Valleron_-_2008_-_Causes_of_early-onset_type_1_diab.txt', '2008/Brennan_-_2008_-_Metabolomic_applications_in_nutritional_researc.txt', '2008/Britton_and_Versalovic_-_2008_-_Probiotics_and_Gastrointestinal_.txt', '2008/Brotman_and_Ravel_-_2008_-_Editorial_Commentary_Ready_or_Not_the.txt', '2008/Burow_et_al._-_2008_-_Anaerobic_glyoxylate_cycle_activity_during.txt', '2008/Bushman_et_al._-_2008_-_Massively_Parallel_Pyrosequencing_in_HIV.txt', '2008/Camilleri_-_2008_-_Asimadoline_a_-Opioid_Agonist_and_Visceral_Se.txt', '2008/Canny_and_McCormick_-_2008_-_Bacteria_in_the_Intestine_Helpful_R.txt', '2008/Cassler_et_al._-_2008_-_Use_of_Real-Time_qPCR_to_Quantify_Member.txt', '2008/Chang_et_al._-_2008_-_Decreased_Diversity_of_the_Fecal_Microbiom.txt', '2008/Chhour_et_al._-_2008_-_The_microbiome_of_the_cloacal_openings_of.txt', '2008/Chikayama_et_al._-_2008_-_Systematic_NMR_Analysis_of_Stable_Isot.txt', '2008/Claus_et_al._-_2008_-_Systemic_multicompartmental_effects_of_the.txt', '2008/Cozzetto_and_Tramontano_-_2008_-_Advances_and_Pitfalls_in_Protei.txt', '2008/Czarnecki-Maulden_-_2008_-_Effect_of_dietary_modulation_of_intes.txt', '2008/Dahl_and_Yamada_-_2008_-_Global_health_inequity_scientific_chall.txt', '2008/Dantas_et_al._-_2008_-_Bacteria_Subsisting_on_Antibiotics.txt', '2008/Davies_-_2008_-_Resistance_redux.txt', '2008/Denou_et_al._-_2008_-_Identification_of_Genes_Associated_with_th.txt', '2008/Devirgihis_et_al._-_2008_-_Antibiotic_resistance_and_microbial_c.txt', '2008/Dinsdale_et_al._-_2008_-_Microbial_Ecology_of_Four_Coral_Atolls_.txt', '2008/Dominguez-Bello_and_Blaser_-_2008_-_Do_you_have_a_probiotic_in_y.txt', '2008/Domnguez-Bello_et_al._-_2008_-_Amerindian_Helicobacter_pylori_St.txt', '2008/Dorit_-_2008_-_Marginalia_All_Things_Small_and_Great.txt', '2008/Dotson_et_al._-_2008_-_Bitter_Taste_Receptors_Influence_Glucose_.txt', '2008/Dowd_et_al._-_2008_-_Evaluation_of_the_bacterial_diversity_in_th.txt', '2008/Eaton_et_al._-_2008_-_Pathogenesis_of_Renal_Disease_Due_to_Enter.txt', '2008/Ehrlich_et_al._-_2008_-_What_makes_pathogens_pathogenic.txt', '2008/Evans_et_al._-_2008_-_The_DAF-2_Insulin-like_Signaling_Pathway_I.txt', '2008/Fbin_et_al._-_2008_-_Salivary_Genomics_Transcriptomics_and_Prote.txt', '2008/Fearnside_et_al._-_2008_-_Phylometabonomic_Patterns_of_Adaptatio.txt', '2008/Fiehn_-_2008_-_Extending_the_breadth_of_metabolite_profiling_by_.txt', '2008/Fierer_et_al._-_2008_-_The_influence_of_sex_handedness_and_washi.txt', '2008/Fiocchi_-_2008_-_Future_of_IBD_Pathogenesis_How_Much_Work_Is_Lef.txt', '2008/Flannery_-_2008_-_Beguiling_Bacteria.txt', '2008/Foerstner_et_al._-_2008_-_A_Computational_Screen_for_Type_I_Poly.txt', '2008/Foerstner_et_al._-_2008_-_A_Nitrile_Hydratase_in_the_Eukaryote_M.txt', '2008/Foster_et_al._-_2008_-_Application_of_Ecological_Network_Theory_.txt', '2008/Foxman_et_al._-_2008_-_Conceptualizing_Human_Microbiota__From_Mu.txt', '2008/Frank_-_2008_-_XplorSeq_A_software_environment_for_integrated_ma.txt', '2008/Frank_and_Pace_-_2008_-_Gastrointestinal_microbiology_enters_the.txt', '2008/Frias-Lopez_et_al._-_2008_-_Microbial_community_gene_expression_.txt', '2008/Gallo_and_Nizet_-_2008_-_Innate_barriers_against_infection_and_a.txt', '2008/Gao_et_al._-_2008_-_Substantial_Alterations_of_the_Cutaneous_Bac.txt', '2008/Gaskins_et_al._-_2008_-_Impact_of_the_Intestinal_Microbiota_on_t.txt', '2008/German_et_al._-_2008_-_Human_Milk_Oligosaccharides_Evolution_Str.txt', '2008/Gopalan_and_Ausubel_-_2008_-_A_Metasystem_of_Framework_Model_Org.txt', '2008/Grice_et_al._-_2008_-_A_diversity_profile_of_the_human_skin_micr.txt', '2008/Grun_et_al._-_2008_-_GC-MS_methods_for_metabolic_profiling_of_mi.txt', '2008/Hawkins_et_al._-_2008_-_New_paradigm_in_protein_function_predict.txt', '2008/He_et_al._-_2008_-_The_role_of_colonic_metabolism_in_lactose_int.txt', '2008/Helmerhorst_et_al._-_2008_-_Identification_of_Lys-Pro-Gln_as_a_N.txt', '2008/Honey_-_2008_-_Good_bugs_bad_bugs_learning_what_we_can_from_the_.txt', '2008/Hord_-_2008_-_Eukaryotic-microbiota_crosstalk_Potential_mechanis.txt', '2008/Hotamisligil_and_Erbay_-_2008_-_Nutrient_sensing_and_inflammatio.txt', '2008/Hsiao_et_al._-_2008_-_The_Microbes_of_the_Intestine_An_Introduct.txt', '2008/Hsieh_and_Versalovic_-_2008_-_The_human_microbiome_and_probiotic.txt', '2008/Huang_et_al._-_2008_-_Focal_Point_Theory_Models_for_Dissecting_D.txt', '2008/Huse_et_al._-_2008_-_Exploring_Microbial_Diversity_and_Taxonomy_.txt', '2008/Huyghe_et_al._-_2008_-_Novel_Microarray_design_strategy_to_study.txt', '2008/Huys_et_al._-_2008_-_Application_of_Sequence-Dependent_Electroph.txt', '2008/Ivanov_et_al._-_2008_-_Specific_microbiota_direct_the_differenti.txt', '2008/Jacobs_et_al._-_2008_-_H-1_NMR_metabolite_profiling_of_feces_as_.txt', '2008/Jain_et_al._-_2008_-_Phenotypic_Switching_in_Fungi.txt', '2008/Jones_et_al._-_2008_-_Functional_and_comparative_metagenomic_ana.txt', '2008/Kekkonen_et_al._-_2008_-_Effect_of_probiotic_Lactobacillus_rhamn.txt', '2008/Khachatryan_et_al._-_2008_-_Predominant_Role_of_Host_Genetics_in.txt', '2008/Korzenik_-_2008_-_Diverticulitis_New_Frontiers_for_an_Old_Countr.txt', '2008/Krause_et_al._-_2008_-_Phylogenetic_classification_of_short_envi.txt', '2008/Kunin_et_al._-_2008_-_A_Bioinformaticians_Guide_to_Metagenomics.txt', '2008/Kunin_et_al._-_2008_-_Millimeter-scale_genetic_gradients_and_com.txt', '2008/Kussmann_and_Fay_-_2008_-_Nutrigenomics_and_personalized_nutriti.txt', '2008/Lanzoni_et_al._-_2008_-_Inflammatory_bowel_disease_Moving_toward.txt', '2008/Lau_et_al._-_2008_-_Nutrigenomic_Analysis_of_Diet-Gene_Interacti.txt', '2008/Lebeer_et_al._-_2008_-_Genes_and_Molecules_of_Lactobacilli_Suppo.txt', '2008/Lee_et_al._-_2008_-_Comparative_genomic_analysis_of_the_gut_bact.txt', '2008/Lenard_and_Berthoud_-_2008_-_Central_and_Peripheral_Regulation_o.txt', '2008/Ley_et_al._-_2008_-_Evolution_of_mammals_and_their_gut_microbes.txt', '2008/Ley_et_al._-_2008_-_Worlds_within_worlds_evolution_of_the_verteb.txt', '2008/Li_et_al._-_2008_-_Probing_Metagenomics_by_Rapid_Cluster_Analysi.txt', '2008/Li_et_al._-_2008_-_Symbiotic_gut_microbes_modulate_human_metabol.txt', '2008/Lintner_et_al._-_2008_-_Limited_functional_conservation_of_a_glo.txt', '2008/Liolios_et_al._-_2008_-_The_Genomes_On_Line_Database_GOLD_in_200.txt', '2008/Liu_et_al._-_2008_-_Accurate_taxonomy_assignments_from_16S_rRNA_.txt', '2008/Lombardo_-_2008_-_Access_to_Mutualistic_Endosymbiotic_Microbes_A.txt', '2008/Lozupone_and_Knight_-_2008_-_Species_Divergence_and_the_Measurem.txt', '2008/Lynch_and_Wiener-Kronish_-_2008_-_Novel_Strategies_to_Combat_Bac.txt', '2008/Maher_et_al._-_2008_-_Beyond_Insulin_Resistance_Innate_Immunity_.txt', '2008/Manichanh_et_al._-_2008_-_A_comparison_of_random_sequence_reads_.txt', '2008/Mansfield_et_al._-_2008_-_Genetic_background_of_IL-10_mice_alter.txt', '2008/Mardis_-_2008_-_Next-generation_DNA_sequencing_methods.txt', '2008/Mardis_-_2008_-_The_impact_of_next-generation_sequencing_technol.txt', '2008/Markowitz_et_al._-_2008_-_IMGM_a_data_management_and_analysis_sy.txt', '2008/Martin_et_al._-_2008_-_Probiotic_modulation_of_symbiotic_gut_mic.txt', '2008/Martin_et_al._-_2008_-_Top-down_systems_biology_integration_of_c.txt', '2008/Mazmanian_et_al._-_2008_-_A_microbial_symbiosis_factor_prevents_.txt', '2008/McCrea_et_al._-_2008_-_Relationships_of_Nontypeable_Haemophilus_.txt', '2008/McGrath_et_al._-_2008_-_Isolation_and_analysis_of_mRNA_from_envi.txt', '2008/McGuire_et_al._-_2008_-_Ethical_legal_and_social_considerations_.txt', '2008/McKenna_et_al._-_2008_-_The_Macaque_Gut_Microbiome_in_Health_Len.txt', '2008/Medini_et_al._-_2008_-_Microbiology_in_the_post-genomic_era.txt', '2008/Millar_et_al._-_2008_-_New_developments_in_ancient_genomics.txt', '2008/Mishra_et_al._-_2008_-_Lipopolysaccharide_increases_cell_surface.txt', '2008/Mkinen_et_al._-_2008_-_1H_NMR_metabonomics_approach_to_the_disea.txt', '2008/Mshvildadze_et_al._-_2008_-_Intestinal_microbiota_development_in.txt', '2008/Munford_-_2008_-_Sensing_Gram-Negative_Bacterial_Lipopolysacchar.txt', '2008/Murdoch_et_al._-_2008_-_Urinary_metabolic_profiles_of_inflammato.txt', '2008/Nathan_-_2008_-_Epidemic_Inflammation_Pondering_Obesity.txt', '2008/OToole_and_Cooney_-_2008_-_Probiotic_Bacteria_Influence_the_Comp.txt', '2008/Oakley_et_al._-_2008_-_Diversity_of_human_vaginal_bacterial_comm.txt', '2008/Oshima_et_al._-_2008_-_Complete_Genome_Sequence_and_Comparative_.txt', '2008/Park_and_Kim_-_2008_-_A_biological_treasure_metagenome_pave_a_wa.txt', '2008/Paxson_-_2008_-_Post-Pasteurian_Cultures_The_Microbiopolitics_of.txt', '2008/Peitsaro_et_al._-_2008_-_Evolution_of_a_family_of_metazoan_activ.txt', '2008/Peterson_et_al._-_2008_-_Metagenomic_Approaches_for_Defining_the.txt', '2008/Petri_et_al._-_2008_-_Enteric_infections_diarrhea_and_their_impa.txt', '2008/Pham_et_al._-_2008_-_Methods_for_generating_and_colonizing_gnoto.txt', '2008/Pierce_et_al._-_2008_-_The_Complete_Genome_Sequence_of_Moorella_.txt', '2008/Pop_and_Salzberg_-_2008_-_Bioinformatics_challenges_of_new_seque.txt', '2008/Prentice_et_al._-_2008_-_New_challenges_in_studying_nutrition-di.txt', '2008/Pride_and_Schoenfeld_-_2008_-_Genome_signature_analysis_of_therm.txt', '2008/Qu_et_al._-_2008_-_Comparative_Metagenomics_Reveals_Host_Specifi.txt', '2008/Rabizadeh_and_Sears_-_2008_-_New_Horizons_for_the_Infectious_Dis.txt', '2008/Raloff_and_R._-_2008_-_Nurturing_Our_Microbes_Stewardship_of_the.txt', '2008/Richter_et_al._-_2008_-_MetaSimA_Sequencing_Simulator_for_Genomi.txt', '2008/Ruby_-_2008_-_Symbiotic_conversations_are_revealed_under_genetic.txt', '2008/Sanz_et_al._-_2008_-_Insights_into_the_Roles_of_Gut_Microbes_in_.txt', '2008/Saric_et_al._-_2008_-_Metabolic_Profiling_of_an_Echinostoma_capr.txt', '2008/Sartor_-_2008_-_Therapeutic_correction_of_bacterial_dysbiosis_di.txt', '2008/Scanlan_et_al._-_2008_-_Human_methanogen_diversity_and_incidence.txt', '2008/Schenk_et_al._-_2008_-_Plant-Microbe_and_Plant-Insect_Interactio.txt', '2008/Schloss_and_Handelsman_-_2008_-_A_statistical_toolbox_for_metage.txt', '2008/Schmidt_and_Mangelsdorf_-_2008_-_Nuclear_receptors_of_the_enteri.txt', '2008/Sela_et_al._-_2008_-_The_genome_sequence_of_Bifidobacterium_long.txt', '2008/Sharma_et_al._-_2008_-_From_bacterial_genomics_to_metagenomics_c.txt', '2008/Sibley_et_al._-_2008_-_A_polymicrobial_perspective_of_pulmonary_.txt', '2008/Simmons_et_al._-_2008_-_Population_Genomic_Analysis_of_Strain_Va.txt', '2008/Sobel_et_al._-_2008_-_The_Evolution_of_Molecular_Genetic_Patholo.txt', '2008/Somm_et_al._-_2008_-_Prenatal_Nicotine_Exposure_Alters_Early_Pan.txt', '2008/Spiro_et_al._-_2008_-_Drug-therapy_networks_and_the_prediction_o.txt', '2008/Srikanth_and_McCormick_-_2008_-_Interactions_of_the_Intestinal_E.txt', '2008/Srinivasan_and_Fredricks_-_2008_-_The_Human_Vaginal_Bacterial_Bi.txt', '2008/Suzuki_et_al._-_2008_-_Using_Mahalanobis_distance_to_compare_gen.txt', '2008/Tamames_and_Moya_-_2008_-_Estimating_the_extent_of_horizontal_ge.txt', '2008/Tennyson_and_Friedman_-_2008_-_Microecology_obesity_and_probioti.txt', '2008/Thiele_and_Gitlin_-_2008_-_Assembling_the_pieces.txt', '2008/Tito_et_al._-_2008_-_Phylotyping_and_Functional_Analysis_of_Two_.txt', '2008/Turnbaugh_and_Gordon_-_2008_-_An_invitation_to_the_marriage_of_m.txt', '2008/Turnbaugh_et_al._-_2008_-_Diet-induced_obesity_is_linked_to_mark.txt', '2008/Turroni_et_al._-_2008_-_Human_gut_microbiota_and_bifidobacteria_.txt', '2008/Urich_et_al._-_2008_-_Simultaneous_Assessment_of_Soil_Microbial_.txt', '2008/Vaishnava_et_al._-_2008_-_Paneth_cells_directly_sense_gut_commen.txt', '2008/Vakhlu_et_al._-_2008_-_Metagenomics_Future_of_microbial_gene_min.txt', '2008/Valdivia-Granda_-_2008_-_The_next_meta-challenge_for_Bioinformat.txt', '2008/Walk_and_Young_-_2008_-_Emerging_Insights_into_Antibiotic-Associ.txt', '2008/Walter_-_2008_-_Ecological_Role_of_Lactobacilli_in_the_Gastroint.txt', '2008/Wang_-_2008_-_Editorial.txt', '2008/Wang_et_al._-_2008_-_Human_Symbiont_Bacteroides_thetaiotaomicron.txt', '2008/Weiss_et_al._-_2008_-_An_insect_symbiosis_is_influenced_by_bacte.txt', '2008/Wen_et_al._-_2008_-_Innate_immunity_and_intestinal_microbiota_in.txt', '2008/Wilmes_et_al._-_2008_-_Metaproteomics_Provides_Functional_Insigh.txt', '2008/Wolowczuk_et_al._-_2008_-_Feeding_Our_Immune_System_Impact_on_Me.txt', '2008/Yap_et_al._-_2008_-_Metabonomic_and_microbiological_analysis_of_.txt', '2008/Yilmaz_-_2008_-_The_chronicles_of_Porphyromonas_gingivalis_the_m.txt', '2008/Yin_et_al._-_2008_-_Traditional_Chinese_Medicine_in_Treatment_of.txt', '2008/Yooseph_et_al._-_2008_-_Gene_identification_and_protein_classifi.txt', '2008/Young_et_al._-_2008_-_The_Human_Microbiome_and_Infectious_Diseas.txt', '2008/Zaneveld_et_al._-_2008_-_Host-bacterial_coevolution_and_the_sear.txt', '2008/Zhang_and_Gladyshev_-_2008_-_Trends_in_Selenium_Utilization_in_M.txt', '2008/Ziring_and_Braun_-_2008_-_Pediatric_Inflammatory_Bowel_Disease_R.txt', '2008/de_Wit_et_al._-_2008_-_The_role_of_the_small_intestine_in_the_de.txt', '2009/2009_-_Article_Watch.txt', '2009/2009_-_Benefits_and_Best_Practices_of_Rapid_Pre-Publication_Data.txt', '2009/2009_-_In_This_Issue.txt', '2009/2009_-_Proceedings_of_the_2009_Conference_on_Gastrointestinal_Fu.txt', '2009/Abraham_and_Cho_-_2009_-_Inflammatory_Bowel_Disease.txt', '2009/Ahmed_et_al._-_2009_-_Gut_Pathogens_enteric_health_at_the_interf(1).txt', '2009/Ahmed_et_al._-_2009_-_Gut_Pathogens_enteric_health_at_the_interf(2).txt', '2009/Ahmed_et_al._-_2009_-_Gut_Pathogens_enteric_health_at_the_interf.txt', '2009/Ahmed_et_al._-_2009_-_Use_of_metagenomics_to_understand_the_gene.txt', '2009/Anderson_-_2009_-_Structural_Genomics_and_Drug_Discovery_for_Inf.txt', '2009/Angly_et_al._-_2009_-_The_GAAS_Metagenomic_Tool_and_Its_Estimati.txt', '2009/Arigoni_and_Brssow_-_2009_-_Food_and_gut_microbes_for_thoughts.txt', '2009/Armougom_et_al._-_2009_-_Monitoring_Bacterial_Community_of_Human.txt', '2009/Auffray_et_al._-_2009_-_Systems_medicine_the_future_of_medical_g.txt', '2009/Avila_et_al._-_2009_-_The_Oral_Microbiota_Living_with_a_Permanen.txt', '2009/Aziz_-_2009_-_The_case_for_biocentric_microbiology.txt', '2009/Baba_et_al._-_2009_-_Selected_commensal-related_bacteria_and_Tol(1).txt', '2009/Baba_et_al._-_2009_-_Selected_commensal-related_bacteria_and_Tol(2).txt', '2009/Baba_et_al._-_2009_-_Selected_commensal-related_bacteria_and_Tol.txt', '2009/Balish_-_2009_-_A_URA3_null_mutant_of_Candida_albicans_CAI-4_cau.txt', '2009/Barakat_et_al._-_2009_-_P2CS_a_two-component_system_resource_for.txt', '2009/Barrangou_et_al._-_2009_-_Comparison_of_the_Complete_Genome_Sequ.txt', '2009/Barrett_-_2009_-_The_world_within__impact_of_the_intestinal_mico.txt', '2009/Barros_and_Offenbacher_-_2009_-_Epigenetics.txt', '2009/Barshop_et_al._-_2009_-_Nonalcoholic_fatty_liver_disease_as_a_co.txt', '2009/Basdevant_and_Ciangura_-_2009_-_New_insights_into_obesity.txt', '2009/Beloborodov_et_al._-_2009_-_Microbial_origin_of_phenylcarboxylic.txt', '2009/Berg_Miller_et_al._-_2009_-_Diversity_and_Strain_Specificity_of_.txt', '2009/Bergholz_et_al._-_2009_-_Psychrobacter_arcticus_273-4_Uses_Resou.txt', '2009/Berglund_et_al._-_2009_-_Computational_Resources_in_Infectious_D.txt', '2009/Bernini_et_al._-_2009_-_Individual_Human_Phenotypes_in_Metabolic.txt', '2009/Bisseling_et_al._-_2009_-_Editorial_Next-Generation_Communicatio.txt', '2009/Brosius_et_al._-_2009_-_Mouse_Models_of_Diabetic_Nephropathy.txt', '2009/Brulc_et_al._-_2009_-_Gene-centric_metagenomics_of_the_fiber-adh.txt', '2009/Burcelin_et_al._-_2009_-_The_gut_microbiota_ecology_a_new_opport.txt', '2009/Camp_et_al._-_2009_-_Patterns_and_Scales_in_Gastrointestinal_Mic.txt', '2009/Cani_et_al._-_2009_-_Changes_in_gut_microbiota_control_inflammat.txt', '2009/Carman_et_al._-_2009_-_Identification_and_expression_of_a_novel_.txt', '2009/Carroll_et_al._-_2009_-_The_gastrointestinal_microbiome_a_mallea.txt', '2009/Carten_and_Farber_-_2009_-_A_new_model_system_swims_into_focus_u.txt', '2009/Castro_et_al._-_2009_-_Strategic_Plan_for_Pediatric_Respiratory_.txt', '2009/Chapalain_et_al._-_2009_-_Bacterial_Ortholog_of_Mammalian_Transl.txt', '2009/Chew_and_Holmes_-_2009_-_Suppression_subtractive_hybridisation_a.txt', '2009/Claesson_et_al._-_2009_-_Comparative_Analysis_of_Pyrosequencing_.txt', '2009/Claud_-_2009_-_Neonatal_Necrotizing_Enterocolitis_Inflammation_a.txt', '2009/Clayton_et_al._-_2009_-_Pharmacometabonomic_identification_of_a_.txt', '2009/Collino_et_al._-_2009_-_Monitoring_Healthy_Metabolic_Trajectorie.txt', '2009/Copeland_et_al._-_2009_-_Complete_genome_sequence_of_Atopobium_p.txt', '2009/Corbett_and_Roberts_-_2009_-_The_role_of_microbial_polysaccharid.txt', '2009/Corella_and_Ordovas_-_2009_-_Nutrigenomics_in_cardiovascular_med.txt', '2009/Costello_et_al._-_2009_-_Bacterial_Community_Variation_in_Human_.txt', '2009/Cover_and_Blaser_-_2009_-_Helicobacter_pylori_in_health_and_dise.txt', '2009/Cozen_et_al._-_2009_-_A_protective_role_for_early_oral_exposures.txt', '2009/Crawford_et_al._-_2009_-_Regulation_of_myocardial_ketone_body_me.txt', '2009/Croswell_et_al._-_2009_-_Prolonged_Impact_of_Antibiotics_on_Inte.txt', '2009/Culligan_et_al._-_2009_-_Probiotics_and_gastrointestinal_disease(1).txt', '2009/Culligan_et_al._-_2009_-_Probiotics_and_gastrointestinal_disease(2).txt', '2009/Culligan_et_al._-_2009_-_Probiotics_and_gastrointestinal_disease.txt', '2009/Das_et_al._-_2009_-_The_structure_of_KPN03535_gi152972051_a_nove.txt', '2009/Davies_-_2009_-_Darwin_and_microbiomes.txt', '2009/De_Vos_-_2009_-_Mining_the_microbes__the_human_microbiome_as_mod.txt', '2009/Dessailly_et_al._-_2009_-_PSI-2_Structural_Genomics_to_Cover_Pro.txt', '2009/DiGiulio_and_Relman_-_2009_-_Editorial_Commentary_Majority_Rules.txt', '2009/Dick_et_al._-_2009_-_Community-wide_analysis_of_microbial_genome.txt', '2009/Dinalo_and_Relman_-_2009_-_Cross-talk_in_the_gut.txt', '2009/Ding_et_al._-_2009_-_Biotransformation_of_aesculin_by_human_gut_.txt', '2009/Dong_et_al._-_2009_-_Implication_of_the_Mosquito_Midgut_Microbio.txt', '2009/Dorer_et_al._-_2009_-_Helicobacter_pyloris_Unconventional_Role_i.txt', '2009/Dougherty_et_al._-_2009_-_EGFR_is_required_for_Colonic_Tumor_Pro.txt', '2009/Downes_et_al._-_2009_-_Pyramidobacter_piscolens_gen._nov._sp._no.txt', '2009/Evans_et_al._-_2009_-_Community_Composition_and_Density_of_Metha.txt', '2009/Faith_et_al._-_2009_-_The_Cladistic_Basis_for_the_Phylogenetic_D.txt', '2009/Falony_et_al._-_2009_-_Coculture_Fermentations_of_Bifidobacteriu.txt', '2009/Fricke_et_al._-_2009_-_The_Role_of_Genomics_in_the_Identificatio.txt', '2009/Fukiya_et_al._-_2009_-_Conversion_of_cholic_acid_and_chenodeoxyc.txt', '2009/Fukuda_et_al._-_2009_-_Evaluation_and_Characterization_of_Bacter.txt', '2009/Goodman_et_al._-_2009_-_Identifying_genetic_determinants_needed_.txt', '2009/Grice_et_al._-_2009_-_Topographical_and_Temporal_Diversity_of_th.txt', '2009/Guazzaroni_et_al._-_2009_-_Metagenomics_as_a_new_technological_t.txt', '2009/Gueimonde_et_al._-_2009_-_Bile-Inducible_Efflux_Transporter_from.txt', '2009/Haemer_et_al._-_2009_-_The_Effect_of_Neurohormonal_Factors_Epige.txt', '2009/Hamady_and_Knight_-_2009_-_Microbial_community_profiling_for_hum.txt', '2009/Hamp_et_al._-_2009_-_Effects_of_Experimental_Choices_and_Analysi.txt', '2009/Hartman_et_al._-_2009_-_Human_gut_microbiome_adopts_an_alternati.txt', '2009/Hattori_and_Taylor_-_2009_-_The_Human_Intestinal_Microbiome_A_Ne.txt', '2009/He_and_Shi_-_2009_-_Oral_Microbiology_Past_Present_and_Future.txt', '2009/Henderson_et_al._-_2009_-_Quantitative_Metabolomics_Reveals_an_E.txt', '2009/Hermon-Taylor_-_2009_-_Gut_pathogens_invaders_and_turncoats_in_a.txt', '2009/Hermon-Taylor_-_2009_-_Mycobacterium_avium_subspecies_paratuberc.txt', '2009/Hildebrandt_et_al._-_2009_-_High-fat_diet_determines_the_composi.txt', '2009/Hoffmann_et_al._-_2009_-_Community-Wide_Response_of_the_Gut_Micr.txt', '2009/Horton_et_al._-_2009_-_A_Comparative_Analysis_of_Gene_Expression.txt', '2009/Hoyles_and_McCartney_-_2009_-_What_do_we_mean_when_we_refer_to_B.txt', '2009/Humblot_and_Guyot_-_2009_-_Pyrosequencing_of_Tagged_16S_rRNA_Gen.txt', '2009/Hunter_-_2009_-_The_secret_garden._The_human_digestive_system_is.txt', '2009/Huson_et_al._-_2009_-_Methods_for_comparative_metagenomics.txt', '2009/Istomin_and_Godzik_-_2009_-_Understanding_diversity_of_human_inn.txt', '2009/Ivanov_et_al._-_2009_-_Induction_of_intestinal_Th17_cells_by_seg.txt', '2009/Jackson-Rosario_and_Self_-_2009_-_Inhibition_of_Selenium_Metabol.txt', '2009/Jacobs_et_al._-_2009_-_Non-Digestible_Food_Ingredients_Colonic_M.txt', '2009/Jansson_et_al._-_2009_-_Metabolomics_Reveals_Metabolic_Biomarker.txt', '2009/Jones_and_Versalovic_-_2009_-_Probiotic_Lactobacillus_reuteri_bi.txt', '2009/Joosen_et_al._-_2009_-_Effect_of_processed_and_red_meat_on_endog.txt', '2009/Joyce_et_al._-_2009_-_Streptococcus_pneumoniae_nasopharyngeal_co.txt', '2009/Kastenmller_et_al._-_2009_-_Uncovering_metabolic_pathways_releva.txt', '2009/Keller_and_Hettich_-_2009_-_Environmental_Proteomics_a_Paradigm_.txt', '2009/Khafipour_et_al._-_2009_-_Rumen_Microbiome_Composition_Determine.txt', '2009/Kind_et_al._-_2009_-_How_Large_Is_the_Metabolome_A_Critical_Anal.txt', '2009/Kinross_et_al._-_2009_-_Intestinal_ischemiareperfusion_injury_de.txt', '2009/Kinross_et_al._-_2009_-_The_Gut_Microbiota_as_a_Target_for_Impro.txt', '2009/Koo_et_al._-_2009_-_The_role_of_rifaximin_in_the_treatment_and_c.txt', '2009/Kosakovsky_Pond_et_al._-_2009_-_Windshield_splatter_analysis_wit.txt', '2009/Kovatcheva-Datchary_et_al._-_2009_-_Tools_for_the_Tract_Understa.txt', '2009/Kreth_et_al._-_2009_-_Bacterial_and_Host_Interactions_of_Oral_St.txt', '2009/Krogius-Kurikka_et_al._-_2009_-_Sequence_analysis_of_percent_GC_.txt', '2009/LACKNER_et_al._-_2009_-_The_Gastrointestinal_Tract_and_AIDS_Path.txt', '2009/LaButti_et_al._-_2009_-_Complete_genome_sequence_of_Anaerococcus.txt', '2009/Lai_et_al._-_2009_-_Commensal_bacteria_regulate_TLR3-dependent_i.txt', '2009/Lam_et_al._-_2009_-_Revising_the_nitrogen_cycle_in_the_Peruvian_.txt', '2009/Lazarevic_et_al._-_2009_-_Metagenomic_study_of_the_oral_microbio.txt', '2009/Lee_and_Hallam_-_2009_-_Extraction_of_High_Molecular_Weight_Geno.txt', '2009/Leser_and_Molbak_-_2009_-_Better_living_through_microbial_action.txt', '2009/Lesouhaitier_et_al._-_2009_-_Gram-Negative_Bacterial_Sensors_for.txt', '2009/Li_-_2009_-_Analysis_and_comparison_of_very_large_metagenomes_wi.txt', '2009/Li_et_al._-_2009_-_Bacterial_Microbiota_Profiling_in_Gastritis_w.txt', '2009/Li_et_al._-_2009_-_Bioprospecting_metagenomes_glycosyl_hydrolase.txt', '2009/Li_et_al._-_2009_-_Molecular_diversity_of_Bacteroides_spp._in_hu(1).txt', '2009/Li_et_al._-_2009_-_Molecular_diversity_of_Bacteroides_spp._in_hu(2).txt', '2009/Li_et_al._-_2009_-_Molecular_diversity_of_Bacteroides_spp._in_hu.txt', '2009/Lim_et_al._-_2009_-_TLR3-mediated_NF-B_signaling_in_human_esopha(1).txt', '2009/Lim_et_al._-_2009_-_TLR3-mediated_NF-B_signaling_in_human_esopha(2).txt', '2009/Lim_et_al._-_2009_-_TLR3-mediated_NF-B_signaling_in_human_esopha.txt', '2009/Liu_et_al._-_2009_-_Isolation_incubation_and_parallel_functional.txt', '2009/LoCascio_et_al._-_2009_-_A_versatile_and_scalable_strategy_for_g.txt', '2009/Lu_et_al._-_2009_-_Next-Generation_Synthetic_Gene_Networks.txt', '2009/Lyra_et_al._-_2009_-_Diarrhoea-predominant_irritable_bowel_syndr.txt', '2009/Mahowald_et_al._-_2009_-_Characterizing_a_model_human_gut_microb(1).txt', '2009/Mahowald_et_al._-_2009_-_Characterizing_a_model_human_gut_microb(2).txt', '2009/Mahowald_et_al._-_2009_-_Characterizing_a_model_human_gut_microb.txt', '2009/Mai_and_Draganov_-_2009_-_Recent_advances_and_remaining_gaps_in_(1).txt', '2009/Mai_and_Draganov_-_2009_-_Recent_advances_and_remaining_gaps_in_(2).txt', '2009/Mai_and_Draganov_-_2009_-_Recent_advances_and_remaining_gaps_in_.txt', '2009/Maier_et_al._-_2009_-_Ultra-Structure_database_design_methodolog.txt']"
      ]
     },
     "execution_count": 81,
     "metadata": {},
     "output_type": "execute_result"
    }
   ],
   "source": [
    "wordlists.fileids()"
   ]
  },
  {
   "cell_type": "code",
   "execution_count": 74,
   "metadata": {},
   "outputs": [
    {
     "data": {
      "text/plain": [
       "['crohns', '-', 'disease', ',', 'double', '-', 'blind', ...]"
      ]
     },
     "execution_count": 74,
     "metadata": {},
     "output_type": "execute_result"
    }
   ],
   "source": [
    "# the words from a particular text file\n",
    "wordlists.words('2001/Hooper_and_Gordon_-_2001_-_Commensal_host-bacterial_relationship.txt')"
   ]
  },
  {
   "cell_type": "code",
   "execution_count": null,
   "metadata": {},
   "outputs": [],
   "source": [
    "# provide a file pattern that matches the files contained within its subfolders use forward slashes\n",
    "\n",
    "from nltk.corpus import BracketParseCorpusReader\n",
    "corpus_root = r\"C:\\corpora\\penntreebank\\parsed\\mrg\\wsj\"\n",
    "file_pattern = r\".*/wsj_.*\\.mrg\"\n",
    "ptb = BracketParseCorpusReader(corpus_root, file_pattern)\n",
    "ptb.fileids()"
   ]
  },
  {
   "cell_type": "code",
   "execution_count": null,
   "metadata": {},
   "outputs": [],
   "source": []
  }
 ],
 "metadata": {
  "kernelspec": {
   "display_name": "Python 3",
   "language": "python",
   "name": "python3"
  },
  "language_info": {
   "codemirror_mode": {
    "name": "ipython",
    "version": 3
   },
   "file_extension": ".py",
   "mimetype": "text/x-python",
   "name": "python",
   "nbconvert_exporter": "python",
   "pygments_lexer": "ipython3",
   "version": "3.7.4"
  }
 },
 "nbformat": 4,
 "nbformat_minor": 2
}
